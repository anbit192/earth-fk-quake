{
 "cells": [
  {
   "cell_type": "markdown",
   "metadata": {},
   "source": [
    "# THƯ VIỆN"
   ]
  },
  {
   "cell_type": "code",
   "execution_count": 1,
   "metadata": {},
   "outputs": [],
   "source": [
    "import numpy as np\n",
    "import pandas as pd\n",
    "\n",
    "from sklearn.preprocessing import StandardScaler, MinMaxScaler\n",
    "from sklearn.model_selection import train_test_split\n",
    "\n",
    "from sklearn import metrics\n",
    "from sklearn.metrics import mean_squared_error, accuracy_score, confusion_matrix, precision_score, recall_score, f1_score, r2_score, ConfusionMatrixDisplay\n",
    "\n",
    "import matplotlib.pyplot as plt\n",
    "from mpl_toolkits.mplot3d import Axes3D\n",
    "import seaborn as sns\n",
    "\n",
    "from datetime import datetime as dt"
   ]
  },
  {
   "cell_type": "code",
   "execution_count": 2,
   "metadata": {},
   "outputs": [],
   "source": [
    "from sklearn.decomposition import PCA\n",
    "from sklearn.linear_model import LinearRegression\n",
    "from sklearn.naive_bayes import GaussianNB, MultinomialNB, BernoulliNB\n",
    "from sklearn.linear_model import LogisticRegression\n",
    "\n",
    "from tensorflow import keras, optimizers\n",
    "from tensorflow.keras.utils import to_categorical\n",
    "from tensorflow.keras import callbacks"
   ]
  },
  {
   "cell_type": "markdown",
   "metadata": {},
   "source": [
    "# ĐỌC VÀ CHIA DỮ LIỆU"
   ]
  },
  {
   "cell_type": "code",
   "execution_count": 3,
   "metadata": {},
   "outputs": [],
   "source": [
    "train_values = pd.read_csv(\"train_values.csv\")\n",
    "train_labels = pd.read_csv(\"train_labels.csv\")\n",
    "test_values = pd.read_csv(\"test_values.csv\")\n",
    "submission_format = pd.read_csv(\"submission_format.csv\")"
   ]
  },
  {
   "cell_type": "code",
   "execution_count": 4,
   "metadata": {},
   "outputs": [
    {
     "data": {
      "text/plain": [
       "260601"
      ]
     },
     "execution_count": 4,
     "metadata": {},
     "output_type": "execute_result"
    }
   ],
   "source": [
    "nepal_data = train_values.merge(train_labels, how='inner', on='building_id')\n",
    "len(nepal_data)"
   ]
  },
  {
   "cell_type": "code",
   "execution_count": 5,
   "metadata": {},
   "outputs": [
    {
     "name": "stdout",
     "output_type": "stream",
     "text": [
      "260601\n",
      "260601\n"
     ]
    }
   ],
   "source": [
    "x = pd.read_csv(\"train_values.csv\", index_col=\"building_id\")\n",
    "y = pd.read_csv(\"train_labels.csv\", index_col=\"building_id\") - 1\n",
    "print(len(x))\n",
    "print(len(y))"
   ]
  },
  {
   "cell_type": "code",
   "execution_count": 6,
   "metadata": {},
   "outputs": [],
   "source": [
    "scaler = StandardScaler()"
   ]
  },
  {
   "cell_type": "markdown",
   "metadata": {},
   "source": [
    "* one hot encode và scale"
   ]
  },
  {
   "cell_type": "code",
   "execution_count": 7,
   "metadata": {},
   "outputs": [],
   "source": [
    "encoded_temp = pd.get_dummies(x[\"count_floors_pre_eq\"], prefix=\"count_floors\").astype(int)\n",
    "X_encoded = pd.get_dummies(x, dtype=int).drop(columns=\"count_floors_pre_eq\")\n",
    "\n",
    "for temp_col in encoded_temp.columns:\n",
    "    X_encoded[temp_col] = encoded_temp[temp_col]\n",
    "\n",
    "X0 = X_encoded.copy(deep=True)\n",
    "scaled_X_encoded = scaler.fit_transform(X0)\n",
    "\n",
    "pca = PCA(n_components=10)\n",
    "# PCA 10 chiều với X_encoded \n",
    "pca_x_encoded = pca.fit_transform(X0)\n",
    "# PCA 10 chiều với scaled_X_encoded\n",
    "pca_scaled_x_encoded = pca.fit_transform(scaled_X_encoded)\n",
    "\n",
    "# X_encoded là X áp dụng one hot encode\n",
    "# scaled_X_encoded là X áp dụng one hot encode và scale"
   ]
  },
  {
   "cell_type": "code",
   "execution_count": 8,
   "metadata": {},
   "outputs": [
    {
     "name": "stdout",
     "output_type": "stream",
     "text": [
      "208480\n",
      "208480\n",
      "52121\n",
      "52121\n"
     ]
    }
   ],
   "source": [
    "x_train, x_val, y_train, y_val = train_test_split(x, y, test_size=0.2, random_state=192)\n",
    "print(len(x_train))\n",
    "print(len(y_train))\n",
    "print(len(x_val))\n",
    "print(len(y_val))"
   ]
  },
  {
   "cell_type": "code",
   "execution_count": 9,
   "metadata": {},
   "outputs": [],
   "source": [
    "x_encoded_train, x_encoded_val, y_train, y_val = train_test_split(X_encoded, y, test_size=0.2, random_state=192)\n",
    "scaled_x_encoded_train, scaled_x_encoded_val, y_train, y_val = train_test_split(scaled_X_encoded, y, test_size=0.2, random_state=192)\n",
    "pca_x_encoded_train, pca_x_encoded_val, y_train, y_val = train_test_split(pca_x_encoded, y, test_size=0.2, random_state=192)\n",
    "pca_scaled_x_encoded_train, pca_scaled_x_encoded_val, y_train, y_val = train_test_split(pca_scaled_x_encoded, y, test_size=0.2, random_state=192)"
   ]
  },
  {
   "cell_type": "markdown",
   "metadata": {},
   "source": [
    "* PCA 10 chiều với bộ scaled_X_encoded"
   ]
  },
  {
   "cell_type": "code",
   "execution_count": 10,
   "metadata": {},
   "outputs": [],
   "source": [
    "corrs = X0.corr()\n",
    "u,s,v = np.linalg.svd(corrs)\n",
    "eig_values, eig_vectors = s, u"
   ]
  },
  {
   "cell_type": "markdown",
   "metadata": {},
   "source": [
    "* Lượng thông tin mất mát khi bỏ đi còn 10 chiều: 66%"
   ]
  },
  {
   "cell_type": "code",
   "execution_count": 11,
   "metadata": {},
   "outputs": [
    {
     "data": {
      "text/plain": [
       "0.6594031508829912"
      ]
     },
     "execution_count": 11,
     "metadata": {},
     "output_type": "execute_result"
    }
   ],
   "source": [
    "np.sum(eig_values[10:]) / np.sum(eig_values)"
   ]
  },
  {
   "cell_type": "markdown",
   "metadata": {},
   "source": [
    "* Lượng thông tin còn lại khi giữ lại 10 chiều: 34%"
   ]
  },
  {
   "cell_type": "code",
   "execution_count": 12,
   "metadata": {},
   "outputs": [
    {
     "data": {
      "text/plain": [
       "0.3405968491170085"
      ]
     },
     "execution_count": 12,
     "metadata": {},
     "output_type": "execute_result"
    }
   ],
   "source": [
    "np.sum(eig_values[:10]) / np.sum(eig_values)"
   ]
  },
  {
   "cell_type": "markdown",
   "metadata": {},
   "source": [
    "# HQTT"
   ]
  },
  {
   "cell_type": "code",
   "execution_count": 13,
   "metadata": {},
   "outputs": [
    {
     "name": "stdout",
     "output_type": "stream",
     "text": [
      "208480\n",
      "52121\n"
     ]
    }
   ],
   "source": [
    "int_data=['geo_level_1_id', 'geo_level_2_id', 'geo_level_3_id',\n",
    "          'age', 'area_percentage', 'height_percentage', 'count_families']\n",
    "\n",
    "x_train_int = x_train[int_data]\n",
    "x_val_int = x_val[int_data]\n",
    "\n",
    "print(len(x_train_int))\n",
    "print(len(x_val_int))"
   ]
  },
  {
   "cell_type": "code",
   "execution_count": 14,
   "metadata": {},
   "outputs": [
    {
     "name": "stdout",
     "output_type": "stream",
     "text": [
      "time: 21000 microsecs\n"
     ]
    }
   ],
   "source": [
    "start = dt.now()\n",
    "\n",
    "regr = LinearRegression(fit_intercept=True)\n",
    "regr.fit(x_train_int, y_train)\n",
    "y_lr_pred = regr.predict(x_val_int)\n",
    "\n",
    "running_secs = (dt.now() - start).microseconds\n",
    "print(f\"time: {running_secs} microsecs\")"
   ]
  },
  {
   "cell_type": "code",
   "execution_count": 15,
   "metadata": {},
   "outputs": [
    {
     "name": "stdout",
     "output_type": "stream",
     "text": [
      "Coefs:  [[-4.43866462e-03  4.73623196e-05  1.59478174e-06  1.87923070e-04\n",
      "  -1.91452176e-02  2.05069546e-02  9.67524642e-02]]\n",
      "Intercept:  [1.19866305]\n"
     ]
    }
   ],
   "source": [
    "print(\"Coefs: \", regr.coef_)\n",
    "print(\"Intercept: \", regr.intercept_)"
   ]
  },
  {
   "cell_type": "code",
   "execution_count": 16,
   "metadata": {},
   "outputs": [
    {
     "data": {
      "text/plain": [
       "array([[0.98205558],\n",
       "       [1.27733256],\n",
       "       [1.35423117],\n",
       "       ...,\n",
       "       [1.29453597],\n",
       "       [1.19521676],\n",
       "       [1.14468617]])"
      ]
     },
     "execution_count": 16,
     "metadata": {},
     "output_type": "execute_result"
    }
   ],
   "source": [
    "y_lr_pred"
   ]
  },
  {
   "cell_type": "code",
   "execution_count": 17,
   "metadata": {},
   "outputs": [
    {
     "name": "stdout",
     "output_type": "stream",
     "text": [
      "MSE:  0.3633325307241982\n",
      "Loss:  9468.627416937967\n"
     ]
    }
   ],
   "source": [
    "# loss funcion\n",
    "mse = mean_squared_error(y_val, y_lr_pred)\n",
    "loss = mse * len(y_lr_pred)\n",
    "loss /= 2\n",
    "print(\"MSE: \", mse)\n",
    "print(\"Loss: \", loss)"
   ]
  },
  {
   "cell_type": "markdown",
   "metadata": {},
   "source": [
    "# NB"
   ]
  },
  {
   "cell_type": "code",
   "execution_count": 18,
   "metadata": {},
   "outputs": [],
   "source": [
    "class MixedNB2():\n",
    "    def __init__(self, continuous_idx, binary_idx):\n",
    "        self.continuous_idx = continuous_idx\n",
    "        self.binary_idx = binary_idx\n",
    "\n",
    "        self.gaussNB = GaussianNB()\n",
    "        self.berNB = BernoulliNB()\n",
    "\n",
    "    def fit(self, X, Y): # fit cả 2 model theo index truyền vào\n",
    "        self.gaussNB.fit(X.iloc[:,self.continuous_idx], Y)\n",
    "        self.berNB.fit(X.iloc[:, self.binary_idx], Y)\n",
    "\n",
    "    def predict(self, X):\n",
    "        y_pred = np.empty(X.shape[0])\n",
    "        pred_probs_gauss = self.gaussNB.predict_joint_log_proba(X.iloc[:,self.continuous_idx]) # Lấy ra log(P(X|c)) ứng với mỗi xi trong X_test truyền vào (trong khoảng continuous_idx)\n",
    "        pred_probs_bern = self.berNB.predict_joint_log_proba(X.iloc[:, self.binary_idx]) # Lấy ra log(P(X|c)) ứng với mỗi xi trong X_test truyền vào (trong khoảng binary_idx)\n",
    "        log_posts = pred_probs_gauss + pred_probs_bern # Tính log(P(y|c)) \n",
    "\n",
    "        for i in range(len(log_posts)):\n",
    "            y_pred[i] = np.argmax(log_posts[i])\n",
    "\n",
    "        return np.array(y_pred, dtype=int)"
   ]
  },
  {
   "cell_type": "code",
   "execution_count": 19,
   "metadata": {},
   "outputs": [
    {
     "data": {
      "text/plain": [
       "array([ 6,  7,  8,  9, 10, 11, 12, 13, 14, 15, 16, 18, 19, 20, 21, 22, 23,\n",
       "       24, 25, 26, 27, 28, 29, 30, 31, 32, 33, 34, 35, 36, 37, 38, 39, 40,\n",
       "       41, 42, 43, 44, 45, 46, 47, 48, 49, 50, 51, 52, 53, 54, 55, 56, 57,\n",
       "       58, 59, 60, 61, 62, 63, 64, 65, 66, 67, 68, 69, 70, 71, 72, 73, 74,\n",
       "       75], dtype=int64)"
      ]
     },
     "execution_count": 19,
     "metadata": {},
     "output_type": "execute_result"
    }
   ],
   "source": [
    "continuous_cols = np.array(['geo_level_1_id', 'geo_level_2_id', 'geo_level_3_id',\n",
    "       'age', 'area_percentage', 'height_percentage', 'count_families'])\n",
    "binary_cols = x_encoded_train[x_encoded_train.columns.difference(continuous_cols)].columns.to_numpy()\n",
    "\n",
    "continuous_idxs = np.sort(x_encoded_train.columns.get_indexer(continuous_cols))\n",
    "binary_idxs = np.sort(x_encoded_train.columns.get_indexer(binary_cols))\n",
    "\n",
    "binary_idxs"
   ]
  },
  {
   "cell_type": "code",
   "execution_count": 20,
   "metadata": {},
   "outputs": [
    {
     "name": "stderr",
     "output_type": "stream",
     "text": [
      "d:\\Python\\Lib\\site-packages\\sklearn\\utils\\validation.py:1300: DataConversionWarning: A column-vector y was passed when a 1d array was expected. Please change the shape of y to (n_samples, ), for example using ravel().\n",
      "  y = column_or_1d(y, warn=True)\n",
      "d:\\Python\\Lib\\site-packages\\sklearn\\utils\\validation.py:1300: DataConversionWarning: A column-vector y was passed when a 1d array was expected. Please change the shape of y to (n_samples, ), for example using ravel().\n",
      "  y = column_or_1d(y, warn=True)\n"
     ]
    },
    {
     "name": "stdout",
     "output_type": "stream",
     "text": [
      "time: 387949 microsecs\n"
     ]
    }
   ],
   "source": [
    "start = dt.now()\n",
    "\n",
    "mNB2 = MixedNB2(continuous_idxs, binary_idxs)\n",
    "mNB2.fit(x_encoded_train, y_train)\n",
    "y_NB_pred = mNB2.predict(x_encoded_val)\n",
    "\n",
    "running_secs = (dt.now() - start).microseconds\n",
    "print(f\"time: {running_secs} microsecs\")"
   ]
  },
  {
   "cell_type": "code",
   "execution_count": 21,
   "metadata": {},
   "outputs": [
    {
     "data": {
      "text/plain": [
       "array([0, 1, 1, ..., 1, 0, 1])"
      ]
     },
     "execution_count": 21,
     "metadata": {},
     "output_type": "execute_result"
    }
   ],
   "source": [
    "y_NB_pred"
   ]
  },
  {
   "cell_type": "code",
   "execution_count": 22,
   "metadata": {},
   "outputs": [
    {
     "name": "stdout",
     "output_type": "stream",
     "text": [
      "              precision    recall  f1-score   support\n",
      "\n",
      "           0     0.4411    0.5277    0.4805      5056\n",
      "           1     0.6185    0.7026    0.6579     29611\n",
      "           2     0.5074    0.3615    0.4222     17454\n",
      "\n",
      "    accuracy                         0.5714     52121\n",
      "   macro avg     0.5223    0.5306    0.5202     52121\n",
      "weighted avg     0.5641    0.5714    0.5617     52121\n",
      "\n"
     ]
    }
   ],
   "source": [
    "print(metrics.classification_report(y_val, y_NB_pred, digits=4))"
   ]
  },
  {
   "cell_type": "code",
   "execution_count": 23,
   "metadata": {},
   "outputs": [
    {
     "name": "stdout",
     "output_type": "stream",
     "text": [
      "[[ 2668  2137   251]\n",
      " [ 2933 20805  5873]\n",
      " [  448 10697  6309]]\n"
     ]
    },
    {
     "data": {
      "image/png": "[encoded data removed]",
      "text/plain": [
       "<Figure size 640x480 with 1 Axes>"
      ]
     },
     "metadata": {},
     "output_type": "display_data"
    }
   ],
   "source": [
    "cm = metrics.confusion_matrix(y_val, y_NB_pred)\n",
    "metrics.ConfusionMatrixDisplay(cm, display_labels=[\"damage_grade 0\", \"damage_grade 1\", \"damage_grade 2\"]).plot(colorbar=False)\n",
    "print(cm)"
   ]
  },
  {
   "cell_type": "code",
   "execution_count": 24,
   "metadata": {},
   "outputs": [
    {
     "name": "stdout",
     "output_type": "stream",
     "text": [
      "Accuracy: 0.5714011626791504\n",
      "Precision: 0.56408447331542\n",
      "Recall: 0.5714011626791504\n",
      "F1 Score: 0.5617389709502685\n"
     ]
    }
   ],
   "source": [
    "accuracy = accuracy_score(y_val, y_NB_pred)\n",
    "precision = precision_score(y_val, y_NB_pred, average='weighted')\n",
    "recall = recall_score(y_val, y_NB_pred, average='weighted')\n",
    "f1 = f1_score(y_val, y_NB_pred, average='weighted')\n",
    "\n",
    "print(f'Accuracy: {accuracy}')\n",
    "print(f'Precision: {precision}')\n",
    "print(f'Recall: {recall}')\n",
    "print(f'F1 Score: {f1}')"
   ]
  },
  {
   "cell_type": "markdown",
   "metadata": {},
   "source": [
    "# PCA NB"
   ]
  },
  {
   "cell_type": "markdown",
   "metadata": {},
   "source": [
    "* Vì dữ liệu là liên tục nên dùng luôn Gaussian NB"
   ]
  },
  {
   "cell_type": "code",
   "execution_count": 25,
   "metadata": {},
   "outputs": [
    {
     "name": "stdout",
     "output_type": "stream",
     "text": [
      "time: 55008 microsecs\n"
     ]
    },
    {
     "name": "stderr",
     "output_type": "stream",
     "text": [
      "d:\\Python\\Lib\\site-packages\\sklearn\\utils\\validation.py:1300: DataConversionWarning: A column-vector y was passed when a 1d array was expected. Please change the shape of y to (n_samples, ), for example using ravel().\n",
      "  y = column_or_1d(y, warn=True)\n"
     ]
    }
   ],
   "source": [
    "start = dt.now()\n",
    "\n",
    "gauss = GaussianNB()\n",
    "gauss.fit(pca_x_encoded_train, y_train)\n",
    "y_PCA_NB_pred = gauss.predict(pca_x_encoded_val)\n",
    "\n",
    "running_secs = (dt.now() - start).microseconds\n",
    "print(f\"time: {running_secs} microsecs\")"
   ]
  },
  {
   "cell_type": "code",
   "execution_count": 26,
   "metadata": {},
   "outputs": [
    {
     "data": {
      "text/plain": [
       "array([0, 1, 1, ..., 1, 0, 1], dtype=int64)"
      ]
     },
     "execution_count": 26,
     "metadata": {},
     "output_type": "execute_result"
    }
   ],
   "source": [
    "y_PCA_NB_pred"
   ]
  },
  {
   "cell_type": "code",
   "execution_count": 27,
   "metadata": {},
   "outputs": [
    {
     "name": "stdout",
     "output_type": "stream",
     "text": [
      "              precision    recall  f1-score   support\n",
      "\n",
      "           0     0.4358    0.3799    0.4060      5056\n",
      "           1     0.6016    0.7766    0.6780     29611\n",
      "           2     0.5087    0.2766    0.3583     17454\n",
      "\n",
      "    accuracy                         0.5707     52121\n",
      "   macro avg     0.5154    0.4777    0.4808     52121\n",
      "weighted avg     0.5544    0.5707    0.5446     52121\n",
      "\n"
     ]
    }
   ],
   "source": [
    "print(metrics.classification_report(y_val, y_PCA_NB_pred, digits=4))"
   ]
  },
  {
   "cell_type": "code",
   "execution_count": 28,
   "metadata": {},
   "outputs": [
    {
     "data": {
      "text/plain": [
       "<sklearn.metrics._plot.confusion_matrix.ConfusionMatrixDisplay at 0x22e8eba6db0>"
      ]
     },
     "execution_count": 28,
     "metadata": {},
     "output_type": "execute_result"
    },
    {
     "data": {
      "image/png": "[encoded data removed]",
      "text/plain": [
       "<Figure size 640x480 with 1 Axes>"
      ]
     },
     "metadata": {},
     "output_type": "display_data"
    }
   ],
   "source": [
    "cm = metrics.confusion_matrix(y_val, y_PCA_NB_pred)\n",
    "metrics.ConfusionMatrixDisplay(cm).plot(colorbar=False)"
   ]
  },
  {
   "cell_type": "code",
   "execution_count": 29,
   "metadata": {},
   "outputs": [
    {
     "name": "stdout",
     "output_type": "stream",
     "text": [
      "Accuracy: 0.5706912760691468\n",
      "Precision: 0.5544350928322678\n",
      "Recall: 0.5706912760691468\n",
      "F1 Score: 0.5445697282778922\n"
     ]
    }
   ],
   "source": [
    "accuracy = accuracy_score(y_val, y_PCA_NB_pred)\n",
    "precision = precision_score(y_val, y_PCA_NB_pred, average='weighted')\n",
    "recall = recall_score(y_val, y_PCA_NB_pred, average='weighted')\n",
    "f1 = f1_score(y_val, y_PCA_NB_pred, average='weighted')\n",
    "\n",
    "print(f'Accuracy: {accuracy}')\n",
    "print(f'Precision: {precision}')\n",
    "print(f'Recall: {recall}')\n",
    "print(f'F1 Score: {f1}')"
   ]
  },
  {
   "cell_type": "markdown",
   "metadata": {},
   "source": [
    "# MLR"
   ]
  },
  {
   "cell_type": "code",
   "execution_count": 30,
   "metadata": {},
   "outputs": [
    {
     "name": "stderr",
     "output_type": "stream",
     "text": [
      "d:\\Python\\Lib\\site-packages\\sklearn\\utils\\validation.py:1300: DataConversionWarning: A column-vector y was passed when a 1d array was expected. Please change the shape of y to (n_samples, ), for example using ravel().\n",
      "  y = column_or_1d(y, warn=True)\n"
     ]
    },
    {
     "name": "stdout",
     "output_type": "stream",
     "text": [
      "time: 833942 microsecs\n"
     ]
    }
   ],
   "source": [
    "start = dt.now()\n",
    "\n",
    "MLR = LogisticRegression(multi_class='multinomial', solver='lbfgs')\n",
    "MLR.fit(scaled_x_encoded_train, y_train)\n",
    "y_MLR_pred = MLR.predict(scaled_x_encoded_val)\n",
    "\n",
    "running_secs = (dt.now() - start).microseconds\n",
    "print(f\"time: {running_secs} microsecs\")"
   ]
  },
  {
   "cell_type": "code",
   "execution_count": 31,
   "metadata": {},
   "outputs": [
    {
     "data": {
      "text/plain": [
       "array([1, 1, 1, ..., 1, 1, 1], dtype=int64)"
      ]
     },
     "execution_count": 31,
     "metadata": {},
     "output_type": "execute_result"
    }
   ],
   "source": [
    "y_MLR_pred"
   ]
  },
  {
   "cell_type": "code",
   "execution_count": 32,
   "metadata": {},
   "outputs": [
    {
     "name": "stdout",
     "output_type": "stream",
     "text": [
      "              precision    recall  f1-score   support\n",
      "\n",
      "           0     0.5707    0.3032    0.3960      5056\n",
      "           1     0.6025    0.8655    0.7104     29611\n",
      "           2     0.5552    0.2194    0.3145     17454\n",
      "\n",
      "    accuracy                         0.5946     52121\n",
      "   macro avg     0.5761    0.4627    0.4736     52121\n",
      "weighted avg     0.5836    0.5946    0.5473     52121\n",
      "\n"
     ]
    }
   ],
   "source": [
    "print(metrics.classification_report(y_val, y_MLR_pred, digits=4))"
   ]
  },
  {
   "cell_type": "code",
   "execution_count": 33,
   "metadata": {},
   "outputs": [
    {
     "data": {
      "text/plain": [
       "<sklearn.metrics._plot.confusion_matrix.ConfusionMatrixDisplay at 0x22e94d9d400>"
      ]
     },
     "execution_count": 33,
     "metadata": {},
     "output_type": "execute_result"
    },
    {
     "data": {
      "image/png": "[encoded data removed]",
      "text/plain": [
       "<Figure size 640x480 with 1 Axes>"
      ]
     },
     "metadata": {},
     "output_type": "display_data"
    }
   ],
   "source": [
    "cm = metrics.confusion_matrix(y_val, y_MLR_pred)\n",
    "metrics.ConfusionMatrixDisplay(cm).plot(colorbar=False)"
   ]
  },
  {
   "cell_type": "code",
   "execution_count": 34,
   "metadata": {},
   "outputs": [
    {
     "name": "stdout",
     "output_type": "stream",
     "text": [
      "Accuracy: 0.5945780011895397\n",
      "Precision: 0.5835535722954701\n",
      "Recall: 0.5945780011895397\n",
      "F1 Score: 0.5473321340198936\n"
     ]
    }
   ],
   "source": [
    "accuracy = accuracy_score(y_val, y_MLR_pred)\n",
    "precision = precision_score(y_val, y_MLR_pred, average='weighted')\n",
    "recall = recall_score(y_val, y_MLR_pred, average='weighted')\n",
    "f1 = f1_score(y_val, y_MLR_pred, average='weighted')\n",
    "\n",
    "print(f'Accuracy: {accuracy}')\n",
    "print(f'Precision: {precision}')\n",
    "print(f'Recall: {recall}')\n",
    "print(f'F1 Score: {f1}')"
   ]
  },
  {
   "cell_type": "markdown",
   "metadata": {},
   "source": [
    "# PCA MLR"
   ]
  },
  {
   "cell_type": "code",
   "execution_count": 35,
   "metadata": {},
   "outputs": [
    {
     "name": "stderr",
     "output_type": "stream",
     "text": [
      "d:\\Python\\Lib\\site-packages\\sklearn\\utils\\validation.py:1300: DataConversionWarning: A column-vector y was passed when a 1d array was expected. Please change the shape of y to (n_samples, ), for example using ravel().\n",
      "  y = column_or_1d(y, warn=True)\n"
     ]
    },
    {
     "name": "stdout",
     "output_type": "stream",
     "text": [
      "time: 306561 microsecs\n"
     ]
    }
   ],
   "source": [
    "start = dt.now()\n",
    "\n",
    "MLR.fit(pca_scaled_x_encoded_train, y_train)\n",
    "y_PCA_MLR_pred = MLR.predict(pca_scaled_x_encoded_val)\n",
    "\n",
    "running_secs = (dt.now() - start).microseconds\n",
    "print(f\"time: {running_secs} microsecs\")"
   ]
  },
  {
   "cell_type": "code",
   "execution_count": 36,
   "metadata": {},
   "outputs": [
    {
     "data": {
      "text/plain": [
       "array([1, 1, 1, ..., 1, 0, 1], dtype=int64)"
      ]
     },
     "execution_count": 36,
     "metadata": {},
     "output_type": "execute_result"
    }
   ],
   "source": [
    "y_PCA_MLR_pred"
   ]
  },
  {
   "cell_type": "code",
   "execution_count": 37,
   "metadata": {},
   "outputs": [
    {
     "name": "stdout",
     "output_type": "stream",
     "text": [
      "              precision    recall  f1-score   support\n",
      "\n",
      "           0     0.5387    0.2522    0.3435      5056\n",
      "           1     0.5815    0.9131    0.7105     29611\n",
      "           2     0.5078    0.0949    0.1599     17454\n",
      "\n",
      "    accuracy                         0.5750     52121\n",
      "   macro avg     0.5427    0.4200    0.4046     52121\n",
      "weighted avg     0.5527    0.5750    0.4905     52121\n",
      "\n"
     ]
    }
   ],
   "source": [
    "print(metrics.classification_report(y_val, y_PCA_MLR_pred, digits=4))"
   ]
  },
  {
   "cell_type": "code",
   "execution_count": 38,
   "metadata": {},
   "outputs": [
    {
     "data": {
      "text/plain": [
       "<sklearn.metrics._plot.confusion_matrix.ConfusionMatrixDisplay at 0x22e90bf1070>"
      ]
     },
     "execution_count": 38,
     "metadata": {},
     "output_type": "execute_result"
    },
    {
     "data": {
      "image/png": "[encoded data removed]",
      "text/plain": [
       "<Figure size 640x480 with 1 Axes>"
      ]
     },
     "metadata": {},
     "output_type": "display_data"
    }
   ],
   "source": [
    "cm = metrics.confusion_matrix(y_val, y_PCA_MLR_pred)\n",
    "metrics.ConfusionMatrixDisplay(cm).plot(colorbar=False)"
   ]
  },
  {
   "cell_type": "code",
   "execution_count": 39,
   "metadata": {},
   "outputs": [
    {
     "name": "stdout",
     "output_type": "stream",
     "text": [
      "Accuracy: 0.5749697818537634\n",
      "Precision: 0.5526864361333524\n",
      "Recall: 0.5749697818537634\n",
      "F1 Score: 0.49053021605731756\n"
     ]
    }
   ],
   "source": [
    "accuracy = accuracy_score(y_val, y_PCA_MLR_pred)\n",
    "precision = precision_score(y_val, y_PCA_MLR_pred, average='weighted')\n",
    "recall = recall_score(y_val, y_PCA_MLR_pred, average='weighted')\n",
    "f1 = f1_score(y_val, y_PCA_MLR_pred, average='weighted')\n",
    "\n",
    "print(f'Accuracy: {accuracy}')\n",
    "print(f'Precision: {precision}')\n",
    "print(f'Recall: {recall}')\n",
    "print(f'F1 Score: {f1}')"
   ]
  },
  {
   "cell_type": "markdown",
   "metadata": {},
   "source": [
    "# ANN"
   ]
  },
  {
   "cell_type": "code",
   "execution_count": 40,
   "metadata": {},
   "outputs": [],
   "source": [
    "def gen_model(layers: list=[], input_shape: tuple=()):\n",
    "    model = None\n",
    "    if (len(layers) != 0):\n",
    "        model = keras.models.Sequential(layers)\n",
    "    else:\n",
    "        model = keras.models.Sequential([\n",
    "            keras.layers.Input(shape=input_shape),\n",
    "            keras.layers.Dense(64, activation=\"relu\"),\n",
    "            keras.layers.Dense(64, activation=\"relu\"),\n",
    "            keras.layers.Dense(3, activation=\"softmax\")\n",
    "        ])\n",
    "\n",
    "    model.compile(loss=\"categorical_crossentropy\", optimizer=\"adam\", metrics=[\"acc\"])\n",
    "\n",
    "    return model\n",
    "\n",
    "\n",
    "model = gen_model(input_shape=(10,))"
   ]
  },
  {
   "cell_type": "code",
   "execution_count": 41,
   "metadata": {},
   "outputs": [
    {
     "data": {
      "text/html": [
       "<pre style=\"white-space:pre;overflow-x:auto;line-height:normal;font-family:Menlo,'DejaVu Sans Mono',consolas,'Courier New',monospace\"><span style=\"font-weight: bold\">Model: \"sequential\"</span>\n",
       "</pre>\n"
      ],
      "text/plain": [
       "\u001b[1mModel: \"sequential\"\u001b[0m\n"
      ]
     },
     "metadata": {},
     "output_type": "display_data"
    },
    {
     "data": {
      "text/html": [
       "<pre style=\"white-space:pre;overflow-x:auto;line-height:normal;font-family:Menlo,'DejaVu Sans Mono',consolas,'Courier New',monospace\">┏━━━━━━━━━━━━━━━━━━━━━━━━━━━━━━━━━┳━━━━━━━━━━━━━━━━━━━━━━━━┳━━━━━━━━━━━━━━━┓\n",
       "┃<span style=\"font-weight: bold\"> Layer (type)                    </span>┃<span style=\"font-weight: bold\"> Output Shape           </span>┃<span style=\"font-weight: bold\">       Param # </span>┃\n",
       "┡━━━━━━━━━━━━━━━━━━━━━━━━━━━━━━━━━╇━━━━━━━━━━━━━━━━━━━━━━━━╇━━━━━━━━━━━━━━━┩\n",
       "│ dense (<span style=\"color: #0087ff; text-decoration-color: #0087ff\">Dense</span>)                   │ (<span style=\"color: #00d7ff; text-decoration-color: #00d7ff\">None</span>, <span style=\"color: #00af00; text-decoration-color: #00af00\">64</span>)             │           <span style=\"color: #00af00; text-decoration-color: #00af00\">704</span> │\n",
       "├─────────────────────────────────┼────────────────────────┼───────────────┤\n",
       "│ dense_1 (<span style=\"color: #0087ff; text-decoration-color: #0087ff\">Dense</span>)                 │ (<span style=\"color: #00d7ff; text-decoration-color: #00d7ff\">None</span>, <span style=\"color: #00af00; text-decoration-color: #00af00\">64</span>)             │         <span style=\"color: #00af00; text-decoration-color: #00af00\">4,160</span> │\n",
       "├─────────────────────────────────┼────────────────────────┼───────────────┤\n",
       "│ dense_2 (<span style=\"color: #0087ff; text-decoration-color: #0087ff\">Dense</span>)                 │ (<span style=\"color: #00d7ff; text-decoration-color: #00d7ff\">None</span>, <span style=\"color: #00af00; text-decoration-color: #00af00\">3</span>)              │           <span style=\"color: #00af00; text-decoration-color: #00af00\">195</span> │\n",
       "└─────────────────────────────────┴────────────────────────┴───────────────┘\n",
       "</pre>\n"
      ],
      "text/plain": [
       "┏━━━━━━━━━━━━━━━━━━━━━━━━━━━━━━━━━┳━━━━━━━━━━━━━━━━━━━━━━━━┳━━━━━━━━━━━━━━━┓\n",
       "┃\u001b[1m \u001b[0m\u001b[1mLayer (type)                   \u001b[0m\u001b[1m \u001b[0m┃\u001b[1m \u001b[0m\u001b[1mOutput Shape          \u001b[0m\u001b[1m \u001b[0m┃\u001b[1m \u001b[0m\u001b[1m      Param #\u001b[0m\u001b[1m \u001b[0m┃\n",
       "┡━━━━━━━━━━━━━━━━━━━━━━━━━━━━━━━━━╇━━━━━━━━━━━━━━━━━━━━━━━━╇━━━━━━━━━━━━━━━┩\n",
       "│ dense (\u001b[38;5;33mDense\u001b[0m)                   │ (\u001b[38;5;45mNone\u001b[0m, \u001b[38;5;34m64\u001b[0m)             │           \u001b[38;5;34m704\u001b[0m │\n",
       "├─────────────────────────────────┼────────────────────────┼───────────────┤\n",
       "│ dense_1 (\u001b[38;5;33mDense\u001b[0m)                 │ (\u001b[38;5;45mNone\u001b[0m, \u001b[38;5;34m64\u001b[0m)             │         \u001b[38;5;34m4,160\u001b[0m │\n",
       "├─────────────────────────────────┼────────────────────────┼───────────────┤\n",
       "│ dense_2 (\u001b[38;5;33mDense\u001b[0m)                 │ (\u001b[38;5;45mNone\u001b[0m, \u001b[38;5;34m3\u001b[0m)              │           \u001b[38;5;34m195\u001b[0m │\n",
       "└─────────────────────────────────┴────────────────────────┴───────────────┘\n"
      ]
     },
     "metadata": {},
     "output_type": "display_data"
    },
    {
     "data": {
      "text/html": [
       "<pre style=\"white-space:pre;overflow-x:auto;line-height:normal;font-family:Menlo,'DejaVu Sans Mono',consolas,'Courier New',monospace\"><span style=\"font-weight: bold\"> Total params: </span><span style=\"color: #00af00; text-decoration-color: #00af00\">5,059</span> (19.76 KB)\n",
       "</pre>\n"
      ],
      "text/plain": [
       "\u001b[1m Total params: \u001b[0m\u001b[38;5;34m5,059\u001b[0m (19.76 KB)\n"
      ]
     },
     "metadata": {},
     "output_type": "display_data"
    },
    {
     "data": {
      "text/html": [
       "<pre style=\"white-space:pre;overflow-x:auto;line-height:normal;font-family:Menlo,'DejaVu Sans Mono',consolas,'Courier New',monospace\"><span style=\"font-weight: bold\"> Trainable params: </span><span style=\"color: #00af00; text-decoration-color: #00af00\">5,059</span> (19.76 KB)\n",
       "</pre>\n"
      ],
      "text/plain": [
       "\u001b[1m Trainable params: \u001b[0m\u001b[38;5;34m5,059\u001b[0m (19.76 KB)\n"
      ]
     },
     "metadata": {},
     "output_type": "display_data"
    },
    {
     "data": {
      "text/html": [
       "<pre style=\"white-space:pre;overflow-x:auto;line-height:normal;font-family:Menlo,'DejaVu Sans Mono',consolas,'Courier New',monospace\"><span style=\"font-weight: bold\"> Non-trainable params: </span><span style=\"color: #00af00; text-decoration-color: #00af00\">0</span> (0.00 B)\n",
       "</pre>\n"
      ],
      "text/plain": [
       "\u001b[1m Non-trainable params: \u001b[0m\u001b[38;5;34m0\u001b[0m (0.00 B)\n"
      ]
     },
     "metadata": {},
     "output_type": "display_data"
    }
   ],
   "source": [
    "model.summary()"
   ]
  },
  {
   "cell_type": "code",
   "execution_count": 42,
   "metadata": {},
   "outputs": [],
   "source": [
    "early_stop = callbacks.EarlyStopping(monitor=\"loss\", mode=\"min\", min_delta=1e-5,patience=3, restore_best_weights=True, verbose=True)"
   ]
  },
  {
   "cell_type": "code",
   "execution_count": 43,
   "metadata": {},
   "outputs": [
    {
     "name": "stdout",
     "output_type": "stream",
     "text": [
      "Epoch 1/50\n",
      "\u001b[1m6515/6515\u001b[0m \u001b[32m━━━━━━━━━━━━━━━━━━━━\u001b[0m\u001b[37m\u001b[0m \u001b[1m4s\u001b[0m 475us/step - acc: 0.4626 - loss: 5.6367\n",
      "Epoch 2/50\n",
      "\u001b[1m6515/6515\u001b[0m \u001b[32m━━━━━━━━━━━━━━━━━━━━\u001b[0m\u001b[37m\u001b[0m \u001b[1m3s\u001b[0m 459us/step - acc: 0.4969 - loss: 1.7656\n",
      "Epoch 3/50\n",
      "\u001b[1m6515/6515\u001b[0m \u001b[32m━━━━━━━━━━━━━━━━━━━━\u001b[0m\u001b[37m\u001b[0m \u001b[1m3s\u001b[0m 468us/step - acc: 0.5288 - loss: 1.0472\n",
      "Epoch 4/50\n",
      "\u001b[1m6515/6515\u001b[0m \u001b[32m━━━━━━━━━━━━━━━━━━━━\u001b[0m\u001b[37m\u001b[0m \u001b[1m3s\u001b[0m 465us/step - acc: 0.5689 - loss: 0.8530\n",
      "Epoch 5/50\n",
      "\u001b[1m6515/6515\u001b[0m \u001b[32m━━━━━━━━━━━━━━━━━━━━\u001b[0m\u001b[37m\u001b[0m \u001b[1m3s\u001b[0m 461us/step - acc: 0.5732 - loss: 0.8392\n",
      "Epoch 6/50\n",
      "\u001b[1m6515/6515\u001b[0m \u001b[32m━━━━━━━━━━━━━━━━━━━━\u001b[0m\u001b[37m\u001b[0m \u001b[1m3s\u001b[0m 461us/step - acc: 0.5745 - loss: 0.8286\n",
      "Epoch 7/50\n",
      "\u001b[1m6515/6515\u001b[0m \u001b[32m━━━━━━━━━━━━━━━━━━━━\u001b[0m\u001b[37m\u001b[0m \u001b[1m3s\u001b[0m 447us/step - acc: 0.5724 - loss: 0.8245\n",
      "Epoch 8/50\n",
      "\u001b[1m6515/6515\u001b[0m \u001b[32m━━━━━━━━━━━━━━━━━━━━\u001b[0m\u001b[37m\u001b[0m \u001b[1m3s\u001b[0m 453us/step - acc: 0.5758 - loss: 0.8204\n",
      "Epoch 9/50\n",
      "\u001b[1m6515/6515\u001b[0m \u001b[32m━━━━━━━━━━━━━━━━━━━━\u001b[0m\u001b[37m\u001b[0m \u001b[1m3s\u001b[0m 465us/step - acc: 0.5737 - loss: 0.8182\n",
      "Epoch 10/50\n",
      "\u001b[1m6515/6515\u001b[0m \u001b[32m━━━━━━━━━━━━━━━━━━━━\u001b[0m\u001b[37m\u001b[0m \u001b[1m3s\u001b[0m 479us/step - acc: 0.5746 - loss: 0.8179\n",
      "Epoch 11/50\n",
      "\u001b[1m6515/6515\u001b[0m \u001b[32m━━━━━━━━━━━━━━━━━━━━\u001b[0m\u001b[37m\u001b[0m \u001b[1m3s\u001b[0m 461us/step - acc: 0.5761 - loss: 0.8149\n",
      "Epoch 12/50\n",
      "\u001b[1m6515/6515\u001b[0m \u001b[32m━━━━━━━━━━━━━━━━━━━━\u001b[0m\u001b[37m\u001b[0m \u001b[1m3s\u001b[0m 468us/step - acc: 0.5775 - loss: 0.8135\n",
      "Epoch 13/50\n",
      "\u001b[1m6515/6515\u001b[0m \u001b[32m━━━━━━━━━━━━━━━━━━━━\u001b[0m\u001b[37m\u001b[0m \u001b[1m3s\u001b[0m 457us/step - acc: 0.5792 - loss: 0.8134\n",
      "Epoch 14/50\n",
      "\u001b[1m6515/6515\u001b[0m \u001b[32m━━━━━━━━━━━━━━━━━━━━\u001b[0m\u001b[37m\u001b[0m \u001b[1m3s\u001b[0m 451us/step - acc: 0.5743 - loss: 0.8162\n",
      "Epoch 15/50\n",
      "\u001b[1m6515/6515\u001b[0m \u001b[32m━━━━━━━━━━━━━━━━━━━━\u001b[0m\u001b[37m\u001b[0m \u001b[1m3s\u001b[0m 454us/step - acc: 0.5748 - loss: 0.8131\n",
      "Epoch 16/50\n",
      "\u001b[1m6515/6515\u001b[0m \u001b[32m━━━━━━━━━━━━━━━━━━━━\u001b[0m\u001b[37m\u001b[0m \u001b[1m3s\u001b[0m 457us/step - acc: 0.5757 - loss: 0.8139\n",
      "Epoch 17/50\n",
      "\u001b[1m6515/6515\u001b[0m \u001b[32m━━━━━━━━━━━━━━━━━━━━\u001b[0m\u001b[37m\u001b[0m \u001b[1m3s\u001b[0m 463us/step - acc: 0.5756 - loss: 0.8140\n",
      "Epoch 18/50\n",
      "\u001b[1m6515/6515\u001b[0m \u001b[32m━━━━━━━━━━━━━━━━━━━━\u001b[0m\u001b[37m\u001b[0m \u001b[1m3s\u001b[0m 479us/step - acc: 0.5793 - loss: 0.8127\n",
      "Epoch 19/50\n",
      "\u001b[1m6515/6515\u001b[0m \u001b[32m━━━━━━━━━━━━━━━━━━━━\u001b[0m\u001b[37m\u001b[0m \u001b[1m3s\u001b[0m 455us/step - acc: 0.5803 - loss: 0.8107\n",
      "Epoch 20/50\n",
      "\u001b[1m6515/6515\u001b[0m \u001b[32m━━━━━━━━━━━━━━━━━━━━\u001b[0m\u001b[37m\u001b[0m \u001b[1m3s\u001b[0m 465us/step - acc: 0.5840 - loss: 0.8104\n",
      "Epoch 21/50\n",
      "\u001b[1m6515/6515\u001b[0m \u001b[32m━━━━━━━━━━━━━━━━━━━━\u001b[0m\u001b[37m\u001b[0m \u001b[1m3s\u001b[0m 465us/step - acc: 0.5831 - loss: 0.8082\n",
      "Epoch 22/50\n",
      "\u001b[1m6515/6515\u001b[0m \u001b[32m━━━━━━━━━━━━━━━━━━━━\u001b[0m\u001b[37m\u001b[0m \u001b[1m3s\u001b[0m 473us/step - acc: 0.5828 - loss: 0.8080\n",
      "Epoch 23/50\n",
      "\u001b[1m6515/6515\u001b[0m \u001b[32m━━━━━━━━━━━━━━━━━━━━\u001b[0m\u001b[37m\u001b[0m \u001b[1m3s\u001b[0m 499us/step - acc: 0.5848 - loss: 0.8063\n",
      "Epoch 24/50\n",
      "\u001b[1m6515/6515\u001b[0m \u001b[32m━━━━━━━━━━━━━━━━━━━━\u001b[0m\u001b[37m\u001b[0m \u001b[1m3s\u001b[0m 463us/step - acc: 0.5839 - loss: 0.8067\n",
      "Epoch 25/50\n",
      "\u001b[1m6515/6515\u001b[0m \u001b[32m━━━━━━━━━━━━━━━━━━━━\u001b[0m\u001b[37m\u001b[0m \u001b[1m3s\u001b[0m 463us/step - acc: 0.5853 - loss: 0.8078\n",
      "Epoch 26/50\n",
      "\u001b[1m6515/6515\u001b[0m \u001b[32m━━━━━━━━━━━━━━━━━━━━\u001b[0m\u001b[37m\u001b[0m \u001b[1m3s\u001b[0m 464us/step - acc: 0.5850 - loss: 0.8047\n",
      "Epoch 27/50\n",
      "\u001b[1m6515/6515\u001b[0m \u001b[32m━━━━━━━━━━━━━━━━━━━━\u001b[0m\u001b[37m\u001b[0m \u001b[1m3s\u001b[0m 461us/step - acc: 0.5859 - loss: 0.8038\n",
      "Epoch 28/50\n",
      "\u001b[1m6515/6515\u001b[0m \u001b[32m━━━━━━━━━━━━━━━━━━━━\u001b[0m\u001b[37m\u001b[0m \u001b[1m3s\u001b[0m 462us/step - acc: 0.5843 - loss: 0.8074\n",
      "Epoch 29/50\n",
      "\u001b[1m6515/6515\u001b[0m \u001b[32m━━━━━━━━━━━━━━━━━━━━\u001b[0m\u001b[37m\u001b[0m \u001b[1m3s\u001b[0m 474us/step - acc: 0.5851 - loss: 0.8062\n",
      "Epoch 29: early stopping\n",
      "Restoring model weights from the end of the best epoch: 26.\n",
      "time: 143698 microsecs\n"
     ]
    }
   ],
   "source": [
    "start = dt.now()\n",
    "\n",
    "history = model.fit(pca_x_encoded_train, to_categorical(y_train), epochs=50, callbacks=[early_stop])\n",
    "\n",
    "running_secs = (dt.now() - start).microseconds\n",
    "print(f\"time: {running_secs} microsecs\")"
   ]
  },
  {
   "cell_type": "code",
   "execution_count": 44,
   "metadata": {},
   "outputs": [
    {
     "data": {
      "image/png": "[encoded data removed]",
      "text/plain": [
       "<Figure size 1400x600 with 2 Axes>"
      ]
     },
     "metadata": {},
     "output_type": "display_data"
    }
   ],
   "source": [
    "accs = history.history[\"acc\"]\n",
    "losses = history.history[\"loss\"]\n",
    "\n",
    "epochs = history.epoch\n",
    "\n",
    "plt.figure(figsize=(14, 6))\n",
    "\n",
    "plt.subplot(1, 2, 1)\n",
    "plt.plot(epochs, accs, color=\"blue\", marker='o', linestyle='-', linewidth=2, markersize=6)\n",
    "plt.title('Model Accuracy over Epochs', fontsize=14)\n",
    "plt.xlabel('Epochs', fontsize=12)\n",
    "plt.ylabel('Accuracy', fontsize=12)\n",
    "plt.grid(True)\n",
    "plt.legend(['Accuracy'], loc='best')\n",
    "plt.xticks(np.arange(min(epochs), max(epochs) + 1, 4))\n",
    "\n",
    "plt.subplot(1, 2, 2)\n",
    "plt.plot(epochs, losses, color=\"red\", marker='o', linestyle='-', linewidth=2, markersize=6)\n",
    "plt.title('Model Loss over Epochs', fontsize=14)\n",
    "plt.xlabel('Epochs', fontsize=12)\n",
    "plt.ylabel('Loss', fontsize=12)\n",
    "plt.grid(True)\n",
    "plt.legend(['Loss'], loc='best')\n",
    "plt.xticks(np.arange(min(epochs), max(epochs) + 1, 4))\n",
    "\n",
    "plt.tight_layout()\n",
    "plt.show()"
   ]
  },
  {
   "cell_type": "code",
   "execution_count": 45,
   "metadata": {},
   "outputs": [
    {
     "name": "stdout",
     "output_type": "stream",
     "text": [
      "\u001b[1m1629/1629\u001b[0m \u001b[32m━━━━━━━━━━━━━━━━━━━━\u001b[0m\u001b[37m\u001b[0m \u001b[1m1s\u001b[0m 497us/step\n"
     ]
    },
    {
     "data": {
      "text/plain": [
       "(52121,)"
      ]
     },
     "execution_count": 45,
     "metadata": {},
     "output_type": "execute_result"
    }
   ],
   "source": [
    "y_ANN_pred = np.array([np.argmax(pred) for pred in model.predict(pca_x_encoded_val)])\n",
    "y_ANN_pred.shape"
   ]
  },
  {
   "cell_type": "code",
   "execution_count": 46,
   "metadata": {},
   "outputs": [
    {
     "name": "stdout",
     "output_type": "stream",
     "text": [
      "              precision    recall  f1-score   support\n",
      "\n",
      "           0     0.5661    0.3287    0.4159      5056\n",
      "           1     0.5960    0.8838    0.7119     29611\n",
      "           2     0.5309    0.1605    0.2465     17454\n",
      "\n",
      "    accuracy                         0.5877     52121\n",
      "   macro avg     0.5643    0.4577    0.4581     52121\n",
      "weighted avg     0.5713    0.5877    0.5273     52121\n",
      "\n"
     ]
    }
   ],
   "source": [
    "print(metrics.classification_report(y_val, y_ANN_pred, digits=4))"
   ]
  },
  {
   "cell_type": "code",
   "execution_count": 47,
   "metadata": {},
   "outputs": [
    {
     "data": {
      "text/plain": [
       "<sklearn.metrics._plot.confusion_matrix.ConfusionMatrixDisplay at 0x22f0c820ef0>"
      ]
     },
     "execution_count": 47,
     "metadata": {},
     "output_type": "execute_result"
    },
    {
     "data": {
      "image/png": "[encoded data removed]",
      "text/plain": [
       "<Figure size 640x480 with 1 Axes>"
      ]
     },
     "metadata": {},
     "output_type": "display_data"
    }
   ],
   "source": [
    "cm = metrics.confusion_matrix(y_val, y_ANN_pred)\n",
    "metrics.ConfusionMatrixDisplay(cm).plot(colorbar=False)"
   ]
  },
  {
   "cell_type": "code",
   "execution_count": 48,
   "metadata": {},
   "outputs": [
    {
     "name": "stdout",
     "output_type": "stream",
     "text": [
      "Accuracy: 0.587747740833829\n",
      "Precision: 0.5713111013817318\n",
      "Recall: 0.587747740833829\n",
      "F1 Score: 0.5273475281237575\n"
     ]
    }
   ],
   "source": [
    "accuracy = accuracy_score(y_val, y_ANN_pred)\n",
    "precision = precision_score(y_val, y_ANN_pred, average='weighted')\n",
    "recall = recall_score(y_val, y_ANN_pred, average='weighted')\n",
    "f1 = f1_score(y_val, y_ANN_pred, average='weighted')\n",
    "\n",
    "print(f'Accuracy: {accuracy}')\n",
    "print(f'Precision: {precision}')\n",
    "print(f'Recall: {recall}')\n",
    "print(f'F1 Score: {f1}')"
   ]
  },
  {
   "cell_type": "markdown",
   "metadata": {},
   "source": [
    "# So sánh với HQTT"
   ]
  },
  {
   "cell_type": "code",
   "execution_count": 49,
   "metadata": {},
   "outputs": [
    {
     "name": "stdout",
     "output_type": "stream",
     "text": [
      "Với mô hình NB:\n",
      "MSE:  0.3205149049310632\n",
      "Loss:  8352.778679955973\n"
     ]
    }
   ],
   "source": [
    "mse = mean_squared_error(y_NB_pred, y_lr_pred)\n",
    "loss = mse * len(y_lr_pred)\n",
    "loss /= 2\n",
    "print(\"Với mô hình NB:\")\n",
    "print(\"MSE: \", mse)\n",
    "print(\"Loss: \", loss)"
   ]
  },
  {
   "cell_type": "code",
   "execution_count": 50,
   "metadata": {},
   "outputs": [
    {
     "name": "stdout",
     "output_type": "stream",
     "text": [
      "Với mô hình NB áp dụng PCA:\n",
      "MSE:  0.2527956921859018\n",
      "Loss:  6587.982136210694\n"
     ]
    }
   ],
   "source": [
    "mse = mean_squared_error(y_PCA_NB_pred, y_lr_pred)\n",
    "loss = mse * len(y_lr_pred)\n",
    "loss /= 2\n",
    "print(\"Với mô hình NB áp dụng PCA:\")\n",
    "print(\"MSE: \", mse)\n",
    "print(\"Loss: \", loss)"
   ]
  },
  {
   "cell_type": "code",
   "execution_count": 51,
   "metadata": {},
   "outputs": [
    {
     "name": "stdout",
     "output_type": "stream",
     "text": [
      "Với mô hình MLR:\n",
      "MSE:  0.19388335299846285\n",
      "Loss:  5052.697120816441\n"
     ]
    }
   ],
   "source": [
    "mse = mean_squared_error(y_MLR_pred, y_lr_pred)\n",
    "loss = mse * len(y_lr_pred)\n",
    "loss /= 2\n",
    "print(\"Với mô hình MLR:\")\n",
    "print(\"MSE: \", mse)\n",
    "print(\"Loss: \", loss)"
   ]
  },
  {
   "cell_type": "code",
   "execution_count": 52,
   "metadata": {},
   "outputs": [
    {
     "name": "stdout",
     "output_type": "stream",
     "text": [
      "Với mô hình MLR áp dụng PCA:\n",
      "MSE:  0.145955874716496\n",
      "Loss:  3803.683073049244\n"
     ]
    }
   ],
   "source": [
    "mse = mean_squared_error(y_PCA_MLR_pred, y_lr_pred)\n",
    "loss = mse * len(y_lr_pred)\n",
    "loss /= 2\n",
    "print(\"Với mô hình MLR áp dụng PCA:\")\n",
    "print(\"MSE: \", mse)\n",
    "print(\"Loss: \", loss)"
   ]
  },
  {
   "cell_type": "code",
   "execution_count": 53,
   "metadata": {},
   "outputs": [
    {
     "name": "stdout",
     "output_type": "stream",
     "text": [
      "Với mô hình ANN:\n",
      "MSE:  0.1893127090101349\n",
      "Loss:  4933.5838531586205\n"
     ]
    }
   ],
   "source": [
    "mse = mean_squared_error(y_ANN_pred, y_lr_pred)\n",
    "loss = mse * len(y_lr_pred)\n",
    "loss /= 2\n",
    "print(\"Với mô hình ANN:\")\n",
    "print(\"MSE: \", mse)\n",
    "print(\"Loss: \", loss)"
   ]
  },
  {
   "cell_type": "code",
   "execution_count": 59,
   "metadata": {},
   "outputs": [
    {
     "name": "stdout",
     "output_type": "stream",
     "text": [
      "52121\n",
      "Số giá trị >= 2 trong dự đoán của mô hình HQTT: 0\n"
     ]
    }
   ],
   "source": [
    "count_less_than_2 = (y_lr_pred >= 2).sum()\n",
    "\n",
    "print(len(y_lr_pred))\n",
    "print(f\"Số giá trị >= 2 trong dự đoán của mô hình HQTT: {count_less_than_2}\")"
   ]
  }
 ],
 "metadata": {
  "kernelspec": {
   "display_name": "Python 3",
   "language": "python",
   "name": "python3"
  },
  "language_info": {
   "codemirror_mode": {
    "name": "ipython",
    "version": 3
   },
   "file_extension": ".py",
   "mimetype": "text/x-python",
   "name": "python",
   "nbconvert_exporter": "python",
   "pygments_lexer": "ipython3",
   "version": "3.12.1"
  }
 },
 "nbformat": 4,
 "nbformat_minor": 2
}
