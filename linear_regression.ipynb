{
 "cells": [
  {
   "cell_type": "markdown",
   "metadata": {},
   "source": [
    "# Thư viện cần dùng"
   ]
  },
  {
   "cell_type": "code",
   "execution_count": 65,
   "metadata": {},
   "outputs": [],
   "source": [
    "import numpy as np\n",
    "import pandas as pd\n",
    "from sklearn.model_selection import train_test_split\n",
    "from sklearn.linear_model import LinearRegression\n",
    "from sklearn.metrics import mean_squared_error, accuracy_score, confusion_matrix, precision_score, recall_score, f1_score, ConfusionMatrixDisplay"
   ]
  },
  {
   "cell_type": "markdown",
   "metadata": {},
   "source": [
    "# Đọc và chia dữ liệu"
   ]
  },
  {
   "cell_type": "code",
   "execution_count": 39,
   "metadata": {},
   "outputs": [],
   "source": [
    "train_values = pd.read_csv(\"train_values.csv\")\n",
    "train_labels = pd.read_csv(\"train_labels.csv\")\n",
    "test_values = pd.read_csv(\"test_values.csv\")\n",
    "submission_format = pd.read_csv(\"submission_format.csv\")"
   ]
  },
  {
   "cell_type": "markdown",
   "metadata": {},
   "source": [
    "Kết hợp train values và labels thành train data bằng cách inner join với trường \"building_id\""
   ]
  },
  {
   "cell_type": "code",
   "execution_count": 40,
   "metadata": {},
   "outputs": [
    {
     "data": {
      "text/plain": [
       "260601"
      ]
     },
     "execution_count": 40,
     "metadata": {},
     "output_type": "execute_result"
    }
   ],
   "source": [
    "nepal_data = train_values.merge(train_labels, how='inner', on='building_id')\n",
    "len(nepal_data)"
   ]
  },
  {
   "cell_type": "markdown",
   "metadata": {},
   "source": [
    "Các trường của bộ dữ liệu"
   ]
  },
  {
   "cell_type": "code",
   "execution_count": 41,
   "metadata": {},
   "outputs": [],
   "source": [
    "int_data=['building_id', 'geo_level_1_id', 'geo_level_2_id', 'geo_level_3_id',\n",
    "       'count_floors_pre_eq','age', 'area_percentage', 'height_percentage', 'count_families', 'damage_grade']\n",
    "\n",
    "# categorical_data=['land_surface_condition', 'foundation_type', 'roof_type',\n",
    "#        'ground_floor_type', 'other_floor_type', 'position', 'plan_configuration', \n",
    "#        'legal_ownership_status']\n",
    "\n",
    "# binary_data=['has_superstructure_adobe_mud',\n",
    "#        'has_superstructure_mud_mortar_stone', 'has_superstructure_stone_flag',\n",
    "#        'has_superstructure_cement_mortar_stone',\n",
    "#        'has_superstructure_mud_mortar_brick',\n",
    "#        'has_superstructure_cement_mortar_brick', 'has_superstructure_timber',\n",
    "#        'has_superstructure_bamboo', 'has_superstructure_rc_non_engineered',\n",
    "#        'has_superstructure_rc_engineered', 'has_superstructure_other',\n",
    "#        'has_secondary_use', 'has_secondary_use_agriculture',\n",
    "#        'has_secondary_use_hotel',\n",
    "#        'has_secondary_use_rental', 'has_secondary_use_institution',\n",
    "#        'has_secondary_use_school', 'has_secondary_use_industry',\n",
    "#        'has_secondary_use_health_post', 'has_secondary_use_gov_office',\n",
    "#        'has_secondary_use_use_police', 'has_secondary_use_other']"
   ]
  },
  {
   "cell_type": "markdown",
   "metadata": {},
   "source": [
    "Chỉ lấy ra các trường có kiểu dữ liệu là int, bỏ qua loại categorical và binary vì không dùng cho hồi quy tuyến tính"
   ]
  },
  {
   "cell_type": "code",
   "execution_count": 42,
   "metadata": {},
   "outputs": [
    {
     "name": "stdout",
     "output_type": "stream",
     "text": [
      "260601\n",
      "['building_id', 'geo_level_1_id', 'geo_level_2_id', 'geo_level_3_id', 'count_floors_pre_eq', 'age', 'area_percentage', 'height_percentage', 'count_families', 'damage_grade']\n",
      "   building_id  geo_level_1_id  geo_level_2_id  geo_level_3_id  \\\n",
      "0       802906               6             487           12198   \n",
      "1        28830               8             900            2812   \n",
      "2        94947              21             363            8973   \n",
      "3       590882              22             418           10694   \n",
      "4       201944              11             131            1488   \n",
      "\n",
      "   count_floors_pre_eq  age  area_percentage  height_percentage  \\\n",
      "0                    2   30                6                  5   \n",
      "1                    2   10                8                  7   \n",
      "2                    2   10                5                  5   \n",
      "3                    2   10                6                  5   \n",
      "4                    3   30                8                  9   \n",
      "\n",
      "   count_families  damage_grade  \n",
      "0               1             3  \n",
      "1               1             2  \n",
      "2               1             3  \n",
      "3               1             2  \n",
      "4               1             3  \n"
     ]
    }
   ],
   "source": [
    "int_nepal_data = nepal_data[int_data]\n",
    "\n",
    "print(len(int_nepal_data))\n",
    "print(int_nepal_data.columns.tolist())\n",
    "print(int_nepal_data.head())"
   ]
  },
  {
   "cell_type": "markdown",
   "metadata": {},
   "source": [
    "Chia dữ liệu thành tập train và tập validation"
   ]
  },
  {
   "cell_type": "code",
   "execution_count": 43,
   "metadata": {},
   "outputs": [],
   "source": [
    "x = int_nepal_data[['geo_level_1_id', 'geo_level_2_id', 'geo_level_3_id', 'count_floors_pre_eq', \n",
    "                    'age', 'area_percentage', 'height_percentage', 'count_families']]\n",
    "y = int_nepal_data['damage_grade']\n",
    "\n",
    "x_train, x_val, y_train, y_val = train_test_split(x, y, test_size=0.2, random_state=42)"
   ]
  },
  {
   "cell_type": "code",
   "execution_count": 44,
   "metadata": {},
   "outputs": [
    {
     "data": {
      "text/plain": [
       "208480"
      ]
     },
     "execution_count": 44,
     "metadata": {},
     "output_type": "execute_result"
    }
   ],
   "source": [
    "len(x_train)"
   ]
  },
  {
   "cell_type": "code",
   "execution_count": 45,
   "metadata": {},
   "outputs": [
    {
     "data": {
      "text/plain": [
       "52121"
      ]
     },
     "execution_count": 45,
     "metadata": {},
     "output_type": "execute_result"
    }
   ],
   "source": [
    "len(x_val)"
   ]
  },
  {
   "cell_type": "markdown",
   "metadata": {},
   "source": [
    "# Xây dựng phương trình hồi quy tuyến tính bằng thư viện "
   ]
  },
  {
   "cell_type": "code",
   "execution_count": 46,
   "metadata": {},
   "outputs": [
    {
     "name": "stdout",
     "output_type": "stream",
     "text": [
      "Coefs:  [-3.90894484e-03  4.23804890e-05  1.69907383e-06  1.51336453e-01\n",
      "  1.17275867e-04 -1.77852547e-02 -2.35407162e-02  8.69045932e-02]\n",
      "Intercept:  2.112341293940858\n"
     ]
    }
   ],
   "source": [
    "regr = LinearRegression(fit_intercept=True)\n",
    "\n",
    "regr.fit(x_train, y_train)\n",
    "\n",
    "print(\"Coefs: \", regr.coef_)\n",
    "print(\"Intercept: \", regr.intercept_)"
   ]
  },
  {
   "cell_type": "markdown",
   "metadata": {},
   "source": [
    "* Vậy phương trình hồi quy tuyến tính là:\n",
    "* damage_grade = 2.112341293940858 \n",
    "                + (-3.90894484e-03) * geo_level_1_id\n",
    "                + 4.23804890e-05    * geo_level_2_id\n",
    "                + 1.69907383e-06    * geo_level_3_id\n",
    "                + 1.51336453e-01    * count_floors_pre_eq\n",
    "                + 1.17275867e-04    * age\n",
    "                + (-1.77852547e-02) * area_percentage\n",
    "                + (-2.35407162e-02) * height_percentage \n",
    "                + 8.69045932e-02    * count_families*"
   ]
  },
  {
   "cell_type": "markdown",
   "metadata": {},
   "source": [
    "Kiểm tra trên x_val và lấy ra accuracy, confusion matrix, precision, recall"
   ]
  },
  {
   "cell_type": "code",
   "execution_count": 47,
   "metadata": {},
   "outputs": [
    {
     "data": {
      "text/plain": [
       "array([2.18950049, 2.22508793, 2.20282515, ..., 2.31521882, 2.26996249,\n",
       "       2.26781807])"
      ]
     },
     "execution_count": 47,
     "metadata": {},
     "output_type": "execute_result"
    }
   ],
   "source": [
    "# Dự đoán\n",
    "y_pred = regr.predict(x_val)\n",
    "y_pred"
   ]
  },
  {
   "cell_type": "markdown",
   "metadata": {},
   "source": [
    "Do khi thay các giá trị trong x_val vào phương trình hồi quy tuyến tính, kết quả dự đoán của y_pred sẽ là các số thực, mà bài toán đang cần phân lớp nên ta làm tròn kết quả"
   ]
  },
  {
   "cell_type": "code",
   "execution_count": 48,
   "metadata": {},
   "outputs": [
    {
     "data": {
      "text/plain": [
       "array([2, 2, 2, ..., 2, 2, 2])"
      ]
     },
     "execution_count": 48,
     "metadata": {},
     "output_type": "execute_result"
    }
   ],
   "source": [
    "y_pred = np.round(y_pred, 0).astype(int)\n",
    "y_pred"
   ]
  },
  {
   "cell_type": "markdown",
   "metadata": {},
   "source": [
    "Kiểm tra xem giá trị của y_pred có bị làm tròn ra ngoài các lớp cần dự đoán"
   ]
  },
  {
   "cell_type": "code",
   "execution_count": 49,
   "metadata": {},
   "outputs": [
    {
     "name": "stdout",
     "output_type": "stream",
     "text": [
      "Số lượng giá trị nhỏ hơn 1 hoặc lớn hơn 3 trong y_pred: 0\n"
     ]
    }
   ],
   "source": [
    "count = np.sum((y_pred < 1) | (y_pred > 3))\n",
    "print(\"Số lượng giá trị nhỏ hơn 1 hoặc lớn hơn 3 trong y_pred:\", count)"
   ]
  },
  {
   "cell_type": "code",
   "execution_count": 66,
   "metadata": {},
   "outputs": [
    {
     "name": "stdout",
     "output_type": "stream",
     "text": [
      "MSE:  0.44149191304848334\n",
      "Accuracy:  0.5604075132863913\n",
      "Precision:  0.4674859305121396\n",
      "Recall:  0.5604075132863913\n",
      "F1-score:  0.4156335531639682\n",
      "Confusion matrix: \n",
      "[[   14  5129    27]\n",
      " [   13 28931   543]\n",
      " [    6 17194   264]]\n"
     ]
    }
   ],
   "source": [
    "mse = mean_squared_error(y_val, y_pred)\n",
    "print(\"MSE: \", mse)\n",
    "\n",
    "accuracy = accuracy_score(y_val, y_pred)\n",
    "print(\"Accuracy: \", accuracy)\n",
    "\n",
    "precision = precision_score(y_val, y_pred, average=\"weighted\")\n",
    "print(\"Precision: \", precision)\n",
    "\n",
    "recall = recall_score(y_val, y_pred, average=\"weighted\")\n",
    "print(\"Recall: \", recall)\n",
    "\n",
    "f1 = f1_score(y_val, y_pred, average=\"weighted\")\n",
    "print(\"F1-score: \", f1)\n",
    "\n",
    "cfs_matrix = confusion_matrix(y_val, y_pred)\n",
    "print(\"Confusion matrix: \")\n",
    "print(cfs_matrix)\n"
   ]
  },
  {
   "cell_type": "code",
   "execution_count": 51,
   "metadata": {},
   "outputs": [
    {
     "data": {
      "text/plain": [
       "<sklearn.metrics._plot.confusion_matrix.ConfusionMatrixDisplay at 0x10d45a6fdd0>"
      ]
     },
     "execution_count": 51,
     "metadata": {},
     "output_type": "execute_result"
    },
    {
     "data": {
      "image/png": "[encoded data removed]",
      "text/plain": [
       "<Figure size 640x480 with 2 Axes>"
      ]
     },
     "metadata": {},
     "output_type": "display_data"
    }
   ],
   "source": [
    "ConfusionMatrixDisplay(cfs_matrix).plot()"
   ]
  },
  {
   "cell_type": "code",
   "execution_count": 52,
   "metadata": {},
   "outputs": [
    {
     "name": "stdout",
     "output_type": "stream",
     "text": [
      "              precision    recall  f1-score   support\n",
      "\n",
      "           1       0.42      0.00      0.01      5170\n",
      "           2       0.56      0.98      0.72     29487\n",
      "           3       0.32      0.02      0.03     17464\n",
      "\n",
      "    accuracy                           0.56     52121\n",
      "   macro avg       0.44      0.33      0.25     52121\n",
      "weighted avg       0.47      0.56      0.42     52121\n",
      "\n"
     ]
    }
   ],
   "source": [
    "from sklearn.metrics import classification_report\n",
    "\n",
    "report = classification_report(y_val, y_pred)\n",
    "print(report)"
   ]
  },
  {
   "cell_type": "markdown",
   "metadata": {},
   "source": [
    "Dự đoán cho file test"
   ]
  },
  {
   "cell_type": "code",
   "execution_count": 53,
   "metadata": {},
   "outputs": [
    {
     "data": {
      "text/html": [
       "<div>\n",
       "<style scoped>\n",
       "    .dataframe tbody tr th:only-of-type {\n",
       "        vertical-align: middle;\n",
       "    }\n",
       "\n",
       "    .dataframe tbody tr th {\n",
       "        vertical-align: top;\n",
       "    }\n",
       "\n",
       "    .dataframe thead th {\n",
       "        text-align: right;\n",
       "    }\n",
       "</style>\n",
       "<table border=\"1\" class=\"dataframe\">\n",
       "  <thead>\n",
       "    <tr style=\"text-align: right;\">\n",
       "      <th></th>\n",
       "      <th>geo_level_1_id</th>\n",
       "      <th>geo_level_2_id</th>\n",
       "      <th>geo_level_3_id</th>\n",
       "      <th>count_floors_pre_eq</th>\n",
       "      <th>age</th>\n",
       "      <th>area_percentage</th>\n",
       "      <th>height_percentage</th>\n",
       "      <th>count_families</th>\n",
       "    </tr>\n",
       "  </thead>\n",
       "  <tbody>\n",
       "    <tr>\n",
       "      <th>0</th>\n",
       "      <td>17</td>\n",
       "      <td>596</td>\n",
       "      <td>11307</td>\n",
       "      <td>3</td>\n",
       "      <td>20</td>\n",
       "      <td>7</td>\n",
       "      <td>6</td>\n",
       "      <td>1</td>\n",
       "    </tr>\n",
       "    <tr>\n",
       "      <th>1</th>\n",
       "      <td>6</td>\n",
       "      <td>141</td>\n",
       "      <td>11987</td>\n",
       "      <td>2</td>\n",
       "      <td>25</td>\n",
       "      <td>13</td>\n",
       "      <td>5</td>\n",
       "      <td>1</td>\n",
       "    </tr>\n",
       "    <tr>\n",
       "      <th>2</th>\n",
       "      <td>22</td>\n",
       "      <td>19</td>\n",
       "      <td>10044</td>\n",
       "      <td>2</td>\n",
       "      <td>5</td>\n",
       "      <td>4</td>\n",
       "      <td>5</td>\n",
       "      <td>1</td>\n",
       "    </tr>\n",
       "    <tr>\n",
       "      <th>3</th>\n",
       "      <td>26</td>\n",
       "      <td>39</td>\n",
       "      <td>633</td>\n",
       "      <td>1</td>\n",
       "      <td>0</td>\n",
       "      <td>19</td>\n",
       "      <td>3</td>\n",
       "      <td>2</td>\n",
       "    </tr>\n",
       "    <tr>\n",
       "      <th>4</th>\n",
       "      <td>17</td>\n",
       "      <td>289</td>\n",
       "      <td>7970</td>\n",
       "      <td>3</td>\n",
       "      <td>15</td>\n",
       "      <td>8</td>\n",
       "      <td>7</td>\n",
       "      <td>1</td>\n",
       "    </tr>\n",
       "    <tr>\n",
       "      <th>...</th>\n",
       "      <td>...</td>\n",
       "      <td>...</td>\n",
       "      <td>...</td>\n",
       "      <td>...</td>\n",
       "      <td>...</td>\n",
       "      <td>...</td>\n",
       "      <td>...</td>\n",
       "      <td>...</td>\n",
       "    </tr>\n",
       "    <tr>\n",
       "      <th>86863</th>\n",
       "      <td>4</td>\n",
       "      <td>605</td>\n",
       "      <td>3623</td>\n",
       "      <td>3</td>\n",
       "      <td>70</td>\n",
       "      <td>20</td>\n",
       "      <td>6</td>\n",
       "      <td>1</td>\n",
       "    </tr>\n",
       "    <tr>\n",
       "      <th>86864</th>\n",
       "      <td>10</td>\n",
       "      <td>1407</td>\n",
       "      <td>11907</td>\n",
       "      <td>3</td>\n",
       "      <td>25</td>\n",
       "      <td>6</td>\n",
       "      <td>7</td>\n",
       "      <td>1</td>\n",
       "    </tr>\n",
       "    <tr>\n",
       "      <th>86865</th>\n",
       "      <td>22</td>\n",
       "      <td>1136</td>\n",
       "      <td>7712</td>\n",
       "      <td>1</td>\n",
       "      <td>50</td>\n",
       "      <td>3</td>\n",
       "      <td>3</td>\n",
       "      <td>1</td>\n",
       "    </tr>\n",
       "    <tr>\n",
       "      <th>86866</th>\n",
       "      <td>6</td>\n",
       "      <td>1041</td>\n",
       "      <td>912</td>\n",
       "      <td>2</td>\n",
       "      <td>5</td>\n",
       "      <td>9</td>\n",
       "      <td>5</td>\n",
       "      <td>1</td>\n",
       "    </tr>\n",
       "    <tr>\n",
       "      <th>86867</th>\n",
       "      <td>26</td>\n",
       "      <td>36</td>\n",
       "      <td>6436</td>\n",
       "      <td>2</td>\n",
       "      <td>10</td>\n",
       "      <td>11</td>\n",
       "      <td>4</td>\n",
       "      <td>1</td>\n",
       "    </tr>\n",
       "  </tbody>\n",
       "</table>\n",
       "<p>86868 rows × 8 columns</p>\n",
       "</div>"
      ],
      "text/plain": [
       "       geo_level_1_id  geo_level_2_id  geo_level_3_id  count_floors_pre_eq  \\\n",
       "0                  17             596           11307                    3   \n",
       "1                   6             141           11987                    2   \n",
       "2                  22              19           10044                    2   \n",
       "3                  26              39             633                    1   \n",
       "4                  17             289            7970                    3   \n",
       "...               ...             ...             ...                  ...   \n",
       "86863               4             605            3623                    3   \n",
       "86864              10            1407           11907                    3   \n",
       "86865              22            1136            7712                    1   \n",
       "86866               6            1041             912                    2   \n",
       "86867              26              36            6436                    2   \n",
       "\n",
       "       age  area_percentage  height_percentage  count_families  \n",
       "0       20                7                  6               1  \n",
       "1       25               13                  5               1  \n",
       "2        5                4                  5               1  \n",
       "3        0               19                  3               2  \n",
       "4       15                8                  7               1  \n",
       "...    ...              ...                ...             ...  \n",
       "86863   70               20                  6               1  \n",
       "86864   25                6                  7               1  \n",
       "86865   50                3                  3               1  \n",
       "86866    5                9                  5               1  \n",
       "86867   10               11                  4               1  \n",
       "\n",
       "[86868 rows x 8 columns]"
      ]
     },
     "execution_count": 53,
     "metadata": {},
     "output_type": "execute_result"
    }
   ],
   "source": [
    "x_test = test_values[['geo_level_1_id', 'geo_level_2_id', 'geo_level_3_id', 'count_floors_pre_eq', \n",
    "                    'age', 'area_percentage', 'height_percentage', 'count_families']]\n",
    "\n",
    "x_test"
   ]
  },
  {
   "cell_type": "code",
   "execution_count": 54,
   "metadata": {},
   "outputs": [
    {
     "data": {
      "text/plain": [
       "array([2, 2, 2, ..., 2, 2, 2])"
      ]
     },
     "execution_count": 54,
     "metadata": {},
     "output_type": "execute_result"
    }
   ],
   "source": [
    "y_test_pred = regr.predict(x_test)\n",
    "y_test_pred = np.round(y_test_pred, 0).astype(int)\n",
    "y_test_pred"
   ]
  },
  {
   "cell_type": "code",
   "execution_count": 55,
   "metadata": {},
   "outputs": [],
   "source": [
    "submission = {\n",
    "    'building_id': test_values['building_id'],\n",
    "    'damage_grade': y_test_pred\n",
    "}\n",
    "df = pd.DataFrame(submission)\n",
    "\n",
    "df.to_csv('linear_submission.csv', index=False)"
   ]
  },
  {
   "cell_type": "markdown",
   "metadata": {},
   "source": [
    "# Tự xây dựng code hồi quy tuyến tính"
   ]
  },
  {
   "cell_type": "markdown",
   "metadata": {},
   "source": [
    "Tự xây dựng thuật toán Normal Equation"
   ]
  },
  {
   "cell_type": "code",
   "execution_count": 61,
   "metadata": {},
   "outputs": [],
   "source": [
    "class LinearRegressionNE:\n",
    "    def __init__(self):\n",
    "        pass\n",
    "\n",
    "    def preprocess(self, X):\n",
    "        X = np.column_stack((np.ones(len(X)), X))\n",
    "        return X\n",
    "\n",
    "    def fit(self, X, y):\n",
    "        X = self.preprocess(X)\n",
    "        Xt = np.dot(X.T, X)\n",
    "        Xt_invert= np.linalg.inv(Xt)\n",
    "        Xy = np.dot(X.T, y)\n",
    "        coefficients = np.dot(Xt_invert, Xy)\n",
    "        return coefficients\n",
    "\n",
    "    def predict(self, X_test, coefficients):\n",
    "        X_test = self.preprocess(X_test)\n",
    "        y_pred = np.dot(X_test, coefficients)\n",
    "        return y_pred"
   ]
  },
  {
   "cell_type": "code",
   "execution_count": 62,
   "metadata": {},
   "outputs": [
    {
     "name": "stdout",
     "output_type": "stream",
     "text": [
      "Coefficients: [ 2.11234129e+00 -3.90894484e-03  4.23804890e-05  1.69907383e-06\n",
      "  1.51336453e-01  1.17275867e-04 -1.77852547e-02 -2.35407162e-02\n",
      "  8.69045932e-02]\n"
     ]
    }
   ],
   "source": [
    "lr = LinearRegressionNE()\n",
    "coeffs = lr.fit(x_train, y_train)\n",
    "\n",
    "y_pred_rounded = np.round(lr.predict(x_val, coeffs),0).astype(int)\n",
    "\n",
    "accuracy = np.mean(y_pred_rounded == y_val)\n",
    "# print(\"Accuracy:\", accuracy)\n",
    "print(\"Coefficients:\", coeffs)"
   ]
  },
  {
   "cell_type": "code",
   "execution_count": 63,
   "metadata": {},
   "outputs": [
    {
     "name": "stdout",
     "output_type": "stream",
     "text": [
      "Accuracy:  0.5604075132863913\n",
      "Precision:  0.4674859305121396\n",
      "Recall:  0.5604075132863913\n",
      "Confusion matrix: \n",
      "[[   14  5129    27]\n",
      " [   13 28931   543]\n",
      " [    6 17194   264]]\n"
     ]
    }
   ],
   "source": [
    "accuracy = accuracy_score(y_val, y_pred)\n",
    "print(\"Accuracy: \", accuracy)\n",
    "\n",
    "precision = precision_score(y_val, y_pred, average=\"weighted\")\n",
    "print(\"Precision: \", precision)\n",
    "\n",
    "recall = recall_score(y_val, y_pred, average=\"weighted\")\n",
    "print(\"Recall: \", recall)\n",
    "\n",
    "cfs_matrix = confusion_matrix(y_val, y_pred)\n",
    "print(\"Confusion matrix: \")\n",
    "print(cfs_matrix)"
   ]
  },
  {
   "cell_type": "markdown",
   "metadata": {},
   "source": [
    "Dùng thuật toán HoldHouse để khai triển QR"
   ]
  },
  {
   "cell_type": "code",
   "execution_count": 58,
   "metadata": {},
   "outputs": [
    {
     "ename": "MemoryError",
     "evalue": "Unable to allocate 324. GiB for an array with shape (208480, 208480) and data type float64",
     "output_type": "error",
     "traceback": [
      "\u001b[1;31m---------------------------------------------------------------------------\u001b[0m",
      "\u001b[1;31mMemoryError\u001b[0m                               Traceback (most recent call last)",
      "Cell \u001b[1;32mIn[58], line 54\u001b[0m\n\u001b[0;32m     50\u001b[0m     A \u001b[38;5;241m=\u001b[39m np\u001b[38;5;241m.\u001b[39mdot(R_pinv, Q\u001b[38;5;241m.\u001b[39mT) \u001b[38;5;66;03m# apply formula\u001b[39;00m\n\u001b[0;32m     52\u001b[0m     \u001b[38;5;28;01mreturn\u001b[39;00m np\u001b[38;5;241m.\u001b[39mdot(A, y_data)\n\u001b[1;32m---> 54\u001b[0m w \u001b[38;5;241m=\u001b[39m \u001b[43mlinear_regression\u001b[49m\u001b[43m(\u001b[49m\u001b[43mx_train\u001b[49m\u001b[43m,\u001b[49m\u001b[43m \u001b[49m\u001b[43my_train\u001b[49m\u001b[43m)\u001b[49m \u001b[38;5;66;03m# get result\u001b[39;00m\n\u001b[0;32m     55\u001b[0m w \u001b[38;5;241m=\u001b[39m w\u001b[38;5;241m.\u001b[39mT\u001b[38;5;241m.\u001b[39mtolist()\n\u001b[0;32m     56\u001b[0m line \u001b[38;5;241m=\u001b[39m [\u001b[38;5;124m'\u001b[39m\u001b[38;5;124mIntercept\u001b[39m\u001b[38;5;124m'\u001b[39m, \u001b[38;5;124m'\u001b[39m\u001b[38;5;124mgeo_level_1_id\u001b[39m\u001b[38;5;124m'\u001b[39m, \u001b[38;5;124m'\u001b[39m\u001b[38;5;124mgeo_level_2_id\u001b[39m\u001b[38;5;124m'\u001b[39m, \u001b[38;5;124m'\u001b[39m\u001b[38;5;124mgeo_level_3_id\u001b[39m\u001b[38;5;124m'\u001b[39m, \u001b[38;5;124m'\u001b[39m\u001b[38;5;124mcount_floors_pre_eq\u001b[39m\u001b[38;5;124m'\u001b[39m, \n\u001b[0;32m     57\u001b[0m         \u001b[38;5;124m'\u001b[39m\u001b[38;5;124mage\u001b[39m\u001b[38;5;124m'\u001b[39m, \u001b[38;5;124m'\u001b[39m\u001b[38;5;124marea_percentage\u001b[39m\u001b[38;5;124m'\u001b[39m, \u001b[38;5;124m'\u001b[39m\u001b[38;5;124mheight_percentage\u001b[39m\u001b[38;5;124m'\u001b[39m, \u001b[38;5;124m'\u001b[39m\u001b[38;5;124mcount_families\u001b[39m\u001b[38;5;124m'\u001b[39m]\n",
      "Cell \u001b[1;32mIn[58], line 48\u001b[0m, in \u001b[0;36mlinear_regression\u001b[1;34m(x_data, y_data)\u001b[0m\n\u001b[0;32m     36\u001b[0m \u001b[38;5;28;01mdef\u001b[39;00m \u001b[38;5;21mlinear_regression\u001b[39m(x_data, y_data):\n\u001b[0;32m     37\u001b[0m     \u001b[38;5;66;03m# \"\"\"\u001b[39;00m\n\u001b[0;32m     38\u001b[0m \n\u001b[1;32m   (...)\u001b[0m\n\u001b[0;32m     44\u001b[0m \n\u001b[0;32m     45\u001b[0m     \u001b[38;5;66;03m# add column 1\u001b[39;00m\n\u001b[0;32m     46\u001b[0m     x_bars \u001b[38;5;241m=\u001b[39m np\u001b[38;5;241m.\u001b[39mconcatenate((np\u001b[38;5;241m.\u001b[39mones((x_data\u001b[38;5;241m.\u001b[39mshape[\u001b[38;5;241m0\u001b[39m], \u001b[38;5;241m1\u001b[39m)), x_data), axis\u001b[38;5;241m=\u001b[39m\u001b[38;5;241m1\u001b[39m)\n\u001b[1;32m---> 48\u001b[0m     Q, R \u001b[38;5;241m=\u001b[39m \u001b[43mqr_householder\u001b[49m\u001b[43m(\u001b[49m\u001b[43mx_bars\u001b[49m\u001b[43m)\u001b[49m \u001b[38;5;66;03m# QR decomposition\u001b[39;00m\n\u001b[0;32m     49\u001b[0m     R_pinv \u001b[38;5;241m=\u001b[39m np\u001b[38;5;241m.\u001b[39mlinalg\u001b[38;5;241m.\u001b[39mpinv(R) \u001b[38;5;66;03m# calculate inverse matrix of R\u001b[39;00m\n\u001b[0;32m     50\u001b[0m     A \u001b[38;5;241m=\u001b[39m np\u001b[38;5;241m.\u001b[39mdot(R_pinv, Q\u001b[38;5;241m.\u001b[39mT) \u001b[38;5;66;03m# apply formula\u001b[39;00m\n",
      "Cell \u001b[1;32mIn[58], line 8\u001b[0m, in \u001b[0;36mqr_householder\u001b[1;34m(A)\u001b[0m\n\u001b[0;32m      4\u001b[0m N \u001b[38;5;241m=\u001b[39m A\u001b[38;5;241m.\u001b[39mshape[\u001b[38;5;241m1\u001b[39m]\n\u001b[0;32m      6\u001b[0m \u001b[38;5;66;03m# set Q to the identity matrix\u001b[39;00m\n\u001b[0;32m      7\u001b[0m \u001b[38;5;66;03m# Tạo ma trận đơn vị có số hàng = số hàng của ma trận A\u001b[39;00m\n\u001b[1;32m----> 8\u001b[0m Q \u001b[38;5;241m=\u001b[39m \u001b[43mnp\u001b[49m\u001b[38;5;241;43m.\u001b[39;49m\u001b[43midentity\u001b[49m\u001b[43m(\u001b[49m\u001b[43mM\u001b[49m\u001b[43m)\u001b[49m\n\u001b[0;32m     10\u001b[0m \u001b[38;5;66;03m# set R to zero matrix\u001b[39;00m\n\u001b[0;32m     11\u001b[0m R \u001b[38;5;241m=\u001b[39m np\u001b[38;5;241m.\u001b[39mcopy(A)\n",
      "File \u001b[1;32md:\\Python\\Lib\\site-packages\\numpy\\core\\numeric.py:2160\u001b[0m, in \u001b[0;36midentity\u001b[1;34m(n, dtype, like)\u001b[0m\n\u001b[0;32m   2157\u001b[0m     \u001b[38;5;28;01mreturn\u001b[39;00m _identity_with_like(like, n, dtype\u001b[38;5;241m=\u001b[39mdtype)\n\u001b[0;32m   2159\u001b[0m \u001b[38;5;28;01mfrom\u001b[39;00m \u001b[38;5;21;01mnumpy\u001b[39;00m \u001b[38;5;28;01mimport\u001b[39;00m eye\n\u001b[1;32m-> 2160\u001b[0m \u001b[38;5;28;01mreturn\u001b[39;00m \u001b[43meye\u001b[49m\u001b[43m(\u001b[49m\u001b[43mn\u001b[49m\u001b[43m,\u001b[49m\u001b[43m \u001b[49m\u001b[43mdtype\u001b[49m\u001b[38;5;241;43m=\u001b[39;49m\u001b[43mdtype\u001b[49m\u001b[43m,\u001b[49m\u001b[43m \u001b[49m\u001b[43mlike\u001b[49m\u001b[38;5;241;43m=\u001b[39;49m\u001b[43mlike\u001b[49m\u001b[43m)\u001b[49m\n",
      "File \u001b[1;32md:\\Python\\Lib\\site-packages\\numpy\\lib\\twodim_base.py:211\u001b[0m, in \u001b[0;36meye\u001b[1;34m(N, M, k, dtype, order, like)\u001b[0m\n\u001b[0;32m    209\u001b[0m \u001b[38;5;28;01mif\u001b[39;00m M \u001b[38;5;129;01mis\u001b[39;00m \u001b[38;5;28;01mNone\u001b[39;00m:\n\u001b[0;32m    210\u001b[0m     M \u001b[38;5;241m=\u001b[39m N\n\u001b[1;32m--> 211\u001b[0m m \u001b[38;5;241m=\u001b[39m \u001b[43mzeros\u001b[49m\u001b[43m(\u001b[49m\u001b[43m(\u001b[49m\u001b[43mN\u001b[49m\u001b[43m,\u001b[49m\u001b[43m \u001b[49m\u001b[43mM\u001b[49m\u001b[43m)\u001b[49m\u001b[43m,\u001b[49m\u001b[43m \u001b[49m\u001b[43mdtype\u001b[49m\u001b[38;5;241;43m=\u001b[39;49m\u001b[43mdtype\u001b[49m\u001b[43m,\u001b[49m\u001b[43m \u001b[49m\u001b[43morder\u001b[49m\u001b[38;5;241;43m=\u001b[39;49m\u001b[43morder\u001b[49m\u001b[43m)\u001b[49m\n\u001b[0;32m    212\u001b[0m \u001b[38;5;28;01mif\u001b[39;00m k \u001b[38;5;241m>\u001b[39m\u001b[38;5;241m=\u001b[39m M:\n\u001b[0;32m    213\u001b[0m     \u001b[38;5;28;01mreturn\u001b[39;00m m\n",
      "\u001b[1;31mMemoryError\u001b[0m: Unable to allocate 324. GiB for an array with shape (208480, 208480) and data type float64"
     ]
    }
   ],
   "source": [
    "def qr_householder(A):\n",
    "    #\"\"\" Compute QR decomposition of A using Householder reflection\"\"\"\n",
    "    M = A.shape[0]\n",
    "    N = A.shape[1]\n",
    "\n",
    "    # set Q to the identity matrix\n",
    "    # Tạo ma trận đơn vị có số hàng = số hàng của ma trận A\n",
    "    Q = np.identity(M)\n",
    "\n",
    "    # set R to zero matrix\n",
    "    R = np.copy(A)\n",
    "\n",
    "    for n in range(N):\n",
    "        # vector to transform\n",
    "        x = A[n:, n]\n",
    "        k = x.shape[0]\n",
    "\n",
    "        # compute ro=-sign(x0)||x||\n",
    "        ro = -np.sign(x[0]) * np.linalg.norm(x)\n",
    "\n",
    "        # compute the householder vector v\n",
    "        e = np.zeros(k)\n",
    "        e[0] = 1\n",
    "        v = (1 / (x[0] - ro)) * (x - (ro * e))\n",
    "\n",
    "        # apply v to each column of A to find R\n",
    "        for i in range(N):\n",
    "            R[n:, i] = R[n:, i] - (2 / (v@v)) * ((np.outer(v, v)) @ R[n:, i])\n",
    "\n",
    "        # apply v to each column of Q\n",
    "        for i in range(M):\n",
    "            Q[n:, i] = Q[n:, i] - (2 / (v@v)) * ((np.outer(v, v)) @ Q[n:, i])\n",
    "\n",
    "    return Q.transpose(), R\n",
    "\n",
    "def linear_regression(x_data, y_data):\n",
    "    # \"\"\"\n",
    "\n",
    "    # This function calculate linear regression base on x_data and y_data\n",
    "    # :param x_data: vector\n",
    "    # :param y_data: vector\n",
    "    # :return: w (regression estimate)\n",
    "    # \"\"\"\n",
    "\n",
    "    # add column 1\n",
    "    x_bars = np.concatenate((np.ones((x_data.shape[0], 1)), x_data), axis=1)\n",
    "\n",
    "    Q, R = qr_householder(x_bars) # QR decomposition\n",
    "    R_pinv = np.linalg.pinv(R) # calculate inverse matrix of R\n",
    "    A = np.dot(R_pinv, Q.T) # apply formula\n",
    "\n",
    "    return np.dot(A, y_data)\n",
    "\n",
    "w = linear_regression(x_train, y_train) # get result\n",
    "w = w.T.tolist()\n",
    "line = ['Intercept', 'geo_level_1_id', 'geo_level_2_id', 'geo_level_3_id', 'count_floors_pre_eq', \n",
    "        'age', 'area_percentage', 'height_percentage', 'count_families']\n",
    "res = list(zip(line, w[0]))\n",
    "\n",
    "for o in res:\n",
    "    print(\"{: >20}: {: >10}\".format(*o))"
   ]
  },
  {
   "cell_type": "code",
   "execution_count": null,
   "metadata": {},
   "outputs": [
    {
     "ename": "MemoryError",
     "evalue": "Unable to allocate 324. GiB for an array with shape (208480, 208480) and data type float64",
     "output_type": "error",
     "traceback": [
      "\u001b[1;31m---------------------------------------------------------------------------\u001b[0m",
      "\u001b[1;31mMemoryError\u001b[0m                               Traceback (most recent call last)",
      "Cell \u001b[1;32mIn[31], line 34\u001b[0m\n\u001b[0;32m     30\u001b[0m     A \u001b[38;5;241m=\u001b[39m np\u001b[38;5;241m.\u001b[39mdot(R_pinv, Q\u001b[38;5;241m.\u001b[39mT) \u001b[38;5;66;03m# apply formula\u001b[39;00m\n\u001b[0;32m     32\u001b[0m     \u001b[38;5;28;01mreturn\u001b[39;00m np\u001b[38;5;241m.\u001b[39mdot(A, y_data)\n\u001b[1;32m---> 34\u001b[0m w \u001b[38;5;241m=\u001b[39m \u001b[43mlinear_regression\u001b[49m\u001b[43m(\u001b[49m\u001b[43mx_train\u001b[49m\u001b[43m,\u001b[49m\u001b[43m \u001b[49m\u001b[43my_train\u001b[49m\u001b[43m)\u001b[49m \u001b[38;5;66;03m# get result\u001b[39;00m\n\u001b[0;32m     35\u001b[0m w \u001b[38;5;241m=\u001b[39m w\u001b[38;5;241m.\u001b[39mT\u001b[38;5;241m.\u001b[39mtolist()\n\u001b[0;32m     36\u001b[0m line \u001b[38;5;241m=\u001b[39m [\u001b[38;5;124m'\u001b[39m\u001b[38;5;124mIntercept\u001b[39m\u001b[38;5;124m'\u001b[39m, \u001b[38;5;124m'\u001b[39m\u001b[38;5;124mgeo_level_1_id\u001b[39m\u001b[38;5;124m'\u001b[39m, \u001b[38;5;124m'\u001b[39m\u001b[38;5;124mgeo_level_2_id\u001b[39m\u001b[38;5;124m'\u001b[39m, \u001b[38;5;124m'\u001b[39m\u001b[38;5;124mgeo_level_3_id\u001b[39m\u001b[38;5;124m'\u001b[39m, \u001b[38;5;124m'\u001b[39m\u001b[38;5;124mcount_floors_pre_eq\u001b[39m\u001b[38;5;124m'\u001b[39m, \n\u001b[0;32m     37\u001b[0m         \u001b[38;5;124m'\u001b[39m\u001b[38;5;124mage\u001b[39m\u001b[38;5;124m'\u001b[39m, \u001b[38;5;124m'\u001b[39m\u001b[38;5;124marea_percentage\u001b[39m\u001b[38;5;124m'\u001b[39m, \u001b[38;5;124m'\u001b[39m\u001b[38;5;124mheight_percentage\u001b[39m\u001b[38;5;124m'\u001b[39m, \u001b[38;5;124m'\u001b[39m\u001b[38;5;124mcount_families\u001b[39m\u001b[38;5;124m'\u001b[39m]\n",
      "Cell \u001b[1;32mIn[31], line 28\u001b[0m, in \u001b[0;36mlinear_regression\u001b[1;34m(x_data, y_data)\u001b[0m\n\u001b[0;32m     16\u001b[0m \u001b[38;5;28;01mdef\u001b[39;00m \u001b[38;5;21mlinear_regression\u001b[39m(x_data, y_data):\n\u001b[0;32m     17\u001b[0m     \u001b[38;5;66;03m# \"\"\"\u001b[39;00m\n\u001b[0;32m     18\u001b[0m \n\u001b[1;32m   (...)\u001b[0m\n\u001b[0;32m     24\u001b[0m \n\u001b[0;32m     25\u001b[0m     \u001b[38;5;66;03m# add column 1\u001b[39;00m\n\u001b[0;32m     26\u001b[0m     x_bars \u001b[38;5;241m=\u001b[39m np\u001b[38;5;241m.\u001b[39mconcatenate((np\u001b[38;5;241m.\u001b[39mones((x_data\u001b[38;5;241m.\u001b[39mshape[\u001b[38;5;241m0\u001b[39m], \u001b[38;5;241m1\u001b[39m)), x_data), axis\u001b[38;5;241m=\u001b[39m\u001b[38;5;241m1\u001b[39m)\n\u001b[1;32m---> 28\u001b[0m     Q, R \u001b[38;5;241m=\u001b[39m \u001b[43mgs\u001b[49m\u001b[43m(\u001b[49m\u001b[43mx_bars\u001b[49m\u001b[43m)\u001b[49m \u001b[38;5;66;03m# QR decomposition\u001b[39;00m\n\u001b[0;32m     29\u001b[0m     R_pinv \u001b[38;5;241m=\u001b[39m np\u001b[38;5;241m.\u001b[39mlinalg\u001b[38;5;241m.\u001b[39mpinv(R) \u001b[38;5;66;03m# calculate inverse matrix of R\u001b[39;00m\n\u001b[0;32m     30\u001b[0m     A \u001b[38;5;241m=\u001b[39m np\u001b[38;5;241m.\u001b[39mdot(R_pinv, Q\u001b[38;5;241m.\u001b[39mT) \u001b[38;5;66;03m# apply formula\u001b[39;00m\n",
      "Cell \u001b[1;32mIn[31], line 5\u001b[0m, in \u001b[0;36mgs\u001b[1;34m(A)\u001b[0m\n\u001b[0;32m      3\u001b[0m m \u001b[38;5;241m=\u001b[39m np\u001b[38;5;241m.\u001b[39mshape(A)[\u001b[38;5;241m0\u001b[39m]\n\u001b[0;32m      4\u001b[0m n \u001b[38;5;241m=\u001b[39m np\u001b[38;5;241m.\u001b[39mshape(A)[\u001b[38;5;241m1\u001b[39m]\n\u001b[1;32m----> 5\u001b[0m Q \u001b[38;5;241m=\u001b[39m  \u001b[43mnp\u001b[49m\u001b[38;5;241;43m.\u001b[39;49m\u001b[43mzeros\u001b[49m\u001b[43m(\u001b[49m\u001b[43m(\u001b[49m\u001b[43mm\u001b[49m\u001b[43m,\u001b[49m\u001b[43m \u001b[49m\u001b[43mm\u001b[49m\u001b[43m)\u001b[49m\u001b[43m)\u001b[49m\n\u001b[0;32m      6\u001b[0m R \u001b[38;5;241m=\u001b[39m  np\u001b[38;5;241m.\u001b[39mzeros((n, n)) \n\u001b[0;32m      7\u001b[0m \u001b[38;5;28;01mfor\u001b[39;00m j \u001b[38;5;129;01min\u001b[39;00m \u001b[38;5;28mrange\u001b[39m(n):\n",
      "\u001b[1;31mMemoryError\u001b[0m: Unable to allocate 324. GiB for an array with shape (208480, 208480) and data type float64"
     ]
    }
   ],
   "source": [
    "import numpy as np\n",
    "def gs(A):\n",
    "    m = np.shape(A)[0]\n",
    "    n = np.shape(A)[1]\n",
    "    Q =  np.zeros((m, m))\n",
    "    R =  np.zeros((n, n)) \n",
    "    for j in range(n):\n",
    "        v = A[:,j]\n",
    "        for i in range(j):\n",
    "            R[i,j] =  np.dot(Q[:,i].T , A[:,j]) \n",
    "            v = v.squeeze() - (R[i,j] * Q[:,i])\n",
    "        R[j,j] =  np.linalg.norm(v)\n",
    "        Q[:,j] = (v / R[j,j]).squeeze()\n",
    "    return Q, R\n",
    "\n",
    "def linear_regression(x_data, y_data):\n",
    "    # \"\"\"\n",
    "\n",
    "    # This function calculate linear regression base on x_data and y_data\n",
    "    # :param x_data: vector\n",
    "    # :param y_data: vector\n",
    "    # :return: w (regression estimate)\n",
    "    # \"\"\"\n",
    "\n",
    "    # add column 1\n",
    "    x_bars = np.concatenate((np.ones((x_data.shape[0], 1)), x_data), axis=1)\n",
    "\n",
    "    Q, R = gs(x_bars) # QR decomposition\n",
    "    R_pinv = np.linalg.pinv(R) # calculate inverse matrix of R\n",
    "    A = np.dot(R_pinv, Q.T) # apply formula\n",
    "\n",
    "    return np.dot(A, y_data)\n",
    "\n",
    "w = linear_regression(x_train, y_train) # get result\n",
    "w = w.T.tolist()\n",
    "line = ['Intercept', 'geo_level_1_id', 'geo_level_2_id', 'geo_level_3_id', 'count_floors_pre_eq', \n",
    "        'age', 'area_percentage', 'height_percentage', 'count_families']\n",
    "res = list(zip(line, w[0]))\n",
    "\n",
    "for o in res:\n",
    "    print(\"{: >20}: {: >10}\".format(*o))"
   ]
  },
  {
   "cell_type": "markdown",
   "metadata": {},
   "source": [
    "Không đủ bộ nhớ để tạo một mảng NumPy có kích thước lớn như (208480, 208480) với kiểu dữ liệu float64"
   ]
  }
 ],
 "metadata": {
  "kernelspec": {
   "display_name": "Python 3",
   "language": "python",
   "name": "python3"
  },
  "language_info": {
   "codemirror_mode": {
    "name": "ipython",
    "version": 3
   },
   "file_extension": ".py",
   "mimetype": "text/x-python",
   "name": "python",
   "nbconvert_exporter": "python",
   "pygments_lexer": "ipython3",
   "version": "3.12.1"
  }
 },
 "nbformat": 4,
 "nbformat_minor": 2
}
