{
 "cells": [
  {
   "cell_type": "code",
   "execution_count": 2,
   "metadata": {},
   "outputs": [],
   "source": [
    "import pandas as pd\n",
    "import numpy as np\n",
    "from sklearn.model_selection import train_test_split\n",
    "from sklearn.naive_bayes import GaussianNB, MultinomialNB, BernoulliNB\n",
    "from mapping import map_str_values\n",
    "from sklearn import metrics\n",
    "from sklearn.decomposition import PCA\n",
    "from sklearn.preprocessing import StandardScaler, MinMaxScaler\n",
    "from datetime import datetime as dt"
   ]
  },
  {
   "cell_type": "markdown",
   "metadata": {},
   "source": [
    "## Data"
   ]
  },
  {
   "cell_type": "code",
   "execution_count": 3,
   "metadata": {},
   "outputs": [],
   "source": [
    "X = pd.read_csv(\"data/train_values.csv\", index_col=\"building_id\")\n",
    "Y = pd.read_csv(\"data/train_labels.csv\", index_col=\"building_id\") - 1\n",
    "# X = map_str_values(X)"
   ]
  },
  {
   "cell_type": "markdown",
   "metadata": {},
   "source": [
    "## Áp dụng one hot encode cho các biến phân loại "
   ]
  },
  {
   "cell_type": "code",
   "execution_count": 4,
   "metadata": {},
   "outputs": [
    {
     "data": {
      "text/html": [
       "<div>\n",
       "<style scoped>\n",
       "    .dataframe tbody tr th:only-of-type {\n",
       "        vertical-align: middle;\n",
       "    }\n",
       "\n",
       "    .dataframe tbody tr th {\n",
       "        vertical-align: top;\n",
       "    }\n",
       "\n",
       "    .dataframe thead th {\n",
       "        text-align: right;\n",
       "    }\n",
       "</style>\n",
       "<table border=\"1\" class=\"dataframe\">\n",
       "  <thead>\n",
       "    <tr style=\"text-align: right;\">\n",
       "      <th></th>\n",
       "      <th>count_floors_1</th>\n",
       "      <th>count_floors_2</th>\n",
       "      <th>count_floors_3</th>\n",
       "      <th>count_floors_4</th>\n",
       "      <th>count_floors_5</th>\n",
       "      <th>count_floors_6</th>\n",
       "      <th>count_floors_7</th>\n",
       "      <th>count_floors_8</th>\n",
       "      <th>count_floors_9</th>\n",
       "    </tr>\n",
       "    <tr>\n",
       "      <th>building_id</th>\n",
       "      <th></th>\n",
       "      <th></th>\n",
       "      <th></th>\n",
       "      <th></th>\n",
       "      <th></th>\n",
       "      <th></th>\n",
       "      <th></th>\n",
       "      <th></th>\n",
       "      <th></th>\n",
       "    </tr>\n",
       "  </thead>\n",
       "  <tbody>\n",
       "    <tr>\n",
       "      <th>802906</th>\n",
       "      <td>0</td>\n",
       "      <td>1</td>\n",
       "      <td>0</td>\n",
       "      <td>0</td>\n",
       "      <td>0</td>\n",
       "      <td>0</td>\n",
       "      <td>0</td>\n",
       "      <td>0</td>\n",
       "      <td>0</td>\n",
       "    </tr>\n",
       "    <tr>\n",
       "      <th>28830</th>\n",
       "      <td>0</td>\n",
       "      <td>1</td>\n",
       "      <td>0</td>\n",
       "      <td>0</td>\n",
       "      <td>0</td>\n",
       "      <td>0</td>\n",
       "      <td>0</td>\n",
       "      <td>0</td>\n",
       "      <td>0</td>\n",
       "    </tr>\n",
       "    <tr>\n",
       "      <th>94947</th>\n",
       "      <td>0</td>\n",
       "      <td>1</td>\n",
       "      <td>0</td>\n",
       "      <td>0</td>\n",
       "      <td>0</td>\n",
       "      <td>0</td>\n",
       "      <td>0</td>\n",
       "      <td>0</td>\n",
       "      <td>0</td>\n",
       "    </tr>\n",
       "    <tr>\n",
       "      <th>590882</th>\n",
       "      <td>0</td>\n",
       "      <td>1</td>\n",
       "      <td>0</td>\n",
       "      <td>0</td>\n",
       "      <td>0</td>\n",
       "      <td>0</td>\n",
       "      <td>0</td>\n",
       "      <td>0</td>\n",
       "      <td>0</td>\n",
       "    </tr>\n",
       "    <tr>\n",
       "      <th>201944</th>\n",
       "      <td>0</td>\n",
       "      <td>0</td>\n",
       "      <td>1</td>\n",
       "      <td>0</td>\n",
       "      <td>0</td>\n",
       "      <td>0</td>\n",
       "      <td>0</td>\n",
       "      <td>0</td>\n",
       "      <td>0</td>\n",
       "    </tr>\n",
       "    <tr>\n",
       "      <th>...</th>\n",
       "      <td>...</td>\n",
       "      <td>...</td>\n",
       "      <td>...</td>\n",
       "      <td>...</td>\n",
       "      <td>...</td>\n",
       "      <td>...</td>\n",
       "      <td>...</td>\n",
       "      <td>...</td>\n",
       "      <td>...</td>\n",
       "    </tr>\n",
       "    <tr>\n",
       "      <th>688636</th>\n",
       "      <td>1</td>\n",
       "      <td>0</td>\n",
       "      <td>0</td>\n",
       "      <td>0</td>\n",
       "      <td>0</td>\n",
       "      <td>0</td>\n",
       "      <td>0</td>\n",
       "      <td>0</td>\n",
       "      <td>0</td>\n",
       "    </tr>\n",
       "    <tr>\n",
       "      <th>669485</th>\n",
       "      <td>0</td>\n",
       "      <td>1</td>\n",
       "      <td>0</td>\n",
       "      <td>0</td>\n",
       "      <td>0</td>\n",
       "      <td>0</td>\n",
       "      <td>0</td>\n",
       "      <td>0</td>\n",
       "      <td>0</td>\n",
       "    </tr>\n",
       "    <tr>\n",
       "      <th>602512</th>\n",
       "      <td>0</td>\n",
       "      <td>0</td>\n",
       "      <td>1</td>\n",
       "      <td>0</td>\n",
       "      <td>0</td>\n",
       "      <td>0</td>\n",
       "      <td>0</td>\n",
       "      <td>0</td>\n",
       "      <td>0</td>\n",
       "    </tr>\n",
       "    <tr>\n",
       "      <th>151409</th>\n",
       "      <td>0</td>\n",
       "      <td>1</td>\n",
       "      <td>0</td>\n",
       "      <td>0</td>\n",
       "      <td>0</td>\n",
       "      <td>0</td>\n",
       "      <td>0</td>\n",
       "      <td>0</td>\n",
       "      <td>0</td>\n",
       "    </tr>\n",
       "    <tr>\n",
       "      <th>747594</th>\n",
       "      <td>0</td>\n",
       "      <td>0</td>\n",
       "      <td>1</td>\n",
       "      <td>0</td>\n",
       "      <td>0</td>\n",
       "      <td>0</td>\n",
       "      <td>0</td>\n",
       "      <td>0</td>\n",
       "      <td>0</td>\n",
       "    </tr>\n",
       "  </tbody>\n",
       "</table>\n",
       "<p>260601 rows × 9 columns</p>\n",
       "</div>"
      ],
      "text/plain": [
       "             count_floors_1  count_floors_2  count_floors_3  count_floors_4   \n",
       "building_id                                                                   \n",
       "802906                    0               1               0               0  \\\n",
       "28830                     0               1               0               0   \n",
       "94947                     0               1               0               0   \n",
       "590882                    0               1               0               0   \n",
       "201944                    0               0               1               0   \n",
       "...                     ...             ...             ...             ...   \n",
       "688636                    1               0               0               0   \n",
       "669485                    0               1               0               0   \n",
       "602512                    0               0               1               0   \n",
       "151409                    0               1               0               0   \n",
       "747594                    0               0               1               0   \n",
       "\n",
       "             count_floors_5  count_floors_6  count_floors_7  count_floors_8   \n",
       "building_id                                                                   \n",
       "802906                    0               0               0               0  \\\n",
       "28830                     0               0               0               0   \n",
       "94947                     0               0               0               0   \n",
       "590882                    0               0               0               0   \n",
       "201944                    0               0               0               0   \n",
       "...                     ...             ...             ...             ...   \n",
       "688636                    0               0               0               0   \n",
       "669485                    0               0               0               0   \n",
       "602512                    0               0               0               0   \n",
       "151409                    0               0               0               0   \n",
       "747594                    0               0               0               0   \n",
       "\n",
       "             count_floors_9  \n",
       "building_id                  \n",
       "802906                    0  \n",
       "28830                     0  \n",
       "94947                     0  \n",
       "590882                    0  \n",
       "201944                    0  \n",
       "...                     ...  \n",
       "688636                    0  \n",
       "669485                    0  \n",
       "602512                    0  \n",
       "151409                    0  \n",
       "747594                    0  \n",
       "\n",
       "[260601 rows x 9 columns]"
      ]
     },
     "execution_count": 4,
     "metadata": {},
     "output_type": "execute_result"
    }
   ],
   "source": [
    "encoded_temp = pd.get_dummies(X[\"count_floors_pre_eq\"], prefix=\"count_floors\").astype(int)\n",
    "encoded_temp\n"
   ]
  },
  {
   "cell_type": "code",
   "execution_count": 5,
   "metadata": {},
   "outputs": [],
   "source": [
    "X_encoded = pd.get_dummies(X, dtype=int).drop(columns=\"count_floors_pre_eq\")\n",
    "# X_encoded.assign(encoded_temp)\n",
    "# X_encoded.dtypes\n",
    "for temp_col in encoded_temp.columns:\n",
    "    X_encoded[temp_col] = encoded_temp[temp_col]"
   ]
  },
  {
   "cell_type": "code",
   "execution_count": 39,
   "metadata": {},
   "outputs": [
    {
     "data": {
      "text/html": [
       "<div>\n",
       "<style scoped>\n",
       "    .dataframe tbody tr th:only-of-type {\n",
       "        vertical-align: middle;\n",
       "    }\n",
       "\n",
       "    .dataframe tbody tr th {\n",
       "        vertical-align: top;\n",
       "    }\n",
       "\n",
       "    .dataframe thead th {\n",
       "        text-align: right;\n",
       "    }\n",
       "</style>\n",
       "<table border=\"1\" class=\"dataframe\">\n",
       "  <thead>\n",
       "    <tr style=\"text-align: right;\">\n",
       "      <th></th>\n",
       "      <th>geo_level_1_id</th>\n",
       "      <th>geo_level_2_id</th>\n",
       "      <th>geo_level_3_id</th>\n",
       "      <th>age</th>\n",
       "      <th>area_percentage</th>\n",
       "      <th>height_percentage</th>\n",
       "      <th>has_superstructure_adobe_mud</th>\n",
       "      <th>has_superstructure_mud_mortar_stone</th>\n",
       "      <th>has_superstructure_stone_flag</th>\n",
       "      <th>has_superstructure_cement_mortar_stone</th>\n",
       "      <th>...</th>\n",
       "      <th>legal_ownership_status_w</th>\n",
       "      <th>count_floors_1</th>\n",
       "      <th>count_floors_2</th>\n",
       "      <th>count_floors_3</th>\n",
       "      <th>count_floors_4</th>\n",
       "      <th>count_floors_5</th>\n",
       "      <th>count_floors_6</th>\n",
       "      <th>count_floors_7</th>\n",
       "      <th>count_floors_8</th>\n",
       "      <th>count_floors_9</th>\n",
       "    </tr>\n",
       "    <tr>\n",
       "      <th>building_id</th>\n",
       "      <th></th>\n",
       "      <th></th>\n",
       "      <th></th>\n",
       "      <th></th>\n",
       "      <th></th>\n",
       "      <th></th>\n",
       "      <th></th>\n",
       "      <th></th>\n",
       "      <th></th>\n",
       "      <th></th>\n",
       "      <th></th>\n",
       "      <th></th>\n",
       "      <th></th>\n",
       "      <th></th>\n",
       "      <th></th>\n",
       "      <th></th>\n",
       "      <th></th>\n",
       "      <th></th>\n",
       "      <th></th>\n",
       "      <th></th>\n",
       "      <th></th>\n",
       "    </tr>\n",
       "  </thead>\n",
       "  <tbody>\n",
       "    <tr>\n",
       "      <th>802906</th>\n",
       "      <td>6</td>\n",
       "      <td>487</td>\n",
       "      <td>12198</td>\n",
       "      <td>30</td>\n",
       "      <td>6</td>\n",
       "      <td>5</td>\n",
       "      <td>1</td>\n",
       "      <td>1</td>\n",
       "      <td>0</td>\n",
       "      <td>0</td>\n",
       "      <td>...</td>\n",
       "      <td>0</td>\n",
       "      <td>0</td>\n",
       "      <td>1</td>\n",
       "      <td>0</td>\n",
       "      <td>0</td>\n",
       "      <td>0</td>\n",
       "      <td>0</td>\n",
       "      <td>0</td>\n",
       "      <td>0</td>\n",
       "      <td>0</td>\n",
       "    </tr>\n",
       "    <tr>\n",
       "      <th>28830</th>\n",
       "      <td>8</td>\n",
       "      <td>900</td>\n",
       "      <td>2812</td>\n",
       "      <td>10</td>\n",
       "      <td>8</td>\n",
       "      <td>7</td>\n",
       "      <td>0</td>\n",
       "      <td>1</td>\n",
       "      <td>0</td>\n",
       "      <td>0</td>\n",
       "      <td>...</td>\n",
       "      <td>0</td>\n",
       "      <td>0</td>\n",
       "      <td>1</td>\n",
       "      <td>0</td>\n",
       "      <td>0</td>\n",
       "      <td>0</td>\n",
       "      <td>0</td>\n",
       "      <td>0</td>\n",
       "      <td>0</td>\n",
       "      <td>0</td>\n",
       "    </tr>\n",
       "    <tr>\n",
       "      <th>94947</th>\n",
       "      <td>21</td>\n",
       "      <td>363</td>\n",
       "      <td>8973</td>\n",
       "      <td>10</td>\n",
       "      <td>5</td>\n",
       "      <td>5</td>\n",
       "      <td>0</td>\n",
       "      <td>1</td>\n",
       "      <td>0</td>\n",
       "      <td>0</td>\n",
       "      <td>...</td>\n",
       "      <td>0</td>\n",
       "      <td>0</td>\n",
       "      <td>1</td>\n",
       "      <td>0</td>\n",
       "      <td>0</td>\n",
       "      <td>0</td>\n",
       "      <td>0</td>\n",
       "      <td>0</td>\n",
       "      <td>0</td>\n",
       "      <td>0</td>\n",
       "    </tr>\n",
       "    <tr>\n",
       "      <th>590882</th>\n",
       "      <td>22</td>\n",
       "      <td>418</td>\n",
       "      <td>10694</td>\n",
       "      <td>10</td>\n",
       "      <td>6</td>\n",
       "      <td>5</td>\n",
       "      <td>0</td>\n",
       "      <td>1</td>\n",
       "      <td>0</td>\n",
       "      <td>0</td>\n",
       "      <td>...</td>\n",
       "      <td>0</td>\n",
       "      <td>0</td>\n",
       "      <td>1</td>\n",
       "      <td>0</td>\n",
       "      <td>0</td>\n",
       "      <td>0</td>\n",
       "      <td>0</td>\n",
       "      <td>0</td>\n",
       "      <td>0</td>\n",
       "      <td>0</td>\n",
       "    </tr>\n",
       "    <tr>\n",
       "      <th>201944</th>\n",
       "      <td>11</td>\n",
       "      <td>131</td>\n",
       "      <td>1488</td>\n",
       "      <td>30</td>\n",
       "      <td>8</td>\n",
       "      <td>9</td>\n",
       "      <td>1</td>\n",
       "      <td>0</td>\n",
       "      <td>0</td>\n",
       "      <td>0</td>\n",
       "      <td>...</td>\n",
       "      <td>0</td>\n",
       "      <td>0</td>\n",
       "      <td>0</td>\n",
       "      <td>1</td>\n",
       "      <td>0</td>\n",
       "      <td>0</td>\n",
       "      <td>0</td>\n",
       "      <td>0</td>\n",
       "      <td>0</td>\n",
       "      <td>0</td>\n",
       "    </tr>\n",
       "    <tr>\n",
       "      <th>...</th>\n",
       "      <td>...</td>\n",
       "      <td>...</td>\n",
       "      <td>...</td>\n",
       "      <td>...</td>\n",
       "      <td>...</td>\n",
       "      <td>...</td>\n",
       "      <td>...</td>\n",
       "      <td>...</td>\n",
       "      <td>...</td>\n",
       "      <td>...</td>\n",
       "      <td>...</td>\n",
       "      <td>...</td>\n",
       "      <td>...</td>\n",
       "      <td>...</td>\n",
       "      <td>...</td>\n",
       "      <td>...</td>\n",
       "      <td>...</td>\n",
       "      <td>...</td>\n",
       "      <td>...</td>\n",
       "      <td>...</td>\n",
       "      <td>...</td>\n",
       "    </tr>\n",
       "    <tr>\n",
       "      <th>688636</th>\n",
       "      <td>25</td>\n",
       "      <td>1335</td>\n",
       "      <td>1621</td>\n",
       "      <td>55</td>\n",
       "      <td>6</td>\n",
       "      <td>3</td>\n",
       "      <td>0</td>\n",
       "      <td>1</td>\n",
       "      <td>0</td>\n",
       "      <td>0</td>\n",
       "      <td>...</td>\n",
       "      <td>0</td>\n",
       "      <td>1</td>\n",
       "      <td>0</td>\n",
       "      <td>0</td>\n",
       "      <td>0</td>\n",
       "      <td>0</td>\n",
       "      <td>0</td>\n",
       "      <td>0</td>\n",
       "      <td>0</td>\n",
       "      <td>0</td>\n",
       "    </tr>\n",
       "    <tr>\n",
       "      <th>669485</th>\n",
       "      <td>17</td>\n",
       "      <td>715</td>\n",
       "      <td>2060</td>\n",
       "      <td>0</td>\n",
       "      <td>6</td>\n",
       "      <td>5</td>\n",
       "      <td>0</td>\n",
       "      <td>1</td>\n",
       "      <td>0</td>\n",
       "      <td>0</td>\n",
       "      <td>...</td>\n",
       "      <td>0</td>\n",
       "      <td>0</td>\n",
       "      <td>1</td>\n",
       "      <td>0</td>\n",
       "      <td>0</td>\n",
       "      <td>0</td>\n",
       "      <td>0</td>\n",
       "      <td>0</td>\n",
       "      <td>0</td>\n",
       "      <td>0</td>\n",
       "    </tr>\n",
       "    <tr>\n",
       "      <th>602512</th>\n",
       "      <td>17</td>\n",
       "      <td>51</td>\n",
       "      <td>8163</td>\n",
       "      <td>55</td>\n",
       "      <td>6</td>\n",
       "      <td>7</td>\n",
       "      <td>0</td>\n",
       "      <td>1</td>\n",
       "      <td>0</td>\n",
       "      <td>0</td>\n",
       "      <td>...</td>\n",
       "      <td>0</td>\n",
       "      <td>0</td>\n",
       "      <td>0</td>\n",
       "      <td>1</td>\n",
       "      <td>0</td>\n",
       "      <td>0</td>\n",
       "      <td>0</td>\n",
       "      <td>0</td>\n",
       "      <td>0</td>\n",
       "      <td>0</td>\n",
       "    </tr>\n",
       "    <tr>\n",
       "      <th>151409</th>\n",
       "      <td>26</td>\n",
       "      <td>39</td>\n",
       "      <td>1851</td>\n",
       "      <td>10</td>\n",
       "      <td>14</td>\n",
       "      <td>6</td>\n",
       "      <td>0</td>\n",
       "      <td>0</td>\n",
       "      <td>0</td>\n",
       "      <td>0</td>\n",
       "      <td>...</td>\n",
       "      <td>0</td>\n",
       "      <td>0</td>\n",
       "      <td>1</td>\n",
       "      <td>0</td>\n",
       "      <td>0</td>\n",
       "      <td>0</td>\n",
       "      <td>0</td>\n",
       "      <td>0</td>\n",
       "      <td>0</td>\n",
       "      <td>0</td>\n",
       "    </tr>\n",
       "    <tr>\n",
       "      <th>747594</th>\n",
       "      <td>21</td>\n",
       "      <td>9</td>\n",
       "      <td>9101</td>\n",
       "      <td>10</td>\n",
       "      <td>7</td>\n",
       "      <td>6</td>\n",
       "      <td>0</td>\n",
       "      <td>1</td>\n",
       "      <td>0</td>\n",
       "      <td>0</td>\n",
       "      <td>...</td>\n",
       "      <td>0</td>\n",
       "      <td>0</td>\n",
       "      <td>0</td>\n",
       "      <td>1</td>\n",
       "      <td>0</td>\n",
       "      <td>0</td>\n",
       "      <td>0</td>\n",
       "      <td>0</td>\n",
       "      <td>0</td>\n",
       "      <td>0</td>\n",
       "    </tr>\n",
       "  </tbody>\n",
       "</table>\n",
       "<p>260601 rows × 76 columns</p>\n",
       "</div>"
      ],
      "text/plain": [
       "             geo_level_1_id  geo_level_2_id  geo_level_3_id  age   \n",
       "building_id                                                        \n",
       "802906                    6             487           12198   30  \\\n",
       "28830                     8             900            2812   10   \n",
       "94947                    21             363            8973   10   \n",
       "590882                   22             418           10694   10   \n",
       "201944                   11             131            1488   30   \n",
       "...                     ...             ...             ...  ...   \n",
       "688636                   25            1335            1621   55   \n",
       "669485                   17             715            2060    0   \n",
       "602512                   17              51            8163   55   \n",
       "151409                   26              39            1851   10   \n",
       "747594                   21               9            9101   10   \n",
       "\n",
       "             area_percentage  height_percentage  has_superstructure_adobe_mud   \n",
       "building_id                                                                     \n",
       "802906                     6                  5                             1  \\\n",
       "28830                      8                  7                             0   \n",
       "94947                      5                  5                             0   \n",
       "590882                     6                  5                             0   \n",
       "201944                     8                  9                             1   \n",
       "...                      ...                ...                           ...   \n",
       "688636                     6                  3                             0   \n",
       "669485                     6                  5                             0   \n",
       "602512                     6                  7                             0   \n",
       "151409                    14                  6                             0   \n",
       "747594                     7                  6                             0   \n",
       "\n",
       "             has_superstructure_mud_mortar_stone   \n",
       "building_id                                        \n",
       "802906                                         1  \\\n",
       "28830                                          1   \n",
       "94947                                          1   \n",
       "590882                                         1   \n",
       "201944                                         0   \n",
       "...                                          ...   \n",
       "688636                                         1   \n",
       "669485                                         1   \n",
       "602512                                         1   \n",
       "151409                                         0   \n",
       "747594                                         1   \n",
       "\n",
       "             has_superstructure_stone_flag   \n",
       "building_id                                  \n",
       "802906                                   0  \\\n",
       "28830                                    0   \n",
       "94947                                    0   \n",
       "590882                                   0   \n",
       "201944                                   0   \n",
       "...                                    ...   \n",
       "688636                                   0   \n",
       "669485                                   0   \n",
       "602512                                   0   \n",
       "151409                                   0   \n",
       "747594                                   0   \n",
       "\n",
       "             has_superstructure_cement_mortar_stone  ...   \n",
       "building_id                                          ...   \n",
       "802906                                            0  ...  \\\n",
       "28830                                             0  ...   \n",
       "94947                                             0  ...   \n",
       "590882                                            0  ...   \n",
       "201944                                            0  ...   \n",
       "...                                             ...  ...   \n",
       "688636                                            0  ...   \n",
       "669485                                            0  ...   \n",
       "602512                                            0  ...   \n",
       "151409                                            0  ...   \n",
       "747594                                            0  ...   \n",
       "\n",
       "             legal_ownership_status_w  count_floors_1  count_floors_2   \n",
       "building_id                                                             \n",
       "802906                              0               0               1  \\\n",
       "28830                               0               0               1   \n",
       "94947                               0               0               1   \n",
       "590882                              0               0               1   \n",
       "201944                              0               0               0   \n",
       "...                               ...             ...             ...   \n",
       "688636                              0               1               0   \n",
       "669485                              0               0               1   \n",
       "602512                              0               0               0   \n",
       "151409                              0               0               1   \n",
       "747594                              0               0               0   \n",
       "\n",
       "             count_floors_3  count_floors_4  count_floors_5  count_floors_6   \n",
       "building_id                                                                   \n",
       "802906                    0               0               0               0  \\\n",
       "28830                     0               0               0               0   \n",
       "94947                     0               0               0               0   \n",
       "590882                    0               0               0               0   \n",
       "201944                    1               0               0               0   \n",
       "...                     ...             ...             ...             ...   \n",
       "688636                    0               0               0               0   \n",
       "669485                    0               0               0               0   \n",
       "602512                    1               0               0               0   \n",
       "151409                    0               0               0               0   \n",
       "747594                    1               0               0               0   \n",
       "\n",
       "             count_floors_7  count_floors_8  count_floors_9  \n",
       "building_id                                                  \n",
       "802906                    0               0               0  \n",
       "28830                     0               0               0  \n",
       "94947                     0               0               0  \n",
       "590882                    0               0               0  \n",
       "201944                    0               0               0  \n",
       "...                     ...             ...             ...  \n",
       "688636                    0               0               0  \n",
       "669485                    0               0               0  \n",
       "602512                    0               0               0  \n",
       "151409                    0               0               0  \n",
       "747594                    0               0               0  \n",
       "\n",
       "[260601 rows x 76 columns]"
      ]
     },
     "execution_count": 39,
     "metadata": {},
     "output_type": "execute_result"
    }
   ],
   "source": [
    "X_encoded"
   ]
  },
  {
   "cell_type": "markdown",
   "metadata": {},
   "source": [
    "## Chia train, test"
   ]
  },
  {
   "cell_type": "code",
   "execution_count": 40,
   "metadata": {},
   "outputs": [
    {
     "data": {
      "text/plain": [
       "(195450, 76)"
      ]
     },
     "execution_count": 40,
     "metadata": {},
     "output_type": "execute_result"
    }
   ],
   "source": [
    "X_train, X_test, Y_train, Y_test = train_test_split(X_encoded, Y, test_size=0.25, random_state=192)\n",
    "X_train.shape"
   ]
  },
  {
   "cell_type": "code",
   "execution_count": 59,
   "metadata": {},
   "outputs": [
    {
     "data": {
      "text/plain": [
       "array([ 6,  7,  8,  9, 10, 11, 12, 13, 14, 15, 16, 18, 19, 20, 21, 22, 23,\n",
       "       24, 25, 26, 27, 28, 29, 30, 31, 32, 33, 34, 35, 36, 37, 38, 39, 40,\n",
       "       41, 42, 43, 44, 45, 46, 47, 48, 49, 50, 51, 52, 53, 54, 55, 56, 57,\n",
       "       58, 59, 60, 61, 62, 63, 64, 65, 66, 67, 68, 69, 70, 71, 72, 73, 74,\n",
       "       75], dtype=int64)"
      ]
     },
     "execution_count": 59,
     "metadata": {},
     "output_type": "execute_result"
    }
   ],
   "source": [
    "continuous_cols = np.array(['geo_level_1_id', 'geo_level_2_id', 'geo_level_3_id',\n",
    "       'age', 'area_percentage', 'height_percentage', 'count_families'])\n",
    "\n",
    "binary_cols = X_train[X_train.columns.difference(continuous_cols)].columns.to_numpy()\n",
    "\n",
    "continuous_idxs = np.sort(X_train.columns.get_indexer(continuous_cols))\n",
    "binary_idxs = np.sort(X_train.columns.get_indexer(binary_cols))\n",
    "\n",
    "binary_idxs"
   ]
  },
  {
   "cell_type": "markdown",
   "metadata": {},
   "source": [
    "---"
   ]
  },
  {
   "cell_type": "markdown",
   "metadata": {},
   "source": [
    "## Model MixedNB kết hợp giữa GaussianNB và BernouliNB (Tự code)"
   ]
  },
  {
   "attachments": {
    "image.png": {
     "image/png": "[encoded data removed]"
    }
   },
   "cell_type": "markdown",
   "metadata": {},
   "source": [
    "- Vì một bộ data có thể chứa rất nhiều loại dữ liệu, cụ thể với bộ dữ liệu động đất nepal có 3 loại: (continuous, categorical, binary)\n",
    "- Chúng ta có thể convert dữ liệu categorical và binary về cùng một loại => Quyết định convert categorical về binary sử dụng one hot encode\n",
    "\n",
    "   ![image.png](attachment:image.png)\n",
    "\n",
    "=> Dữ liệu chỉ còn 2 loại continuous và binary, chúng ta có thể sử dụng 2 mô hình GaussianNB và BernouliNB"
   ]
  },
  {
   "cell_type": "markdown",
   "metadata": {},
   "source": [
    "- Ý tưởng: Xác định các feature nào là continuous, feature nào là binary và tính toán các xác xuất của feature với loại dữ liệu tương ứng (Giải thích ở file naive_bayes.ipynb)"
   ]
  },
  {
   "cell_type": "code",
   "execution_count": 42,
   "metadata": {},
   "outputs": [],
   "source": [
    "class MixedNB():\n",
    "    def __init__(self, gauss_index=None, bernouli_index=None):\n",
    "        self.gauss_index = gauss_index # Index để tính xs của gauss\n",
    "        self.bernouli_index = bernouli_index # Index để tính xs của bernouli\n",
    "\n",
    "\n",
    "    def fit(self, X, Y): # Lưu trữ, tính toán những tham số cần thiết cho 2 mô hình gaussianNB và bernouliNB\n",
    "        self.classes = np.unique(np.array(Y))\n",
    "        self.n_features = X.shape[1]\n",
    "        n_class = len(self.classes)\n",
    "        self.class_priors = np.empty(shape=(n_class))\n",
    "\n",
    "        self._calculate_stuffs(X, Y)\n",
    "\n",
    "    def _calculate_stuffs(self, X, Y): # Tính toán means, vars, các P(i|c)  \n",
    "        P_ic = []\n",
    "        means = []\n",
    "        vars_ = []\n",
    "\n",
    "        for k, c in enumerate(self.classes): # Lặp qua tất cả các class\n",
    "            Xc = X.iloc[np.where(Y == c)] # Lấy ra các X có cùng class\n",
    "            temp = [] # Mảng lưu trữ các xs P(i|C) của class c\n",
    "            temp_mean = [] # Mảng lưu trữ các mean của class c \n",
    "            temp_var = [] # Mảng lưu trữ các var của class c\n",
    "            self.class_priors[k] = (len(Xc)) / (len(X)) # Tính toán xs prior của class c\n",
    "            \n",
    "            for i in range(X.shape[1]): # Lặp qua tất cả các feature của các record có cùng class c\n",
    "                feat_probs_c = np.sum(Xc.iloc[:, i]) / len(Xc)\n",
    "\n",
    "                temp.append(feat_probs_c)\n",
    "                temp_mean.append(np.mean(Xc.iloc[:, i]))\n",
    "                temp_var.append(np.var(Xc.iloc[:, i]))\n",
    "\n",
    "            P_ic.append(temp)\n",
    "            means.append(temp_mean)\n",
    "            vars_.append(temp_var)\n",
    "\n",
    "        # Lưu trữ các ma trận xs, means, vars của tất cả các class\n",
    "        self.P_ic = np.array(P_ic)\n",
    "        self.means = np.array(means)\n",
    "        self.vars = np.array(vars_)\n",
    "\n",
    "\n",
    "    def _pdf_binomial(self, x, feat_probs_class): # Hàm pdf của pp nhị thức\n",
    "        return (feat_probs_class ** x) * ((1 - feat_probs_class) ** (1 - x))\n",
    "    \n",
    "\n",
    "    def _pdf_gauss(self, x, mean, variance): # Hàm pdf của pp gauss\n",
    "        exponent = np.exp(-((x - mean) ** 2) / (2 * variance))\n",
    "        return (1 / np.sqrt(2 * np.pi * variance)) * exponent\n",
    "    \n",
    "    \n",
    "    def _get_joint_probs(self, X): # Tính toán các xs posteriors\n",
    "\n",
    "        class_probs = []\n",
    "        for x in X:\n",
    "            # print(x)\n",
    "            posts = []\n",
    "\n",
    "            for i in range(len(self.class_priors)):\n",
    "                post = np.log(self.class_priors[i]) # Lấy ra xs priors ứng với class thứ i\n",
    "\n",
    "                for j in range(X.shape[1]): # Xét theo index truyền vào để quyết định xem tính toán với pdf nào\n",
    "        \n",
    "                    if j in self.gauss_index:\n",
    "                        post += np.log(self._pdf_gauss(x=x[j], mean=self.means[i,j], variance=self.vars[i, j]))\n",
    "                    elif j in self.bernouli_index:\n",
    "        \n",
    "                        post += np.log(self._pdf_binomial(x=x[j], feat_probs_class=self.P_ic[i, j]))\n",
    "\n",
    "                posts.append(post)\n",
    "            class_probs.append(posts)\n",
    "\n",
    "        return np.array(class_probs)\n",
    "    \n",
    "    \n",
    "    def predict(self, X):\n",
    "        probs = self._get_joint_probs(X)\n",
    "        # print(probs)\n",
    "        Y_preds = []\n",
    "        for prob in probs: # Lặp qua tất cả các xs posteriors\n",
    "            Y_preds.append(self.classes[np.argmax(prob)]) # Lấy index của xs max => Phân loại\n",
    "\n",
    "        return np.array(Y_preds)\n",
    "\n"
   ]
  },
  {
   "cell_type": "markdown",
   "metadata": {},
   "source": [
    "- Do bộ data có nhiều loại dữ liệu, cụ thể là feature từ (0-6) là liên tục, feature (7-n) là binary (Do đã áp dụng one hot encode) nên chúng ta có thể truyền dữ liệu index dưới dạng range"
   ]
  },
  {
   "cell_type": "code",
   "execution_count": 43,
   "metadata": {},
   "outputs": [],
   "source": [
    "mixNB = MixedNB(continuous_idxs, binary_idxs)\n",
    "mixNB.fit(X_train, Y_train[\"damage_grade\"])\n"
   ]
  },
  {
   "cell_type": "code",
   "execution_count": 44,
   "metadata": {},
   "outputs": [
    {
     "name": "stderr",
     "output_type": "stream",
     "text": [
      "C:\\Users\\Admin\\AppData\\Local\\Temp\\ipykernel_10424\\1289597055.py:69: RuntimeWarning: divide by zero encountered in log\n",
      "  post += np.log(self._pdf_binomial(x=x[j], feat_probs_class=self.P_ic[i, j]))\n"
     ]
    },
    {
     "data": {
      "text/plain": [
       "(65151,)"
      ]
     },
     "execution_count": 44,
     "metadata": {},
     "output_type": "execute_result"
    }
   ],
   "source": [
    "preds = mixNB.predict(X_test.to_numpy())\n",
    "preds.shape"
   ]
  },
  {
   "cell_type": "markdown",
   "metadata": {},
   "source": [
    "- Do code chưa tối ưu về thuật toán nên thời gian chạy khá lâu (20 - 30s) nhưng độ chính xác cũng không quá kém với những mô hình NB khác "
   ]
  },
  {
   "cell_type": "code",
   "execution_count": 45,
   "metadata": {},
   "outputs": [
    {
     "name": "stdout",
     "output_type": "stream",
     "text": [
      "              precision    recall  f1-score   support\n",
      "\n",
      "           0     0.4080    0.5743    0.4771      6275\n",
      "           1     0.6544    0.4009    0.4972     37165\n",
      "           2     0.4383    0.6773    0.5322     21711\n",
      "\n",
      "    accuracy                         0.5097     65151\n",
      "   macro avg     0.5002    0.5508    0.5022     65151\n",
      "weighted avg     0.5587    0.5097    0.5069     65151\n",
      "\n"
     ]
    }
   ],
   "source": [
    "print(metrics.classification_report(Y_test, preds, digits=4))"
   ]
  },
  {
   "cell_type": "code",
   "execution_count": 46,
   "metadata": {},
   "outputs": [
    {
     "name": "stdout",
     "output_type": "stream",
     "text": [
      "[[ 3604  1634  1037]\n",
      " [ 4457 14900 17808]\n",
      " [  772  6235 14704]]\n"
     ]
    },
    {
     "data": {
      "image/png": "[encoded data removed]",
      "text/plain": [
       "<Figure size 640x480 with 1 Axes>"
      ]
     },
     "metadata": {},
     "output_type": "display_data"
    }
   ],
   "source": [
    "cm = metrics.confusion_matrix(Y_test, preds)\n",
    "metrics.ConfusionMatrixDisplay(cm, display_labels=[\"damage_grade 0\", \"damage_grade 1\", \"damage_grade 2\"]).plot(cmap=\"magma\", colorbar=False)\n",
    "print(cm)"
   ]
  },
  {
   "cell_type": "markdown",
   "metadata": {},
   "source": [
    "---"
   ]
  },
  {
   "cell_type": "markdown",
   "metadata": {},
   "source": [
    "## Dùng kết hợp 2 thư viện GaussianNB và BernoulliNB để tạo thành mô hình mới"
   ]
  },
  {
   "cell_type": "code",
   "execution_count": 47,
   "metadata": {},
   "outputs": [],
   "source": [
    "class MixedNB2():\n",
    "    def __init__(self, continuous_idx, binary_idx):\n",
    "        self.continuous_idx = continuous_idx\n",
    "        self.binary_idx = binary_idx\n",
    "\n",
    "        self.gaussNB = GaussianNB()\n",
    "        self.berNB = BernoulliNB()\n",
    "\n",
    "    def fit(self, X, Y): # fit cả 2 model theo index truyền vào\n",
    "        self.gaussNB.fit(X.iloc[:,self.continuous_idx], Y)\n",
    "        self.berNB.fit(X.iloc[:, self.binary_idx], Y)\n",
    "\n",
    "    def predict(self, X):\n",
    "        y_pred = np.empty(X.shape[0])\n",
    "        pred_probs_gauss = self.gaussNB.predict_joint_log_proba(X.iloc[:,self.continuous_idx]) # Lấy ra log(P(X|c)) ứng với mỗi xi trong X_test truyền vào (trong khoảng continuous_idx)\n",
    "        pred_probs_bern = self.berNB.predict_joint_log_proba(X.iloc[:, self.binary_idx]) # Lấy ra log(P(X|c)) ứng với mỗi xi trong X_test truyền vào (trong khoảng binary_idx)\n",
    "        log_posts = pred_probs_gauss + pred_probs_bern # Tính log(P(y|c)) \n",
    "\n",
    "        for i in range(len(log_posts)):\n",
    "            y_pred[i] = np.argmax(log_posts[i])\n",
    "\n",
    "        return np.array(y_pred, dtype=int)\n",
    "        "
   ]
  },
  {
   "cell_type": "code",
   "execution_count": 83,
   "metadata": {},
   "outputs": [
    {
     "name": "stderr",
     "output_type": "stream",
     "text": [
      "c:\\Users\\Admin\\AppData\\Local\\Programs\\Python\\Python311\\Lib\\site-packages\\sklearn\\utils\\validation.py:1143: DataConversionWarning: A column-vector y was passed when a 1d array was expected. Please change the shape of y to (n_samples, ), for example using ravel().\n",
      "  y = column_or_1d(y, warn=True)\n",
      "c:\\Users\\Admin\\AppData\\Local\\Programs\\Python\\Python311\\Lib\\site-packages\\sklearn\\utils\\validation.py:1143: DataConversionWarning: A column-vector y was passed when a 1d array was expected. Please change the shape of y to (n_samples, ), for example using ravel().\n",
      "  y = column_or_1d(y, warn=True)\n"
     ]
    }
   ],
   "source": [
    "start = dt.now()\n",
    "mNB2 = MixedNB2(continuous_idxs, binary_idxs)\n",
    "mNB2.fit(X_train, Y_train)\n",
    "Y_preds = mNB2.predict(X_test)\n",
    "running_secs = (dt.now() - start).microseconds"
   ]
  },
  {
   "cell_type": "code",
   "execution_count": 84,
   "metadata": {},
   "outputs": [
    {
     "data": {
      "text/plain": [
       "array([0, 1, 1, ..., 1, 0, 0])"
      ]
     },
     "execution_count": 84,
     "metadata": {},
     "output_type": "execute_result"
    }
   ],
   "source": [
    "Y_preds"
   ]
  },
  {
   "cell_type": "code",
   "execution_count": 86,
   "metadata": {},
   "outputs": [
    {
     "name": "stdout",
     "output_type": "stream",
     "text": [
      "time: 622495 microsecs\n"
     ]
    }
   ],
   "source": [
    "print(f\"time: {running_secs} microsecs\")"
   ]
  },
  {
   "cell_type": "code",
   "execution_count": 50,
   "metadata": {},
   "outputs": [
    {
     "name": "stdout",
     "output_type": "stream",
     "text": [
      "              precision    recall  f1-score   support\n",
      "\n",
      "           0     0.4332    0.5243    0.4744      6275\n",
      "           1     0.6211    0.6994    0.6579     37165\n",
      "           2     0.5070    0.3667    0.4256     21711\n",
      "\n",
      "    accuracy                         0.5717     65151\n",
      "   macro avg     0.5204    0.5302    0.5193     65151\n",
      "weighted avg     0.5650    0.5717    0.5628     65151\n",
      "\n"
     ]
    }
   ],
   "source": [
    "print(metrics.classification_report(Y_test, Y_preds, digits=4))"
   ]
  },
  {
   "cell_type": "code",
   "execution_count": 51,
   "metadata": {},
   "outputs": [
    {
     "name": "stdout",
     "output_type": "stream",
     "text": [
      "[[ 3290  2675   310]\n",
      " [ 3739 25994  7432]\n",
      " [  566 13183  7962]]\n"
     ]
    },
    {
     "data": {
      "image/png": "[encoded data removed]",
      "text/plain": [
       "<Figure size 640x480 with 1 Axes>"
      ]
     },
     "metadata": {},
     "output_type": "display_data"
    }
   ],
   "source": [
    "cm = metrics.confusion_matrix(Y_test, Y_preds)\n",
    "metrics.ConfusionMatrixDisplay(cm, display_labels=[\"damage_grade 0\", \"damage_grade 1\", \"damage_grade 2\"]).plot(cmap=\"magma\", colorbar=False)\n",
    "print(cm)"
   ]
  },
  {
   "cell_type": "code",
   "execution_count": 52,
   "metadata": {},
   "outputs": [
    {
     "data": {
      "text/plain": [
       "0.5193147545363891"
      ]
     },
     "execution_count": 52,
     "metadata": {},
     "output_type": "execute_result"
    }
   ],
   "source": [
    "metrics.f1_score(Y_test, Y_preds, average=\"macro\")"
   ]
  },
  {
   "cell_type": "markdown",
   "metadata": {},
   "source": [
    "---"
   ]
  },
  {
   "cell_type": "markdown",
   "metadata": {},
   "source": [
    "## PCA "
   ]
  },
  {
   "cell_type": "markdown",
   "metadata": {},
   "source": [
    "- Scale"
   ]
  },
  {
   "cell_type": "code",
   "execution_count": 6,
   "metadata": {},
   "outputs": [],
   "source": [
    "X0 = X_encoded.copy(deep=True)\n",
    "scaler = StandardScaler()\n",
    "scaled_X0 = scaler.fit_transform(X0)\n",
    "# X0.iloc[:,continuous_idxs] = scaled_X0"
   ]
  },
  {
   "cell_type": "code",
   "execution_count": 7,
   "metadata": {},
   "outputs": [
    {
     "data": {
      "text/plain": [
       "(260601, 10)"
      ]
     },
     "execution_count": 7,
     "metadata": {},
     "output_type": "execute_result"
    }
   ],
   "source": [
    "pca = PCA(n_components=10)\n",
    "pca_X0 = pca.fit_transform(X0)\n",
    "pca_X0.shape"
   ]
  },
  {
   "cell_type": "code",
   "execution_count": 8,
   "metadata": {},
   "outputs": [],
   "source": [
    "X0_train, X0_test, Y0_train, Y0_test = train_test_split(pca_X0, Y,test_size=0.25, random_state=192)"
   ]
  },
  {
   "cell_type": "markdown",
   "metadata": {},
   "source": [
    "- Vì dữ liệu toàn liên tục nên sử dụng luôn GaussianNB"
   ]
  },
  {
   "cell_type": "code",
   "execution_count": 10,
   "metadata": {},
   "outputs": [
    {
     "name": "stderr",
     "output_type": "stream",
     "text": [
      "c:\\Users\\Admin\\AppData\\Local\\Programs\\Python\\Python311\\Lib\\site-packages\\sklearn\\utils\\validation.py:1143: DataConversionWarning: A column-vector y was passed when a 1d array was expected. Please change the shape of y to (n_samples, ), for example using ravel().\n",
      "  y = column_or_1d(y, warn=True)\n"
     ]
    }
   ],
   "source": [
    "start = dt.now()\n",
    "gauss = GaussianNB()\n",
    "gauss.fit(X0_train, Y0_train)\n",
    "Y0_preds = gauss.predict(X0_test)\n",
    "running_secs = (dt.now() - start).microseconds\n"
   ]
  },
  {
   "cell_type": "code",
   "execution_count": 93,
   "metadata": {},
   "outputs": [
    {
     "name": "stdout",
     "output_type": "stream",
     "text": [
      "time: 113023 microsecs\n"
     ]
    }
   ],
   "source": [
    "print(f\"time: {running_secs} microsecs\")"
   ]
  },
  {
   "cell_type": "code",
   "execution_count": 11,
   "metadata": {},
   "outputs": [
    {
     "name": "stdout",
     "output_type": "stream",
     "text": [
      "              precision    recall  f1-score   support\n",
      "\n",
      "           0     0.4302    0.3812    0.4042      6275\n",
      "           1     0.6044    0.7747    0.6790     37165\n",
      "           2     0.5077    0.2795    0.3605     21711\n",
      "\n",
      "    accuracy                         0.5718     65151\n",
      "   macro avg     0.5141    0.4785    0.4813     65151\n",
      "weighted avg     0.5554    0.5718    0.5464     65151\n",
      "\n"
     ]
    }
   ],
   "source": [
    "print(metrics.classification_report(Y0_test, Y0_preds, digits=4))"
   ]
  },
  {
   "cell_type": "code",
   "execution_count": 13,
   "metadata": {},
   "outputs": [
    {
     "data": {
      "text/plain": [
       "<sklearn.metrics._plot.confusion_matrix.ConfusionMatrixDisplay at 0x2888a2821d0>"
      ]
     },
     "execution_count": 13,
     "metadata": {},
     "output_type": "execute_result"
    },
    {
     "data": {
      "image/png": "[encoded data removed]",
      "text/plain": [
       "<Figure size 640x480 with 1 Axes>"
      ]
     },
     "metadata": {},
     "output_type": "display_data"
    }
   ],
   "source": [
    "cm = metrics.confusion_matrix(Y0_preds, Y0_test)\n",
    "metrics.ConfusionMatrixDisplay(cm).plot(cmap=\"magma\", colorbar=False)"
   ]
  },
  {
   "cell_type": "markdown",
   "metadata": {},
   "source": [
    "---"
   ]
  },
  {
   "cell_type": "markdown",
   "metadata": {},
   "source": [
    "## So sánh"
   ]
  },
  {
   "cell_type": "markdown",
   "metadata": {},
   "source": [
    "Ko PCA:\n",
    "- accuracy: 0.5717\n",
    "- F1: 0.5193\n",
    "- Recall: 0.5302\n",
    "\n",
    "PCA:\n",
    "- accuracy: 0.5718\n",
    "- F1: 0.4812\n",
    "- Recall: 0.5464"
   ]
  },
  {
   "cell_type": "markdown",
   "metadata": {},
   "source": [
    "- Độ chính xác không thay đổi nhiều: PCA không ảnh hưởng đáng kể đến độ chính xác của mô hình.\n",
    "- F1 Score giảm: Sự giảm sút của F1 Score (từ 0.5193 xuống 0.4812) cho thấy sự giảm cân bằng giữa precision và recall, có nghĩa là mô hình trở nên kém hiệu quả hơn trong việc cân bằng giữa các trường hợp TP và số lượng các trường hợp được nhận diện.\n",
    "- Recall tăng: Việc tăng recall (từ 0.5302 lên 0.5464) cho thấy mô hình trở nên tốt hơn trong việc phát hiện các trường hợp Positives.\n"
   ]
  }
 ],
 "metadata": {
  "kernelspec": {
   "display_name": "Python 3",
   "language": "python",
   "name": "python3"
  },
  "language_info": {
   "codemirror_mode": {
    "name": "ipython",
    "version": 3
   },
   "file_extension": ".py",
   "mimetype": "text/x-python",
   "name": "python",
   "nbconvert_exporter": "python",
   "pygments_lexer": "ipython3",
   "version": "3.11.3"
  }
 },
 "nbformat": 4,
 "nbformat_minor": 2
}
