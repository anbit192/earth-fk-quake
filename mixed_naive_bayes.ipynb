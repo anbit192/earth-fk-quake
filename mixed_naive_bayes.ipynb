{
 "cells": [
  {
   "cell_type": "code",
<<<<<<< HEAD
   "execution_count": 8,
=======
   "execution_count": 1,
>>>>>>> a49bd5a1fa9e08371ab8e3f91faa347295561458
   "metadata": {},
   "outputs": [],
   "source": [
    "import pandas as pd\n",
    "import numpy as np\n",
    "from sklearn.model_selection import train_test_split\n",
    "from sklearn.naive_bayes import GaussianNB, MultinomialNB, BernoulliNB\n",
    "from mapping import map_str_values\n",
    "from sklearn import metrics\n",
    "from sklearn.decomposition import PCA\n",
    "from sklearn.preprocessing import StandardScaler, MinMaxScaler\n",
    "from datetime import datetime as dt"
   ]
  },
  {
   "cell_type": "markdown",
   "metadata": {},
   "source": [
    "## Data"
   ]
  },
  {
   "cell_type": "code",
<<<<<<< HEAD
   "execution_count": 9,
=======
   "execution_count": 2,
>>>>>>> a49bd5a1fa9e08371ab8e3f91faa347295561458
   "metadata": {},
   "outputs": [],
   "source": [
    "X = pd.read_csv(\"D:\\\\DH\\\\Machine Learning\\\\CUOI_KY\\\\train_values.csv\", index_col=\"building_id\")\n",
    "Y = pd.read_csv(\"D:\\\\DH\\\\Machine Learning\\\\CUOI_KY\\\\train_labels.csv\", index_col=\"building_id\") - 1\n",
    "# X = map_str_values(X)"
   ]
  },
  {
   "cell_type": "markdown",
   "metadata": {},
   "source": [
    "## Áp dụng one hot encode cho các biến phân loại "
   ]
  },
  {
   "cell_type": "code",
<<<<<<< HEAD
   "execution_count": 10,
=======
   "execution_count": 3,
>>>>>>> a49bd5a1fa9e08371ab8e3f91faa347295561458
   "metadata": {},
   "outputs": [
    {
     "data": {
      "text/html": [
       "<div>\n",
       "<style scoped>\n",
       "    .dataframe tbody tr th:only-of-type {\n",
       "        vertical-align: middle;\n",
       "    }\n",
       "\n",
       "    .dataframe tbody tr th {\n",
       "        vertical-align: top;\n",
       "    }\n",
       "\n",
       "    .dataframe thead th {\n",
       "        text-align: right;\n",
       "    }\n",
       "</style>\n",
       "<table border=\"1\" class=\"dataframe\">\n",
       "  <thead>\n",
       "    <tr style=\"text-align: right;\">\n",
       "      <th></th>\n",
       "      <th>count_floors_1</th>\n",
       "      <th>count_floors_2</th>\n",
       "      <th>count_floors_3</th>\n",
       "      <th>count_floors_4</th>\n",
       "      <th>count_floors_5</th>\n",
       "      <th>count_floors_6</th>\n",
       "      <th>count_floors_7</th>\n",
       "      <th>count_floors_8</th>\n",
       "      <th>count_floors_9</th>\n",
       "    </tr>\n",
       "    <tr>\n",
       "      <th>building_id</th>\n",
       "      <th></th>\n",
       "      <th></th>\n",
       "      <th></th>\n",
       "      <th></th>\n",
       "      <th></th>\n",
       "      <th></th>\n",
       "      <th></th>\n",
       "      <th></th>\n",
       "      <th></th>\n",
       "    </tr>\n",
       "  </thead>\n",
       "  <tbody>\n",
       "    <tr>\n",
       "      <th>802906</th>\n",
       "      <td>0</td>\n",
       "      <td>1</td>\n",
       "      <td>0</td>\n",
       "      <td>0</td>\n",
       "      <td>0</td>\n",
       "      <td>0</td>\n",
       "      <td>0</td>\n",
       "      <td>0</td>\n",
       "      <td>0</td>\n",
       "    </tr>\n",
       "    <tr>\n",
       "      <th>28830</th>\n",
       "      <td>0</td>\n",
       "      <td>1</td>\n",
       "      <td>0</td>\n",
       "      <td>0</td>\n",
       "      <td>0</td>\n",
       "      <td>0</td>\n",
       "      <td>0</td>\n",
       "      <td>0</td>\n",
       "      <td>0</td>\n",
       "    </tr>\n",
       "    <tr>\n",
       "      <th>94947</th>\n",
       "      <td>0</td>\n",
       "      <td>1</td>\n",
       "      <td>0</td>\n",
       "      <td>0</td>\n",
       "      <td>0</td>\n",
       "      <td>0</td>\n",
       "      <td>0</td>\n",
       "      <td>0</td>\n",
       "      <td>0</td>\n",
       "    </tr>\n",
       "    <tr>\n",
       "      <th>590882</th>\n",
       "      <td>0</td>\n",
       "      <td>1</td>\n",
       "      <td>0</td>\n",
       "      <td>0</td>\n",
       "      <td>0</td>\n",
       "      <td>0</td>\n",
       "      <td>0</td>\n",
       "      <td>0</td>\n",
       "      <td>0</td>\n",
       "    </tr>\n",
       "    <tr>\n",
       "      <th>201944</th>\n",
       "      <td>0</td>\n",
       "      <td>0</td>\n",
       "      <td>1</td>\n",
       "      <td>0</td>\n",
       "      <td>0</td>\n",
       "      <td>0</td>\n",
       "      <td>0</td>\n",
       "      <td>0</td>\n",
       "      <td>0</td>\n",
       "    </tr>\n",
       "    <tr>\n",
       "      <th>...</th>\n",
       "      <td>...</td>\n",
       "      <td>...</td>\n",
       "      <td>...</td>\n",
       "      <td>...</td>\n",
       "      <td>...</td>\n",
       "      <td>...</td>\n",
       "      <td>...</td>\n",
       "      <td>...</td>\n",
       "      <td>...</td>\n",
       "    </tr>\n",
       "    <tr>\n",
       "      <th>688636</th>\n",
       "      <td>1</td>\n",
       "      <td>0</td>\n",
       "      <td>0</td>\n",
       "      <td>0</td>\n",
       "      <td>0</td>\n",
       "      <td>0</td>\n",
       "      <td>0</td>\n",
       "      <td>0</td>\n",
       "      <td>0</td>\n",
       "    </tr>\n",
       "    <tr>\n",
       "      <th>669485</th>\n",
       "      <td>0</td>\n",
       "      <td>1</td>\n",
       "      <td>0</td>\n",
       "      <td>0</td>\n",
       "      <td>0</td>\n",
       "      <td>0</td>\n",
       "      <td>0</td>\n",
       "      <td>0</td>\n",
       "      <td>0</td>\n",
       "    </tr>\n",
       "    <tr>\n",
       "      <th>602512</th>\n",
       "      <td>0</td>\n",
       "      <td>0</td>\n",
       "      <td>1</td>\n",
       "      <td>0</td>\n",
       "      <td>0</td>\n",
       "      <td>0</td>\n",
       "      <td>0</td>\n",
       "      <td>0</td>\n",
       "      <td>0</td>\n",
       "    </tr>\n",
       "    <tr>\n",
       "      <th>151409</th>\n",
       "      <td>0</td>\n",
       "      <td>1</td>\n",
       "      <td>0</td>\n",
       "      <td>0</td>\n",
       "      <td>0</td>\n",
       "      <td>0</td>\n",
       "      <td>0</td>\n",
       "      <td>0</td>\n",
       "      <td>0</td>\n",
       "    </tr>\n",
       "    <tr>\n",
       "      <th>747594</th>\n",
       "      <td>0</td>\n",
       "      <td>0</td>\n",
       "      <td>1</td>\n",
       "      <td>0</td>\n",
       "      <td>0</td>\n",
       "      <td>0</td>\n",
       "      <td>0</td>\n",
       "      <td>0</td>\n",
       "      <td>0</td>\n",
       "    </tr>\n",
       "  </tbody>\n",
       "</table>\n",
       "<p>260601 rows × 9 columns</p>\n",
       "</div>"
      ],
      "text/plain": [
       "             count_floors_1  count_floors_2  count_floors_3  count_floors_4  \\\n",
       "building_id                                                                   \n",
       "802906                    0               1               0               0   \n",
       "28830                     0               1               0               0   \n",
       "94947                     0               1               0               0   \n",
       "590882                    0               1               0               0   \n",
       "201944                    0               0               1               0   \n",
       "...                     ...             ...             ...             ...   \n",
       "688636                    1               0               0               0   \n",
       "669485                    0               1               0               0   \n",
       "602512                    0               0               1               0   \n",
       "151409                    0               1               0               0   \n",
       "747594                    0               0               1               0   \n",
       "\n",
       "             count_floors_5  count_floors_6  count_floors_7  count_floors_8  \\\n",
       "building_id                                                                   \n",
       "802906                    0               0               0               0   \n",
       "28830                     0               0               0               0   \n",
       "94947                     0               0               0               0   \n",
       "590882                    0               0               0               0   \n",
       "201944                    0               0               0               0   \n",
       "...                     ...             ...             ...             ...   \n",
       "688636                    0               0               0               0   \n",
       "669485                    0               0               0               0   \n",
       "602512                    0               0               0               0   \n",
       "151409                    0               0               0               0   \n",
       "747594                    0               0               0               0   \n",
       "\n",
       "             count_floors_9  \n",
       "building_id                  \n",
       "802906                    0  \n",
       "28830                     0  \n",
       "94947                     0  \n",
       "590882                    0  \n",
       "201944                    0  \n",
       "...                     ...  \n",
       "688636                    0  \n",
       "669485                    0  \n",
       "602512                    0  \n",
       "151409                    0  \n",
       "747594                    0  \n",
       "\n",
       "[260601 rows x 9 columns]"
      ]
     },
<<<<<<< HEAD
     "execution_count": 10,
=======
     "execution_count": 3,
>>>>>>> a49bd5a1fa9e08371ab8e3f91faa347295561458
     "metadata": {},
     "output_type": "execute_result"
    }
   ],
   "source": [
    "encoded_temp = pd.get_dummies(X[\"count_floors_pre_eq\"], prefix=\"count_floors\").astype(int)\n",
    "encoded_temp\n"
   ]
  },
  {
   "cell_type": "code",
<<<<<<< HEAD
   "execution_count": 11,
=======
   "execution_count": 4,
>>>>>>> a49bd5a1fa9e08371ab8e3f91faa347295561458
   "metadata": {},
   "outputs": [],
   "source": [
    "X_encoded = pd.get_dummies(X, dtype=int).drop(columns=\"count_floors_pre_eq\")\n",
    "# X_encoded.assign(encoded_temp)\n",
    "# X_encoded.dtypes\n",
    "for temp_col in encoded_temp.columns:\n",
    "    X_encoded[temp_col] = encoded_temp[temp_col]"
   ]
  },
  {
   "cell_type": "code",
<<<<<<< HEAD
   "execution_count": 12,
=======
   "execution_count": 5,
>>>>>>> a49bd5a1fa9e08371ab8e3f91faa347295561458
   "metadata": {},
   "outputs": [
    {
     "data": {
      "text/html": [
       "<div>\n",
       "<style scoped>\n",
       "    .dataframe tbody tr th:only-of-type {\n",
       "        vertical-align: middle;\n",
       "    }\n",
       "\n",
       "    .dataframe tbody tr th {\n",
       "        vertical-align: top;\n",
       "    }\n",
       "\n",
       "    .dataframe thead th {\n",
       "        text-align: right;\n",
       "    }\n",
       "</style>\n",
       "<table border=\"1\" class=\"dataframe\">\n",
       "  <thead>\n",
       "    <tr style=\"text-align: right;\">\n",
       "      <th></th>\n",
       "      <th>geo_level_1_id</th>\n",
       "      <th>geo_level_2_id</th>\n",
       "      <th>geo_level_3_id</th>\n",
       "      <th>age</th>\n",
       "      <th>area_percentage</th>\n",
       "      <th>height_percentage</th>\n",
       "      <th>has_superstructure_adobe_mud</th>\n",
       "      <th>has_superstructure_mud_mortar_stone</th>\n",
       "      <th>has_superstructure_stone_flag</th>\n",
       "      <th>has_superstructure_cement_mortar_stone</th>\n",
       "      <th>...</th>\n",
       "      <th>legal_ownership_status_w</th>\n",
       "      <th>count_floors_1</th>\n",
       "      <th>count_floors_2</th>\n",
       "      <th>count_floors_3</th>\n",
       "      <th>count_floors_4</th>\n",
       "      <th>count_floors_5</th>\n",
       "      <th>count_floors_6</th>\n",
       "      <th>count_floors_7</th>\n",
       "      <th>count_floors_8</th>\n",
       "      <th>count_floors_9</th>\n",
       "    </tr>\n",
       "    <tr>\n",
       "      <th>building_id</th>\n",
       "      <th></th>\n",
       "      <th></th>\n",
       "      <th></th>\n",
       "      <th></th>\n",
       "      <th></th>\n",
       "      <th></th>\n",
       "      <th></th>\n",
       "      <th></th>\n",
       "      <th></th>\n",
       "      <th></th>\n",
       "      <th></th>\n",
       "      <th></th>\n",
       "      <th></th>\n",
       "      <th></th>\n",
       "      <th></th>\n",
       "      <th></th>\n",
       "      <th></th>\n",
       "      <th></th>\n",
       "      <th></th>\n",
       "      <th></th>\n",
       "      <th></th>\n",
       "    </tr>\n",
       "  </thead>\n",
       "  <tbody>\n",
       "    <tr>\n",
       "      <th>802906</th>\n",
       "      <td>6</td>\n",
       "      <td>487</td>\n",
       "      <td>12198</td>\n",
       "      <td>30</td>\n",
       "      <td>6</td>\n",
       "      <td>5</td>\n",
       "      <td>1</td>\n",
       "      <td>1</td>\n",
       "      <td>0</td>\n",
       "      <td>0</td>\n",
       "      <td>...</td>\n",
       "      <td>0</td>\n",
       "      <td>0</td>\n",
       "      <td>1</td>\n",
       "      <td>0</td>\n",
       "      <td>0</td>\n",
       "      <td>0</td>\n",
       "      <td>0</td>\n",
       "      <td>0</td>\n",
       "      <td>0</td>\n",
       "      <td>0</td>\n",
       "    </tr>\n",
       "    <tr>\n",
       "      <th>28830</th>\n",
       "      <td>8</td>\n",
       "      <td>900</td>\n",
       "      <td>2812</td>\n",
       "      <td>10</td>\n",
       "      <td>8</td>\n",
       "      <td>7</td>\n",
       "      <td>0</td>\n",
       "      <td>1</td>\n",
       "      <td>0</td>\n",
       "      <td>0</td>\n",
       "      <td>...</td>\n",
       "      <td>0</td>\n",
       "      <td>0</td>\n",
       "      <td>1</td>\n",
       "      <td>0</td>\n",
       "      <td>0</td>\n",
       "      <td>0</td>\n",
       "      <td>0</td>\n",
       "      <td>0</td>\n",
       "      <td>0</td>\n",
       "      <td>0</td>\n",
       "    </tr>\n",
       "    <tr>\n",
       "      <th>94947</th>\n",
       "      <td>21</td>\n",
       "      <td>363</td>\n",
       "      <td>8973</td>\n",
       "      <td>10</td>\n",
       "      <td>5</td>\n",
       "      <td>5</td>\n",
       "      <td>0</td>\n",
       "      <td>1</td>\n",
       "      <td>0</td>\n",
       "      <td>0</td>\n",
       "      <td>...</td>\n",
       "      <td>0</td>\n",
       "      <td>0</td>\n",
       "      <td>1</td>\n",
       "      <td>0</td>\n",
       "      <td>0</td>\n",
       "      <td>0</td>\n",
       "      <td>0</td>\n",
       "      <td>0</td>\n",
       "      <td>0</td>\n",
       "      <td>0</td>\n",
       "    </tr>\n",
       "    <tr>\n",
       "      <th>590882</th>\n",
       "      <td>22</td>\n",
       "      <td>418</td>\n",
       "      <td>10694</td>\n",
       "      <td>10</td>\n",
       "      <td>6</td>\n",
       "      <td>5</td>\n",
       "      <td>0</td>\n",
       "      <td>1</td>\n",
       "      <td>0</td>\n",
       "      <td>0</td>\n",
       "      <td>...</td>\n",
       "      <td>0</td>\n",
       "      <td>0</td>\n",
       "      <td>1</td>\n",
       "      <td>0</td>\n",
       "      <td>0</td>\n",
       "      <td>0</td>\n",
       "      <td>0</td>\n",
       "      <td>0</td>\n",
       "      <td>0</td>\n",
       "      <td>0</td>\n",
       "    </tr>\n",
       "    <tr>\n",
       "      <th>201944</th>\n",
       "      <td>11</td>\n",
       "      <td>131</td>\n",
       "      <td>1488</td>\n",
       "      <td>30</td>\n",
       "      <td>8</td>\n",
       "      <td>9</td>\n",
       "      <td>1</td>\n",
       "      <td>0</td>\n",
       "      <td>0</td>\n",
       "      <td>0</td>\n",
       "      <td>...</td>\n",
       "      <td>0</td>\n",
       "      <td>0</td>\n",
       "      <td>0</td>\n",
       "      <td>1</td>\n",
       "      <td>0</td>\n",
       "      <td>0</td>\n",
       "      <td>0</td>\n",
       "      <td>0</td>\n",
       "      <td>0</td>\n",
       "      <td>0</td>\n",
       "    </tr>\n",
       "    <tr>\n",
       "      <th>...</th>\n",
       "      <td>...</td>\n",
       "      <td>...</td>\n",
       "      <td>...</td>\n",
       "      <td>...</td>\n",
       "      <td>...</td>\n",
       "      <td>...</td>\n",
       "      <td>...</td>\n",
       "      <td>...</td>\n",
       "      <td>...</td>\n",
       "      <td>...</td>\n",
       "      <td>...</td>\n",
       "      <td>...</td>\n",
       "      <td>...</td>\n",
       "      <td>...</td>\n",
       "      <td>...</td>\n",
       "      <td>...</td>\n",
       "      <td>...</td>\n",
       "      <td>...</td>\n",
       "      <td>...</td>\n",
       "      <td>...</td>\n",
       "      <td>...</td>\n",
       "    </tr>\n",
       "    <tr>\n",
       "      <th>688636</th>\n",
       "      <td>25</td>\n",
       "      <td>1335</td>\n",
       "      <td>1621</td>\n",
       "      <td>55</td>\n",
       "      <td>6</td>\n",
       "      <td>3</td>\n",
       "      <td>0</td>\n",
       "      <td>1</td>\n",
       "      <td>0</td>\n",
       "      <td>0</td>\n",
       "      <td>...</td>\n",
       "      <td>0</td>\n",
       "      <td>1</td>\n",
       "      <td>0</td>\n",
       "      <td>0</td>\n",
       "      <td>0</td>\n",
       "      <td>0</td>\n",
       "      <td>0</td>\n",
       "      <td>0</td>\n",
       "      <td>0</td>\n",
       "      <td>0</td>\n",
       "    </tr>\n",
       "    <tr>\n",
       "      <th>669485</th>\n",
       "      <td>17</td>\n",
       "      <td>715</td>\n",
       "      <td>2060</td>\n",
       "      <td>0</td>\n",
       "      <td>6</td>\n",
       "      <td>5</td>\n",
       "      <td>0</td>\n",
       "      <td>1</td>\n",
       "      <td>0</td>\n",
       "      <td>0</td>\n",
       "      <td>...</td>\n",
       "      <td>0</td>\n",
       "      <td>0</td>\n",
       "      <td>1</td>\n",
       "      <td>0</td>\n",
       "      <td>0</td>\n",
       "      <td>0</td>\n",
       "      <td>0</td>\n",
       "      <td>0</td>\n",
       "      <td>0</td>\n",
       "      <td>0</td>\n",
       "    </tr>\n",
       "    <tr>\n",
       "      <th>602512</th>\n",
       "      <td>17</td>\n",
       "      <td>51</td>\n",
       "      <td>8163</td>\n",
       "      <td>55</td>\n",
       "      <td>6</td>\n",
       "      <td>7</td>\n",
       "      <td>0</td>\n",
       "      <td>1</td>\n",
       "      <td>0</td>\n",
       "      <td>0</td>\n",
       "      <td>...</td>\n",
       "      <td>0</td>\n",
       "      <td>0</td>\n",
       "      <td>0</td>\n",
       "      <td>1</td>\n",
       "      <td>0</td>\n",
       "      <td>0</td>\n",
       "      <td>0</td>\n",
       "      <td>0</td>\n",
       "      <td>0</td>\n",
       "      <td>0</td>\n",
       "    </tr>\n",
       "    <tr>\n",
       "      <th>151409</th>\n",
       "      <td>26</td>\n",
       "      <td>39</td>\n",
       "      <td>1851</td>\n",
       "      <td>10</td>\n",
       "      <td>14</td>\n",
       "      <td>6</td>\n",
       "      <td>0</td>\n",
       "      <td>0</td>\n",
       "      <td>0</td>\n",
       "      <td>0</td>\n",
       "      <td>...</td>\n",
       "      <td>0</td>\n",
       "      <td>0</td>\n",
       "      <td>1</td>\n",
       "      <td>0</td>\n",
       "      <td>0</td>\n",
       "      <td>0</td>\n",
       "      <td>0</td>\n",
       "      <td>0</td>\n",
       "      <td>0</td>\n",
       "      <td>0</td>\n",
       "    </tr>\n",
       "    <tr>\n",
       "      <th>747594</th>\n",
       "      <td>21</td>\n",
       "      <td>9</td>\n",
       "      <td>9101</td>\n",
       "      <td>10</td>\n",
       "      <td>7</td>\n",
       "      <td>6</td>\n",
       "      <td>0</td>\n",
       "      <td>1</td>\n",
       "      <td>0</td>\n",
       "      <td>0</td>\n",
       "      <td>...</td>\n",
       "      <td>0</td>\n",
       "      <td>0</td>\n",
       "      <td>0</td>\n",
       "      <td>1</td>\n",
       "      <td>0</td>\n",
       "      <td>0</td>\n",
       "      <td>0</td>\n",
       "      <td>0</td>\n",
       "      <td>0</td>\n",
       "      <td>0</td>\n",
       "    </tr>\n",
       "  </tbody>\n",
       "</table>\n",
       "<p>260601 rows × 76 columns</p>\n",
       "</div>"
      ],
      "text/plain": [
       "             geo_level_1_id  geo_level_2_id  geo_level_3_id  age  \\\n",
       "building_id                                                        \n",
       "802906                    6             487           12198   30   \n",
       "28830                     8             900            2812   10   \n",
       "94947                    21             363            8973   10   \n",
       "590882                   22             418           10694   10   \n",
       "201944                   11             131            1488   30   \n",
       "...                     ...             ...             ...  ...   \n",
       "688636                   25            1335            1621   55   \n",
       "669485                   17             715            2060    0   \n",
       "602512                   17              51            8163   55   \n",
       "151409                   26              39            1851   10   \n",
       "747594                   21               9            9101   10   \n",
       "\n",
       "             area_percentage  height_percentage  has_superstructure_adobe_mud  \\\n",
       "building_id                                                                     \n",
       "802906                     6                  5                             1   \n",
       "28830                      8                  7                             0   \n",
       "94947                      5                  5                             0   \n",
       "590882                     6                  5                             0   \n",
       "201944                     8                  9                             1   \n",
       "...                      ...                ...                           ...   \n",
       "688636                     6                  3                             0   \n",
       "669485                     6                  5                             0   \n",
       "602512                     6                  7                             0   \n",
       "151409                    14                  6                             0   \n",
       "747594                     7                  6                             0   \n",
       "\n",
       "             has_superstructure_mud_mortar_stone  \\\n",
       "building_id                                        \n",
       "802906                                         1   \n",
       "28830                                          1   \n",
       "94947                                          1   \n",
       "590882                                         1   \n",
       "201944                                         0   \n",
       "...                                          ...   \n",
       "688636                                         1   \n",
       "669485                                         1   \n",
       "602512                                         1   \n",
       "151409                                         0   \n",
       "747594                                         1   \n",
       "\n",
       "             has_superstructure_stone_flag  \\\n",
       "building_id                                  \n",
       "802906                                   0   \n",
       "28830                                    0   \n",
       "94947                                    0   \n",
       "590882                                   0   \n",
       "201944                                   0   \n",
       "...                                    ...   \n",
       "688636                                   0   \n",
       "669485                                   0   \n",
       "602512                                   0   \n",
       "151409                                   0   \n",
       "747594                                   0   \n",
       "\n",
       "             has_superstructure_cement_mortar_stone  ...  \\\n",
       "building_id                                          ...   \n",
       "802906                                            0  ...   \n",
       "28830                                             0  ...   \n",
       "94947                                             0  ...   \n",
       "590882                                            0  ...   \n",
       "201944                                            0  ...   \n",
       "...                                             ...  ...   \n",
       "688636                                            0  ...   \n",
       "669485                                            0  ...   \n",
       "602512                                            0  ...   \n",
       "151409                                            0  ...   \n",
       "747594                                            0  ...   \n",
       "\n",
       "             legal_ownership_status_w  count_floors_1  count_floors_2  \\\n",
       "building_id                                                             \n",
       "802906                              0               0               1   \n",
       "28830                               0               0               1   \n",
       "94947                               0               0               1   \n",
       "590882                              0               0               1   \n",
       "201944                              0               0               0   \n",
       "...                               ...             ...             ...   \n",
       "688636                              0               1               0   \n",
       "669485                              0               0               1   \n",
       "602512                              0               0               0   \n",
       "151409                              0               0               1   \n",
       "747594                              0               0               0   \n",
       "\n",
       "             count_floors_3  count_floors_4  count_floors_5  count_floors_6  \\\n",
       "building_id                                                                   \n",
       "802906                    0               0               0               0   \n",
       "28830                     0               0               0               0   \n",
       "94947                     0               0               0               0   \n",
       "590882                    0               0               0               0   \n",
       "201944                    1               0               0               0   \n",
       "...                     ...             ...             ...             ...   \n",
       "688636                    0               0               0               0   \n",
       "669485                    0               0               0               0   \n",
       "602512                    1               0               0               0   \n",
       "151409                    0               0               0               0   \n",
       "747594                    1               0               0               0   \n",
       "\n",
       "             count_floors_7  count_floors_8  count_floors_9  \n",
       "building_id                                                  \n",
       "802906                    0               0               0  \n",
       "28830                     0               0               0  \n",
       "94947                     0               0               0  \n",
       "590882                    0               0               0  \n",
       "201944                    0               0               0  \n",
       "...                     ...             ...             ...  \n",
       "688636                    0               0               0  \n",
       "669485                    0               0               0  \n",
       "602512                    0               0               0  \n",
       "151409                    0               0               0  \n",
       "747594                    0               0               0  \n",
       "\n",
       "[260601 rows x 76 columns]"
      ]
     },
<<<<<<< HEAD
     "execution_count": 12,
=======
     "execution_count": 5,
>>>>>>> a49bd5a1fa9e08371ab8e3f91faa347295561458
     "metadata": {},
     "output_type": "execute_result"
    }
   ],
   "source": [
    "X_encoded"
   ]
  },
  {
   "cell_type": "markdown",
   "metadata": {},
   "source": [
    "## Chia train, test"
   ]
  },
  {
   "cell_type": "code",
<<<<<<< HEAD
   "execution_count": 13,
=======
   "execution_count": 6,
>>>>>>> a49bd5a1fa9e08371ab8e3f91faa347295561458
   "metadata": {},
   "outputs": [
    {
     "data": {
      "text/plain": [
       "(208480, 76)"
      ]
     },
<<<<<<< HEAD
     "execution_count": 13,
=======
     "execution_count": 6,
>>>>>>> a49bd5a1fa9e08371ab8e3f91faa347295561458
     "metadata": {},
     "output_type": "execute_result"
    }
   ],
   "source": [
    "X_train, X_test, Y_train, Y_test = train_test_split(X_encoded, Y, test_size=0.2, random_state=192)\n",
    "X_train.shape"
   ]
  },
  {
   "cell_type": "code",
<<<<<<< HEAD
   "execution_count": 14,
=======
   "execution_count": 7,
>>>>>>> a49bd5a1fa9e08371ab8e3f91faa347295561458
   "metadata": {},
   "outputs": [
    {
     "data": {
      "text/plain": [
       "array([ 6,  7,  8,  9, 10, 11, 12, 13, 14, 15, 16, 18, 19, 20, 21, 22, 23,\n",
       "       24, 25, 26, 27, 28, 29, 30, 31, 32, 33, 34, 35, 36, 37, 38, 39, 40,\n",
       "       41, 42, 43, 44, 45, 46, 47, 48, 49, 50, 51, 52, 53, 54, 55, 56, 57,\n",
       "       58, 59, 60, 61, 62, 63, 64, 65, 66, 67, 68, 69, 70, 71, 72, 73, 74,\n",
       "       75], dtype=int64)"
      ]
     },
<<<<<<< HEAD
     "execution_count": 14,
=======
     "execution_count": 7,
>>>>>>> a49bd5a1fa9e08371ab8e3f91faa347295561458
     "metadata": {},
     "output_type": "execute_result"
    }
   ],
   "source": [
    "continuous_cols = np.array(['geo_level_1_id', 'geo_level_2_id', 'geo_level_3_id',\n",
    "       'age', 'area_percentage', 'height_percentage', 'count_families'])\n",
    "\n",
    "binary_cols = X_train[X_train.columns.difference(continuous_cols)].columns.to_numpy()\n",
    "\n",
    "continuous_idxs = np.sort(X_train.columns.get_indexer(continuous_cols))\n",
    "binary_idxs = np.sort(X_train.columns.get_indexer(binary_cols))\n",
    "\n",
    "binary_idxs"
   ]
  },
  {
   "cell_type": "markdown",
   "metadata": {},
   "source": [
    "---"
   ]
  },
  {
   "cell_type": "markdown",
   "metadata": {},
   "source": [
    "## Model MixedNB kết hợp giữa GaussianNB và BernouliNB (Tự code)"
   ]
  },
  {
   "attachments": {
    "image.png": {
     "image/png": "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"
    }
   },
   "cell_type": "markdown",
   "metadata": {},
   "source": [
    "- Vì một bộ data có thể chứa rất nhiều loại dữ liệu, cụ thể với bộ dữ liệu động đất nepal có 3 loại: (continuous, categorical, binary)\n",
    "- Chúng ta có thể convert dữ liệu categorical và binary về cùng một loại => Quyết định convert categorical về binary sử dụng one hot encode\n",
    "\n",
    "   ![image.png](attachment:image.png)\n",
    "\n",
    "=> Dữ liệu chỉ còn 2 loại continuous và binary, chúng ta có thể sử dụng 2 mô hình GaussianNB và BernouliNB"
   ]
  },
  {
   "cell_type": "markdown",
   "metadata": {},
   "source": [
    "- Ý tưởng: Xác định các feature nào là continuous, feature nào là binary và tính toán các xác xuất của feature với loại dữ liệu tương ứng (Giải thích ở file naive_bayes.ipynb)"
   ]
  },
  {
   "cell_type": "code",
<<<<<<< HEAD
   "execution_count": 15,
=======
   "execution_count": 8,
>>>>>>> a49bd5a1fa9e08371ab8e3f91faa347295561458
   "metadata": {},
   "outputs": [],
   "source": [
    "class MixedNB():\n",
    "    def __init__(self, gauss_index=None, bernouli_index=None):\n",
    "        self.gauss_index = gauss_index # Index để tính xs của gauss\n",
    "        self.bernouli_index = bernouli_index # Index để tính xs của bernouli\n",
    "\n",
    "\n",
    "    def fit(self, X, Y): # Lưu trữ, tính toán những tham số cần thiết cho 2 mô hình gaussianNB và bernouliNB\n",
    "        self.classes = np.unique(np.array(Y))\n",
    "        self.n_features = X.shape[1]\n",
    "        n_class = len(self.classes)\n",
    "        self.class_priors = np.empty(shape=(n_class))\n",
    "\n",
    "        self._calculate_stuffs(X, Y)\n",
    "\n",
    "    def _calculate_stuffs(self, X, Y): # Tính toán means, vars, các P(i|c)  \n",
    "        P_ic = []\n",
    "        means = []\n",
    "        vars_ = []\n",
    "\n",
    "        for k, c in enumerate(self.classes): # Lặp qua tất cả các class\n",
    "            Xc = X.iloc[np.where(Y == c)] # Lấy ra các X có cùng class\n",
    "            temp = [] # Mảng lưu trữ các xs P(i|C) của class c\n",
    "            temp_mean = [] # Mảng lưu trữ các mean của class c \n",
    "            temp_var = [] # Mảng lưu trữ các var của class c\n",
    "            self.class_priors[k] = (len(Xc)) / (len(X)) # Tính toán xs prior của class c\n",
    "            \n",
    "            for i in range(X.shape[1]): # Lặp qua tất cả các feature của các record có cùng class c\n",
    "                feat_probs_c = np.sum(Xc.iloc[:, i]) / len(Xc)\n",
    "\n",
    "                temp.append(feat_probs_c)\n",
    "                temp_mean.append(np.mean(Xc.iloc[:, i]))\n",
    "                temp_var.append(np.var(Xc.iloc[:, i]))\n",
    "\n",
    "            P_ic.append(temp)\n",
    "            means.append(temp_mean)\n",
    "            vars_.append(temp_var)\n",
    "\n",
    "        # Lưu trữ các ma trận xs, means, vars của tất cả các class\n",
    "        self.P_ic = np.array(P_ic)\n",
    "        self.means = np.array(means)\n",
    "        self.vars = np.array(vars_)\n",
    "\n",
    "\n",
    "    def _pdf_binomial(self, x, feat_probs_class): # Hàm pdf của pp nhị thức\n",
    "        return (feat_probs_class ** x) * ((1 - feat_probs_class) ** (1 - x))\n",
    "    \n",
    "\n",
    "    def _pdf_gauss(self, x, mean, variance): # Hàm pdf của pp gauss\n",
    "        exponent = np.exp(-((x - mean) ** 2) / (2 * variance))\n",
    "        return (1 / np.sqrt(2 * np.pi * variance)) * exponent\n",
    "    \n",
    "    \n",
    "    def _get_joint_probs(self, X): # Tính toán các xs posteriors\n",
    "\n",
    "        class_probs = []\n",
    "        for x in X:\n",
    "            # print(x)\n",
    "            posts = []\n",
    "\n",
    "            for i in range(len(self.class_priors)):\n",
    "                post = np.log(self.class_priors[i]) # Lấy ra xs priors ứng với class thứ i\n",
    "\n",
    "                for j in range(X.shape[1]): # Xét theo index truyền vào để quyết định xem tính toán với pdf nào\n",
    "        \n",
    "                    if j in self.gauss_index:\n",
    "                        post += np.log(self._pdf_gauss(x=x[j], mean=self.means[i,j], variance=self.vars[i, j]))\n",
    "                    elif j in self.bernouli_index:\n",
    "        \n",
    "                        post += np.log(self._pdf_binomial(x=x[j], feat_probs_class=self.P_ic[i, j]))\n",
    "\n",
    "                posts.append(post)\n",
    "            class_probs.append(posts)\n",
    "\n",
    "        return np.array(class_probs)\n",
    "    \n",
    "    \n",
    "    def predict(self, X):\n",
    "        probs = self._get_joint_probs(X)\n",
    "        # print(probs)\n",
    "        Y_preds = []\n",
    "        for prob in probs: # Lặp qua tất cả các xs posteriors\n",
    "            Y_preds.append(self.classes[np.argmax(prob)]) # Lấy index của xs max => Phân loại\n",
    "\n",
    "        return np.array(Y_preds)\n",
    "\n"
   ]
  },
  {
   "cell_type": "markdown",
   "metadata": {},
   "source": [
    "- Do bộ data có nhiều loại dữ liệu, cụ thể là feature từ (0-6) là liên tục, feature (7-n) là binary (Do đã áp dụng one hot encode) nên chúng ta có thể truyền dữ liệu index dưới dạng range"
   ]
  },
  {
   "cell_type": "code",
<<<<<<< HEAD
   "execution_count": 16,
=======
   "execution_count": 9,
>>>>>>> a49bd5a1fa9e08371ab8e3f91faa347295561458
   "metadata": {},
   "outputs": [],
   "source": [
    "mixNB = MixedNB(continuous_idxs, binary_idxs)\n",
    "mixNB.fit(X_train, Y_train[\"damage_grade\"])\n"
   ]
  },
  {
   "cell_type": "code",
<<<<<<< HEAD
   "execution_count": 17,
=======
   "execution_count": 10,
>>>>>>> a49bd5a1fa9e08371ab8e3f91faa347295561458
   "metadata": {},
   "outputs": [
    {
     "name": "stderr",
     "output_type": "stream",
     "text": [
<<<<<<< HEAD
      "C:\\Users\\PC\\AppData\\Local\\Temp\\ipykernel_25172\\1289597055.py:69: RuntimeWarning: divide by zero encountered in log\n",
=======
      "C:\\Users\\Admin\\AppData\\Local\\Temp\\ipykernel_1120\\1289597055.py:69: RuntimeWarning: divide by zero encountered in log\n",
>>>>>>> a49bd5a1fa9e08371ab8e3f91faa347295561458
      "  post += np.log(self._pdf_binomial(x=x[j], feat_probs_class=self.P_ic[i, j]))\n"
     ]
    },
    {
     "data": {
      "text/plain": [
       "(52121,)"
      ]
     },
<<<<<<< HEAD
     "execution_count": 17,
=======
     "execution_count": 10,
>>>>>>> a49bd5a1fa9e08371ab8e3f91faa347295561458
     "metadata": {},
     "output_type": "execute_result"
    }
   ],
   "source": [
    "preds = mixNB.predict(X_test.to_numpy())\n",
    "preds.shape"
   ]
  },
  {
   "cell_type": "markdown",
   "metadata": {},
   "source": [
    "- Do code chưa tối ưu về thuật toán nên thời gian chạy khá lâu (20 - 30s) nhưng độ chính xác cũng không quá kém với những mô hình NB khác "
   ]
  },
  {
   "cell_type": "code",
<<<<<<< HEAD
   "execution_count": 18,
=======
   "execution_count": 11,
>>>>>>> a49bd5a1fa9e08371ab8e3f91faa347295561458
   "metadata": {},
   "outputs": [
    {
     "name": "stdout",
     "output_type": "stream",
     "text": [
      "              precision    recall  f1-score   support\n",
      "\n",
      "           0     0.4162    0.5765    0.4834      5056\n",
      "           1     0.6527    0.4038    0.4989     29611\n",
      "           2     0.4400    0.6755    0.5329     17454\n",
      "\n",
      "    accuracy                         0.5116     52121\n",
      "   macro avg     0.5030    0.5520    0.5051     52121\n",
      "weighted avg     0.5585    0.5116    0.5088     52121\n",
      "\n"
     ]
    }
   ],
   "source": [
    "print(metrics.classification_report(Y_test, preds, digits=4))"
   ]
  },
  {
   "cell_type": "code",
<<<<<<< HEAD
   "execution_count": 19,
=======
   "execution_count": 12,
>>>>>>> a49bd5a1fa9e08371ab8e3f91faa347295561458
   "metadata": {},
   "outputs": [
    {
     "name": "stdout",
     "output_type": "stream",
     "text": [
      "[[ 2915  1303   838]\n",
      " [ 3487 11958 14166]\n",
      " [  602  5061 11791]]\n"
     ]
    },
    {
     "data": {
<<<<<<< HEAD
      "image/png": "iVBORw0KGgoAAAANSUhEUgAAAhgAAAGxCAYAAAAgf8+rAAAAOXRFWHRTb2Z0d2FyZQBNYXRwbG90bGliIHZlcnNpb24zLjguMiwgaHR0cHM6Ly9tYXRwbG90bGliLm9yZy8g+/7EAAAACXBIWXMAAA9hAAAPYQGoP6dpAABZgElEQVR4nO3dd1QUVwMF8Lv0toCgNKWIBUEEVNQYa4yKJmJNTEQFFfXTaOxYoiCINdZgF6NYIGhiJJbYe49YiEpRimJDLEhTqfP9QVwzUgQziOj9ncM57Lw3b95jYLk7782uTBAEAUREREQSUqroDhAREdGHhwGDiIiIJMeAQURERJJjwCAiIiLJMWAQERGR5BgwiIiISHIMGERERCQ5BgwiIiKSnEpFd4A+Lvn5+bh37x7kcjlkMllFd4eIiMpIEASkp6fDzMwMSkrFX6dgwKB36t69ezA3N6/obhAR0X90+/Zt1KhRo9hyBgx6p+RyOQCgjl4vKMtUK7g3VN7iMo5UdBfoHcrJTanoLtA7IQDIUTyfF4cBg96pl9MiyjJVKMvUKrg3VN5kMi7z+pjIwGnPj8HLDzB70zQ3//qJiIhIcgwYREREJDkGDCIiIpIcAwYRERFJjgGDiIiIJMeAQURERJJjwCAiIiLJMWAQERGR5BgwiIiISHIMGERERCQ5BgwiIiKSHAMGERERSY4Bg4iIiCTHgEFERESSY8AgIiIiyTFgEBERkeQYMIiIiEhyDBhEREQkOQYMIiIikhwDBhEREUmOAYOIiIgkx4BBREREkmPAICIiIskxYBAREZHkGDCIiIhIcgwYREREJDkGDCIiIpIcAwYRERFJjgGDiIiIJMeAQURERJJjwCAiIiLJMWAQERGR5BgwiIiISHIMGERERCQ5BgwiIiKSHAMGERERSY4Bg4iIiCTHgEFERESSY8AgIiIiyTFgEBERkeQYMIiIiEhyDBhEREQkOQYMIiIikhwDBhEREUmOAYOIiIgkx4BBREREkmPAICIiIskxYBAREZHkGDCIiIhIcgwYREREJDkGDCIiIpIcAwYRERFJjgGDiIiIJPfeBYy2bdtizJgxFd2ND5Kvry+cnJwquhuV0tcDbfDrsW44ldAXpxL6YuOeL9Hi8+qiOg7O1RC4vRPO3uqHUwl9sW5nZ6hrKCvKdfXVMHtVa5xK6IsTcW7wXdICmtoqRR7PvKYcp2/2w4k4t3IdFxWtRct6+G3bBMTFL8ezFyFwdXUuVMfGxgy//jYe9x+sxcPH63DipD9qmBsqypcu88TVyMV4nBKEW7dXYeuv41C3rlmRxzMw0MGN2KV49iIEenpa5TYuKqxlK3ts/8MXt24HIydvL7p2a16oznTf/ki8E4K0jD+wd98c1K4tPo+/h/kiLmEj0jN3IPFOCII2eMHU1EBR7u3TDzl5ewt9PU0LK+/hVaj3LmDQ+2/58uWwsrKChoYGmjVrhr/++quiu1Tuku89w0/+F9Dn851wa78Tf524j582fY5aNvoACsLFiq0dcebIXfTtuAtuHXYidG0U8vMFRRtzVrVBLRt9DOu1D6PcDqLRpybwWfRpoWOpqMgwd00bXDzz4F0Nj16jraWOK1duYeyY9UWW17Q2wsHD0xETcw+dOvqjaZPJmDtnO7Je5CjqXLqUgP8NXY2GThPQzXUuZDIZdu6eDCUlWaH2Vq4aiqtXb5fbeKh42toa+DsiAaO+X15k+QSvrzHy+24Y8V0AWjQfg8xnL7B7zyyoq6sq6hw7EgG3b2ejvu1gfPO1P6ytTbFl6zRF+aKFv6GGWR/R17Vrt7DttxPlPr6KVPTLJ3pvZWdnQ01NrcKOv2XLFowbNw6rVq1Cs2bNsGTJEri4uCAmJgZGRkYV1q/ydmyf+Ml/2eyL6D2wHhycqyEu5im8ZjbFL2sisS7giqLOrdg0xfc16+ihZfsa6NN+ByIvPwYAzJ18FstDO2DR9PN4mPRcUXfkD41x80Yqzh2/D8em1cp5ZFSU/fsjsH9/RLHlvr7fYN++y5g29RfFtoT4ZFGddT8fVnyfeOsR/Hy34q/webC0qiaqO2RIe+jpa2HO7N/h0slJukFQqezbG459e8OLLR81ugdmz/oFO3ecBQAM9JiPu/dD0a37p9i65RgA4KeftivqJyYm48cft2Lb7z5QUVFGbm4eMjNfIDPzhaKOg0NN1K9viRHfBZTTqN4PFXoFIzMzE+7u7tDR0YGpqSkWLlxYqM6mTZvg7OwMuVwOExMTuLm5ITn51R/n0aNHIZPJsG/fPjRs2BCamppo164dkpOTsWfPHtja2kJXVxdubm549uyZYr+9e/eiZcuW0NfXh6GhIbp06YK4uDjRsU+fPg0nJydoaGjA2dkZYWFhkMlkuHz5sqLO1atX0blzZ+jo6MDY2Bj9+/fHo0ePSjX+9PR09O3bF9ra2jA1NcXixYsLTRFZWVnB398f7u7u0NXVxdChQwEAkyZNQt26daGlpQVra2t4e3sjJydH1P7cuXNhbGwMuVwOT09PvHjxAq9bu3YtbG1toaGhgXr16mHFihUl9nnRokUYMmQIBg4cCDs7O6xatQpaWlpYt25dqcb8IVBSkqFTj5rQ1FJBxPlkGFTVgIOzEZ48eoENf36Jw5Hf4ucdndGw2avA5djECGlPsxThAgDOHbuH/HwBDRq9ChFNW5miQ1crzJ549p2OiUpPJpOhU2cnxN5Iwh87J+Nm4kocOz6jyGmUl7S01NHfvQ0SEpJx5/ar34F69apjyg89MNhzpehqF70fatY0gampAQ4fuqTYlpb2DH+di8Ynn9gWuU+VKjro4/YZzpyOQm5uXpF1Bnl2QkzMHZw6ea1c+v2+qNCA4eXlhWPHjuGPP/7A/v37cfToUVy8eFFUJycnB/7+/oiIiEBYWBhu3ryJAQMGFGrL19cXy5Ytw+nTp3H79m307t0bS5YsQUhICHbv3o39+/dj6dKlivqZmZkYN24cwsPDcejQISgpKaFHjx7Iz88HAKSlpcHV1RUNGjTAxYsX4e/vj0mTJomO+fTpU7Rr1w4NGzZEeHg49u7diwcPHqB3796lGv+4ceNw6tQp7NixAwcOHMCJEycKjR8AFixYAEdHR1y6dAne3t4AALlcjqCgIERGRuKnn35CYGAgFi9erNhn69at8PX1xezZsxEeHg5TU9NC4SE4OBg+Pj6YNWsWoqKiMHv2bHh7e2PDhg1F9jc7OxsXLlxA+/btFduUlJTQvn17nDlzplRjrsxq21bBmZv9cP6eO6YuaI6xHocRfz0V1S3lAIBhE53w+6YYfPfNfkT9/Rhrfu8EC2tdAIChkSaePBIHvLw8AWkpWTA01gQA6FVRx4ylLeH9/QlkZojDIr0/jIx0IZdrYvwEVxzYH4GuXeZix47z+GXLGLRsVU9Ud+jQ9kh+tA6PnqxHRxcndPlyNnJyCv7pqKmpIGjjSPzwQ4godND7w8SkCgDgwYOnou0Pkp/C+J+yl2bPGYSnaWFIfvQbLMyN0LOHb5Ftqquroo9bO6xft7c8uvxeqbApkoyMDPz888/YvHkzPv/8cwDAhg0bUKNGDVG9QYMGKb63trZGQEAAmjRpgoyMDOjo6CjKZs6ciRYtWgAAPD09MWXKFMTFxcHa2hoA8NVXX+HIkSOKkNCrVy/RcdatW4dq1aohMjIS9vb2CAkJgUwmQ2BgIDQ0NGBnZ4e7d+9iyJAhin2WLVuGhg0bYvbs2aJ2zM3Ncf36ddStW7fY8aenp2PDhg0ICQlRjH/9+vUwMyu8CKxdu3YYP368aNu0aa/m96ysrDBhwgSEhoZi4sSJAIAlS5bA09MTnp6eip/PwYMHRVcxpk+fjoULF6Jnz54AgJo1ayIyMhKrV6+Gh4dHoX48evQIeXl5MDY2Fm03NjZGdHR0kePMyspCVlaW4nFaWlqR9SqDm7Gp6P3ZH9DRVUMHVyv4L2sFz65/KubUf9sQgz9+iQUARF/5C81amaK7Wx0EzLxQqvanL26BPdviufbiPffyfO/adQHLlu4BAPz99y188kldDB7SHidPvPpbCA09hUOHrsLEVB9jxnyJzZtHo91nvsjKysEM/28RE30Pob+cqpBxkLQWLvgN69ftg4WlEby9+2H9Bi90c/UpVK97jxaQyzWxaePBCujlu1VhVzDi4uKQnZ2NZs2aKbYZGBjAxsZGVO/ChQtwdXWFhYUF5HI52rRpAwBITEwU1XNwcFB8b2xsrJg6+Pe2f0+t3LhxA3369IG1tTV0dXVhZWUlajcmJgYODg7Q0NBQ7NO0aVPRMSMiInDkyBHo6OgovurVq6cYX0ni4+ORk5MjalNPT6/Q+AHA2bnwpdctW7agRYsWMDExgY6ODqZNmyb6mURFRYl+tgDQvPmr1dGZmZmIi4uDp6enqP8zZ858Y9/LYs6cOdDT01N8mZubS9b2u5abk4/bCemIiniMgJkXcP3aE/T9X308elAw9RZ//amofsKNVJjU0AYAPE5+DoOqGqJyZWUZdKuo4/GDgvUXTVqZwH2EPS4keeBCkgd8f2oBXT11XEjyQHe3OuU/QCqVR4/SkZOTi+iou6Lt0dF3Yf6vu0gAIC3tOeLiknDqZDTc+ixBXRtTdO1W8Pfctq0devZqhrSMTUjL2IQ/90wFANy+uxrTvMUvgKhiJCWlAACMjfVF242N9PHgn7KXHj9Ow40bd3Ho4CX0dZuDL75oWuQ0yqBBLti9+xySk5+WV7ffG+/1Is/MzEy4uLjAxcUFwcHBqFatGhITE+Hi4oLs7GxRXVXVVyt6ZTKZ6PHLbS+nPwDA1dUVlpaWCAwMhJmZGfLz82Fvb1+o3ZJkZGTA1dUV8+bNK1Rmampa6nbeRFtbW/T4zJkz6Nu3L/z8/ODi4gI9PT2EhoYWuYalOBkZGQCAwMDAQkFEWVm5qF1QtWpVKCsr48ED8SvsBw8ewMTEpMh9pkyZgnHjxikep6WlVeqQ8W9KSjKoqinhbmIGku9nwqqWnqjc0loXJw/dAQBEnE+Grr46bB0NERVRcDm8aStTKCnJcOXiQwCAe6fdUFZ+dYdB284WGDiqATw678aD+89A74ecnDxcCI9Hnbriv/E6dUyRmFj8+iuZTAaZTKa4+6BPnyXQ1Hi1YLuxcy2sXvM/tP98BhLieRXrfZCQkIT795/gs3ZOiIiIBwDI5Vpo2qweVq/eXex+L69yqamL/w9ZWRmj7WeO6NHdt9z6/D6psIBRq1YtqKqq4ty5c7CwsAAApKSk4Pr164qrFNHR0Xj8+DHmzp2r+KcUHl78at/Sevz4MWJiYhAYGIhWrVoBAE6ePCmqY2Njg82bNyMrKwvq6uoAgPPnz4vqNGrUCNu2bYOVlRVUVMr2o7S2toaqqirOnz+vGH9qaiquX7+O1q1bl7jv6dOnYWlpialTpyq23bp1S1TH1tYW586dg7u7u2Lb2bOvFg4aGxvDzMwM8fHx6Nu3b6n6rKamhsaNG+PQoUPo3r07ACA/Px+HDh3CyJEji9xHXV1d8fOrzEZNa4yTh+4g6U4mtHRU8UUvazi3MMHwr/cDAIKWXcXwSQ0Rc+0JYq4+QddvasOqjh7GDzoCoOBqxsmDdzB9cQvMHH8aKqpKmDLvE+zdHq+4gyThRqromHZOVZGfLyA2+uk7HSsB2trqqFXrVWi2tKoGBwdLPEnJwJ3bj7Fk8S5s3DwKp05G49jRSHTs6IgvvmwEl44zAQBWNY3w1Vef4NDBK3j4KA3VqxtgwoSueP48G/v2XgZQ+K4Tw6oFa3liou8iNZWB8l3R1tYQva9FTSsTODpa48mTdNy+/RABP23HD1P7IDb2Hm4mJMF3hjvu3XuMP8JOAwCaNrWBs3NdnDp1DSkpGbCuZQo/P3fExt7D2TNRomMNGOiC+/efYO+e//5/rDKosICho6MDT09PeHl5wdDQEEZGRpg6dSqUlF7N2lhYWEBNTQ1Lly7FsGHDcPXqVfj7+//nY1epUgWGhoZYs2YNTE1NkZiYiMmTJ4vquLm5YerUqRg6dCgmT56MxMRELFiwAEDBKxEAGDFiBAIDA9GnTx9MnDgRBgYGiI2NRWhoKNauXVvslQCgYJGmh4cHvLy8YGBgACMjI0yfPh1KSkqK9otTp04dJCYmIjQ0FE2aNMHu3buxfft2UZ3Ro0djwIABcHZ2RosWLRAcHIxr166Jpo38/PwwatQo6OnpoVOnTsjKykJ4eDhSUlJEVx3+bdy4cfDw8ICzszOaNm2KJUuWIDMzEwMHDiyxz5WdQVUNzFzeCtWMtZCRlo3rkSkY/vV+nD12DwAQvDoS6urK8JrZDHr6aoi5loJhX+3DnZvpijamDDuGKfM+wZrtnZCfL+DQzpuY+8O5ihoSlaBRY2vs2++tePzj/P4AgE2bjuF/Q1Zjx45wjPr+Z0zw6oYFCz1w4/o9uH27BGdOxwAAsl5ko0WLehgxsjOqVNFGcnIqTp6MRru2vnj4sPKuQ/oQNXaui0OHf1Q8XrDofwCAjRsOwHPQQiyY/yu0tTWwctUo6Ovr4NTJa+jyxTRkZRUsxH72LAvde7SAj29/aGtr4P79J9i/Lxyzv52N7OxXi7VlMhncPTpg44YDoqvpH7IKnSKZP3++YppBLpdj/PjxSE199SquWrVqCAoKwg8//ICAgAA0atQICxYsQNeuXf/TcZWUlBAaGopRo0bB3t4eNjY2CAgIQNu2bRV1dHV1sXPnTgwfPhxOTk5o0KABfHx84ObmpliXYWZmhlOnTmHSpEno2LEjsrKyYGlpiU6dOomCUnEWLVqEYcOGoUuXLtDV1cXEiRNx+/Zt0bqPonTt2hVjx47FyJEjkZWVhS+//BLe3t7w9fVV1Pnmm28QFxeHiRMn4sWLF+jVqxeGDx+Offv2KeoMHjwYWlpamD9/Pry8vKCtrY0GDRqU+E6q33zzDR4+fAgfHx8kJSXByckJe/fuLbTw80PjO+bNC/HWBVwRvQ/G69KeZmPK/46X+pg7QmOxIzS21PVJOieOR0FLo+R3Ud244Rg2bjhWZNn9+0/Ro/uPRZb9l2OS9I4f+xuqyp1KrOPnuwl+vpuKLLt69SY6dphcZNm/CYIAa6v+b9XHykomCAJvvi6l4OBgDBw4EKmpqdDU1JS8/czMTFSvXh0LFy5U3P3xoUlLS4Oenh7q6X8LZVnFvWEYvRs3Mg5UdBfoHcrJeVLRXaB3QIAAIBupqanQ1dUttt57vcizom3cuBHW1taoXr06IiIiMGnSJPTu3VuycHHp0iVER0ejadOmSE1NxYwZMwAA3bp1k6R9IiKiisKAUYKkpCTFVICpqSm+/vprzJo1q1T7JiYmws7OrtjyyMhIAAVvohUTE6NYQHnixAlUrVpVkv4TERFVFE6RlJPc3FzcvHmz2PK3ufPkQ8Apko8Lp0g+Lpwi+ThwiqSCqaiooHbt2hXdDSIiogrBj2snIiIiyTFgEBERkeQYMIiIiEhyDBhEREQkOQYMIiIikhwDBhEREUmOAYOIiIgkx4BBREREkmPAICIiIskxYBAREZHkGDCIiIhIcgwYREREJDkGDCIiIpIcAwYRERFJjgGDiIiIJMeAQURERJJjwCAiIiLJMWAQERGR5BgwiIiISHIMGERERCQ5BgwiIiKSHAMGERERSY4Bg4iIiCTHgEFERESSY8AgIiIiyTFgEBERkeQYMIiIiEhyDBhEREQkOQYMIiIikhwDBhEREUmOAYOIiIgkx4BBREREkmPAICIiIskxYBAREZHkGDCIiIhIcgwYREREJDkGDCIiIpIcAwYRERFJjgGDiIiIJMeAQURERJJjwCAiIiLJMWAQERGR5BgwiIiISHIMGERERCQ5BgwiIiKSHAMGERERSY4Bg4iIiCTHgEFERESSY8AgIiIiyTFgEBERkeQYMIiIiEhyKhXdAfo4GeVXg4pMvaK7QeXsypb+Fd0Feofyunau6C7QO5CWlglDgy5vrMcrGERERCQ5BgwiIiKSHAMGERERSY4Bg4iIiCTHgEFERESSY8AgIiIiyTFgEBERkeQYMIiIiEhyDBhEREQkOQYMIiIikhwDBhEREUmOAYOIiIgkx4BBREREkmPAICIiIskxYBAREZHkGDCIiIhIcgwYREREJDkGDCIiIpIcAwYRERFJjgGDiIiIJMeAQURERJJjwCAiIiLJMWAQERGR5BgwiIiISHIMGERERCQ5BgwiIiKSHAMGERERSY4Bg4iIiCTHgEFERESSUylNpR07dpS6wa5du751Z4iIiOjDUKqA0b1791I1JpPJkJeX91/6Q0RERB+AUgWM/Pz88u4HERERfUD+0xqMFy9eSNUPIiIi+oCUOWDk5eXB398f1atXh46ODuLj4wEA3t7e+PnnnyXvIBEREVU+ZQ4Ys2bNQlBQEH788Ueoqakpttvb22Pt2rWSdo6IiIgqpzIHjI0bN2LNmjXo27cvlJWVFdsdHR0RHR0taeeIiIiocipzwLh79y5q165daHt+fj5ycnIk6RQRERFVbmUOGHZ2djhx4kSh7b/99hsaNmwoSaeIiIiocivVbar/5uPjAw8PD9y9exf5+fn4/fffERMTg40bN2LXrl3l0UciIiKqZMp8BaNbt27YuXMnDh48CG1tbfj4+CAqKgo7d+5Ehw4dyqOPREREVMmU+QoGALRq1QoHDhyQui9ERET0gXirgAEA4eHhiIqKAlCwLqNx48aSdYqIiIgqtzIHjDt37qBPnz44deoU9PX1AQBPnz7Fp59+itDQUNSoUUPqPhIREVElU+Y1GIMHD0ZOTg6ioqLw5MkTPHnyBFFRUcjPz8fgwYPLo49ERERUyZT5CsaxY8dw+vRp2NjYKLbZ2Nhg6dKlaNWqlaSdIyIiosqpzFcwzM3Ni3xDrby8PJiZmUnSKSIiIqrcyhww5s+fj++//x7h4eGKbeHh4Rg9ejQWLFggaeeIiIiocirVFEmVKlUgk8kUjzMzM9GsWTOoqBTsnpubCxUVFQwaNAjdu3cvl44SERFR5VGqgLFkyZJy7gYRERF9SEoVMDw8PMq7H0RERPQBees32gKAFy9eIDs7W7RNV1f3P3WIiIiIKr8yL/LMzMzEyJEjYWRkBG1tbVSpUkX0RURERFTmgDFx4kQcPnwYK1euhLq6OtauXQs/Pz+YmZlh48aN5dFHIiIiqmTKPEWyc+dObNy4EW3btsXAgQPRqlUr1K5dG5aWlggODkbfvn3Lo59ERERUiZT5CsaTJ09gbW0NoGC9xZMnTwAALVu2xPHjx6XtHREREVVKZQ4Y1tbWSEhIAADUq1cPW7duBVBwZePlh5/9F23btsWYMWP+cztUmK+vL5ycnCq6Gx+Eb0bXwv4nX2LYbLsiy2dtbYL9T77Ep18Yi7bvf/Jloa+2PU0V5ROWORRZZ83p1uU6no/d8Wt30HV2GKp7roZSz0UIOxdbbN1hqw5CqeciLNl5UbT9YtwDdPT9DVX6LUdV9xUYuvIAMp6LF8EnPkxDl5nbof1tAIwHrITXhmPIzcsX1Tl69TYaj98Mjd4/oc53PyPo8DXpBko4cfxvdO/mDQvzb6Cq0gF//HFKVK6q0qHIr4ULtirqXL9+Bz17+MDEuBcMqnRDm9ZjcPTIZVE7iYnJ6Oo6FbryLjAz/RqTJq5Bbm6eqE5IyCE0avQ/6Mq7wLzGNxg8eAEeP04rt7G/a2UOGAMHDkRERAQAYPLkyVi+fDk0NDQwduxYeHl5Sd5Ber8cP34crq6uMDMzg0wmQ1hYWEV36Z2r21APXw6wQNzVop8Ieg6vCUEofv/5IyLwTb2Diq9Tux8oylZMiRSVudkfQtqTbJz4477Uw6B/yczKgYNVNSwb0q7EetvP3sC56/dhZqAt2n7vSQY6+P2GWqb6ODuvD/Z490Rk4mMMXLpPUScvLx9dZm1Hdm4eTs35FkGjOmHDkUj4/HJaUSfhQSq6zNqOtvbmuLSoH0Z3aYQhK/Zj36Wbko73Y5aZ+QIODtYIWPp9keW372wRfQWuHQ+ZTIYePV991lb3btOQm5uH/Qfm49xfy+HgaI1u3byRlFRwRT8vLw9du05FdnYujp9YgnXrvLBx4374Tg9StHHq1FUMHPAjBg7shIi/A/FLqDfCz8dg2P8Wlev436Uyr8EYO3as4vv27dsjOjoaFy5cQO3ateHg4CBp56iw7OxsqKmpVdjxMzMz4ejoiEGDBqFnz54V1o+KoqGtjMmrnbB4zN9wG1+nULm1vS56jaiJke1OYUt0+yLbyEzNQUpyVpFlz9Jz8Sw9V/H40y+MoaOvin3Bd6QZABWpc6Oa6NyoZol17j5Ox6i1R7DXpye6zAoTle0Kj4eqsjKWD/kcSkoF73q8ctjncBy7CbH3U1DbtAr2R9xC5J0nOOD7FYz1teFUE5jR51NM3nQCvt80h5qqMlbti0BNIz0sHNgGAGBbwxCnou5hyc4LcGloVR5D/+h06twUnTo3LbbcxMRA9HjnjjNo29YR1tYFVxofPUrFjRt3sWbNeDg4FCwXmD17MFat3IlrV2/CxMQAB/ZfQFRkIvbt+xHGxlUAJ8DXzwM/TFkLn+nuUFNTxbmzUbCyMsb33/cAANSsaYrBQ77EgvlbymfgFaDMVzBeZ2lpiZ49e75VuMjMzIS7uzt0dHRgamqKhQsXFqqzadMmODs7Qy6Xw8TEBG5ubkhOTlaUHz16FDKZDPv27UPDhg2hqamJdu3aITk5GXv27IGtrS10dXXh5uaGZ8+eKfbbu3cvWrZsCX19fRgaGqJLly6Ii4sTHfv06dNwcnKChoYGnJ2dERYWBplMhsuXLyvqXL16FZ07d4aOjg6MjY3Rv39/PHr0qFTjT09PR9++faGtrQ1TU1MsXry40BSRlZUV/P394e7uDl1dXQwdOhQAMGnSJNStWxdaWlqwtraGt7d3oQ+hmzt3LoyNjSGXy+Hp6YkXL14U6sPatWtha2sLDQ0N1KtXDytWrCixz507d8bMmTPRo0ePUo3xQ/P9j/b460AyLh17XKhMXVMJUwKdsMzrWrEBAgBG/miPX290QMCBFnDpW6PE43XqZ45Lxx4h+c7z/9x3env5+QLcf9qLCd2dUd+iaqHyrJw8qKkoKcIFAGiqFbx+Oxl1DwBwJuYeGlhUhbH+q6sfLk5WSHuWjWu3C36fzl6/j88dLERtd3SyxJnrvIJVER48SMGff57DwEGdFdsMDXVhY2OOTZsPIDPzOXJz8xC4ZjeMjPTRqHHBi46zZyNh38CqIFz8o2NHZ6SlPcO1a7cAAM0+scXt2w+x589zEAQBDx6k4Pdtx0sMP5VNqa5gBAQElLrBUaNGlbqul5cXjh07hj/++ANGRkb44YcfcPHiRdE6gZycHPj7+8PGxgbJyckYN24cBgwYgD///FPUlq+vL5YtWwYtLS307t0bvXv3hrq6OkJCQpCRkYEePXpg6dKlmDRpEoCCcDNu3Dg4ODggIyMDPj4+6NGjBy5fvgwlJSWkpaXB1dUVX3zxBUJCQnDr1q1Ca0OePn2Kdu3aYfDgwVi8eDGeP3+OSZMmoXfv3jh8+PAbxz9u3DicOnUKO3bsgLGxMXx8fAqNHwAWLFgAHx8fTJ8+XbFNLpcjKCgIZmZmuHLlCoYMGQK5XI6JEycCALZu3QpfX18sX74cLVu2xKZNmxAQEKBYoAsAwcHB8PHxwbJly9CwYUNcunQJQ4YMgba2Nt+9tQhte5qitqMuRn5+qsjyYbPsEPlXCs7seVBkOQBsmB2DSyceI+tZHhp/VhXfz7eHprYKwtbcLFTXwEQdTdpXw5yhlyUaAb2tedvPQ0VZCaO+bFhkebsG5hgfdAzzw85j9JeNkJmVgymbTgIA7qdkAgCSnj6Dsb6WaL+Xj5Oe/lMnJRPGDbUL1Ul7lo3nWTnQVFeVdFxUsk0b90Mu10KPHi0V22QyGfbum4devaajin43KCnJYGSkj12756BKFTkAIOlBCoyNxO8L9TJsPPhnGqVFC3ts3DQZbm6z8OJFNnJz89ClyydYWszUTWVUqoCxePHiUjUmk8lKHTAyMjLw888/Y/Pmzfj8888BABs2bECNGuJXdIMGDVJ8b21tjYCAADRp0gQZGRnQ0dFRlM2cORMtWrQAAHh6emLKlCmIi4tT/EP96quvcOTIEUXA6NWrl+g469atQ7Vq1RAZGQl7e3uEhIRAJpMhMDAQGhoasLOzw927dzFkyBDFPi//Mc+ePVvUjrm5Oa5fv466desWO/709HRs2LABISEhivGvX7++yI+8b9euHcaPHy/aNm3aNMX3VlZWmDBhAkJDQxUBY8mSJfD09ISnp6fi53Pw4EHRVYzp06dj4cKFiqmOmjVrIjIyEqtXr5YsYGRlZSEr69Wr+bS0yrmAqVp1DQyfXR+Te55DTlZ+ofJPOhnBqVVVDG97osR2ghe8WjwYdyUNGtoq+Pp76yIDRsdvayAjNRendyf95/7T27sQ9wABuy/iwoJ+og99/Lf6FlUR9L0Lxgcdww+bT0JZSQnff+kEY30tKBW9C1UCQUH70MetHTQ0Xk1LC4KAUd8vhVE1fRw5ugiamupYt24PenT3xpmzy2BqaliqtiMjb2Hc2BWYNq0fOnR0RtL9x5g0ORDfffcTAgPHv7mBSqBUAePlXSNSiouLQ3Z2Npo1a6bYZmBgABsbG1G9CxcuwNfXFxEREUhJSUF+fsGTe2JiIuzsXq3g//cUjbGxsWLq4N/b/vrrL8XjGzduwMfHB+fOncOjR49E7drb2yMmJgYODg7Q0NBQ7NO0qfjSVUREBI4cOSIKOv8eX0kBIz4+Hjk5OaI29fT0Co0fAJydnQtt27JlCwICAhAXF4eMjAzk5uaK3qY9KioKw4YNE+3TvHlzHDlyBEDBFZy4uDh4enqKQlNubi709PSK7XdZzZkzB35+fpK1V1HqOOqhipE6Vhx99UpGWUUJDT41QLfBlti5LhGmNbWwPaGjaD/vDY1x9cwTeHU9W2S70eFP0c+rDlTVlJCTLQ4uLn3NcWjrHeTmlLBilMrdici7SE59BsuhgYptefkCJmw4hp92XUTC6sEAALfWtnBrbYsHTzOhra4KmUyGxTsvwtpEHwBgoq+F8zfEYfHB02f/lBVctTCpoo0H/1zN+HcdXS01Xr14x06euIKYmNsIDpkq2n7k8CXs3n0ODx/9Dl3dgvPWqFEdHDp4AZs2HsDESd/CxLgKzp+PFu334EEKAMD4nzUe8+b9gk8/rY/xE3oDABwcrKGlrYnP2o7FjBkDSh1U3mf/6bNIyltmZiZcXFzg4uKC4OBgVKtWDYmJiXBxcSn0GSiqqq/++GQymejxy20vQwQAuLq6wtLSEoGBgTAzM0N+fj7s7e0LtVuSjIwMuLq6Yt68eYXKTE1Ni9jj7Whriy+ZnjlzBn379oWfnx9cXFygp6eH0NDQItewFCcjIwMAEBgYKAp5AKCsrPzfO/2PKVOmYNy4cYrHaWlpMDc3l6z9d+XS8UcY2uKYaNv4pY64fSMDWwPikPo4B39uuCUqX3OqDVZPjcTZvcVPmdRqoIu0lOxC4cKhhQGq19LG3s23pRsEvZX+bW3R/rV1EZ38t6FfGzsMbFe/UP2XayzWHboKDVVldHAs2Le5jRlmb/sLyU+fweifqZEDEbegq6UGO/OCfzqf1DXFnoviF3QH/76F5nWlez6h0lm3fg8aNa4DR8daou3PnhVckVVSEi9hVFJSUvyP+eQTO8yZ8wuSk1Ng9M9UycGDF6GrqwU7u4Lfh+fPsqCiIn6uVVYuaFMo6Ta0SqTCAkatWrWgqqqKc+fOwcKi4AeekpKC69evo02bghXU0dHRePz4MebOnav4pxQeHv6fj/348WPExMQgMDAQrVoV3Hp08uRJUR0bGxts3rwZWVlZUFdXBwCcP39eVKdRo0bYtm0brKysoKJSth+ltbU1VFVVcf78ecX4U1NTcf36dbRuXfJ7Hpw+fRqWlpaYOvVVsr51S/zPzdbWFufOnYO7u7ti29mzr15FGxsbw8zMDPHx8eX67qvq6uqKn19l9jwjDzejMkTbXjzLQ1pKjmJ7UQs7k+88R1JiwQLNT1yMoG+kjujwFGS/yEejtlXRZ2wt/Lo8vtB+nfqZIyo8pdAxqXxkPM9GbNJTxeOE5FRcTkiGgY4GLKrpwlCuKaqvqqwME31t2FR/dcfBsj8v4VMbM+hoquFAxC1M3HAcc/q3hL52wVXQjo6WsKthAPeAPZjXvzWSnmbCO+QUvuvkBHXVguePYS6OWL7nMiZuPI5B7exx+Eoitp66jl1TP85F1eUhI+M5YmPvKh4nJCTh8uVYGBjowsLCCACQlpaJbb+dwI/zhxba/5PmdqhSRQeDBv6IqdP6QVNTHT+v/RMJCUno/EXBi7UOHRvD1s4CAzzmYc7cIXiQ9ATTfYIwfHhXqKsXTLd82eUTDPvfYqxatRMdOzrj/v3HGD9+JZo0qQczs8ILiSujCgsYOjo68PT0hJeXFwwNDWFkZISpU6eKUqGFhQXU1NSwdOlSDBs2DFevXoW/v/9/PnaVKlVgaGiINWvWwNTUFImJiZg8ebKojpubG6ZOnYqhQ4di8uTJSExMxIIFCwBAMQ87YsQIBAYGok+fPpg4cSIMDAwQGxuL0NBQrF27tsQrAXK5HB4eHvDy8oKBgQGMjIwwffp0KCkpFTvP+1KdOnWQmJiI0NBQNGnSBLt378b27dtFdUaPHo0BAwbA2dkZLVq0QHBwMK5duyaaNvLz88OoUaOgp6eHTp06ISsrC+Hh4UhJSRFddfi3jIwMxMa+WkeQkJCAy5cvw8DAQBGUqGi5uQK6elpi2Ew7yGTAvYRMrJ4WhT83JorqaclV0NLVFCt/4BssvSvhcQ/QzudXxePx6wuuVnl8Zof133cqVRvnbyTBN/QMMl7koF71Klg1rD36t301jausrISdP/TAd2sO4tMpv0BbQxXube0wo8+nijo1jfWwa2oPjFt/FAG7LqGGoQ4Cv+vIW1QldCH8Otq3n6B47DVhFQCgv3sHrFtXsIZty5ajEAQB335b+H1RqlbVw67ds+HjvR4dO3ghJycPdnaW+P13P8XVDmVlZfzxx0yMHPETWrUcDW1tDfTv3wG+fgMU7Xh4uCA9/TlWrvgDE71WQ19fG20/a4g5cwaX4+jfLZlQgddiMjIyMHz4cPz++++Qy+UYP348du/eDScnJyxZsgQA8Msvv+CHH37A/fv30ahRI0yZMgVdu3bFpUuX4OTkhKNHj+Kzzz5DSkqK4p1Eg4KCMGbMGDx9+lRxLF9fX4SFhSluMT148CBGjRqF+Ph42NjYICAgAG3btsX27dvRvXt3AAVXCoYPH47o6Gg0aNAA48ePh5ubG6KjoxVrJW7cuIFJkybhyJEjyMrKgqWlJTp16oRFixa9MSikp6dj2LBhCAsLg66uLiZOnIjQ0FC0a9cOc+bMAVCwgHPMmDGF7mCZOHEi1q1bh6ysLHz55Zf45JNP4OvrKxrz7NmzsXjxYrx48QK9evWCsbEx9u3bJ7rNNiQkBPPnz0dkZCS0tbXRoEEDjBkzptjbUF/+vF/n4eGBoKCgEscLFEyR6OnpobXu91CRVf4rG1Syg+v/853wVInkde385kpU6aWlZcLQoAtSU1NFa/9eV6EBo7IJDg7GwIEDkZqaCk1NzTfvUEaZmZmoXr06Fi5cqLj740PDgPFxYcD4uDBgfBxKGzDe6q//xIkT6NevH5o3b467dwvmsjZt2lRoHUNlt3HjRpw8eRIJCQkICwtTvMeFVOHi0qVL+OWXXxAXF4eLFy8q1kJ069ZNkvaJiIgqSpkDxrZt2+Di4gJNTU1cunRJ8R4HqampoveD+BAkJSWhX79+sLW1xdixY/H1119jzZo1pdo3MTEROjo6xX4lJhbMuy9YsACOjo5o3749MjMzceLECVSt+mEs8CEioo9XmadIGjZsiLFjx8Ld3R1yuRwRERGwtrbGpUuX0LlzZyQl8U2BgIL3k7h582ax5W9z58mHgFMkHxdOkXxcOEXycSjtFEmZ/8PFxMQUeRulnp6eaIHhx05FRQW1a9eu6G4QERFViDK/vDAxMRHdpvjSyZMnRbdAEhER0cerzAFjyJAhGD16NM6dOweZTIZ79+4hODgYEyZMwPDhw8ujj0RERFTJlHmKZPLkycjPz8fnn3+OZ8+eoXXr1lBXV8eECRPw/fcfzqfAERER0dsrc8CQyWSYOnUqvLy8EBsbi4yMDNjZ2RX5gV9ERET0cXrr2xjU1NREn2ZKRERE9FKZA8Znn31W4ltgHz58+D91iIiIiCq/MgcMJycn0eOcnBxcvnwZV69ehYeHh1T9IiIiokqszAFj8eLFRW739fVFRgY/WpqIiIje8rNIitKvXz+sW7dOquaIiIioEpMsYJw5cwYaGhpSNUdERESVWJmnSHr27Cl6LAgC7t+/j/DwcHh7e0vWMSIiIqq8yhww9PT0RI+VlJRgY2ODGTNmoGPHjpJ1jIiIiCqvMgWMvLw8DBw4EA0aNECVKlXKq09ERERUyZVpDYaysjI6duzIT00lIiKiEpV5kae9vT3i4+PLoy9ERET0gShzwJg5cyYmTJiAXbt24f79+0hLSxN9EREREZV6DcaMGTMwfvx4fPHFFwCArl27it4yXBAEyGQy5OXlSd9LIiIiqlRKHTD8/PwwbNgwHDlypDz7Q0RERB+AUgcMQRAAAG3atCm3zhAREdGHoUxrMEr6FFUiIiKil8r0Phh169Z9Y8h48uTJf+oQERERVX5lChh+fn6F3smTiIiI6HVlChjffvstjIyMyqsvRERE9IEo9RoMrr8gIiKi0ip1wHh5FwkRERHRm5R6iiQ/P788+0FEREQfkDK/VTgRERHRmzBgEBERkeQYMIiIiEhyDBhEREQkOQYMIiIikhwDBhEREUmOAYOIiIgkx4BBREREkmPAICIiIskxYBAREZHkGDCIiIhIcgwYREREJDkGDCIiIpIcAwYRERFJjgGDiIiIJMeAQURERJJjwCAiIiLJMWAQERGR5BgwiIiISHIMGERERCQ5BgwiIiKSHAMGERERSY4Bg4iIiCTHgEFERESSY8AgIiIiyalUdAfo43Q8bTkAWUV3g8rZqNHeFd0FeocCsndVdBfoHVB+llWqeryCQURERJJjwCAiIiLJMWAQERGR5BgwiIiISHIMGERERCQ5BgwiIiKSHAMGERERSY4Bg4iIiCTHgEFERESSY8AgIiIiyTFgEBERkeQYMIiIiEhyDBhEREQkOQYMIiIikhwDBhEREUmOAYOIiIgkx4BBREREkmPAICIiIskxYBAREZHkGDCIiIhIcgwYREREJDkGDCIiIpIcAwYRERFJjgGDiIiIJMeAQURERJJjwCAiIiLJMWAQERGR5BgwiIiISHIMGERERCQ5BgwiIiKSHAMGERERSY4Bg4iIiCTHgEFERESSY8AgIiIiyTFgEBERkeQYMIiIiEhyDBhEREQkOQYMIiIikhwDBhEREUmOAYOIiIgkx4BBREREkmPAICIiIskxYBAREZHkGDCIiIhIcgwYREREJDkGDCIiIpIcAwYRERFJjgGDiIiIJMeAQURERJJjwCAiIiLJMWAQERGR5BgwiIiISHIMGERERCQ5BgwiIiKSHAMGERERSU6lojtAVFnFxm2GlZVJoe0rVvyBhQu2Ii4+uMj9vvlmBrb9dhwODtaYOOlbtGhhj6pV9XDzZhLWrN6FpUu3l3fX6Q30jNXgOtkatm0NoKqphEc3n+MXrxjcvpIBJRUZvpxgBdu2BjC00MSL9FxcP5mCnfMSkJacrWhjcGB9VLfTgU5VNTxLzcH1k0+xc268oo5BDXX4nPyk0LEX97iIW5fS39lYPzbHo+5iwc4LuJCQjPspmfh9fBd0b1KryLrD1h7CmoNXsci9NcZ80RAAcPTaHbTz31Zk/XOzvkGTWgXPCX/feoiR647ifPwDVJNrYmQnR0zs6lzkfqGnY+AWsBfdnK2xfYKrBKN8P7x3AaNt27ZwcnLCkiVLKrorHxxfX1+EhYXh8uXLFd2VD8InzUZAWfnVRUB7+5rYt/9HbPvtOG7ffojqZl+L6g8Z8iXGT+iNvXv+AgA0alwXyclP4eE+F7dvP0TzT+2watVY5OXlY8WKP97pWOgVTV0VjN7WEDfOPMXqAVeQ8TgH1Wpq4llqLgBATVMJNerLsX9pIu5FZUBTTwU9p9fG4LX2WNT1oqKdG2ef4sCKRKQlZ0PPWB3dplpj4Eo7/NTrsuh4y90ikHQjU/E4MyX3nYzzY5X5IgcOllUxsK0dei3aXWy97X/F4tyNJJhV0RZt/9TGFPdWDRZt8956Boev3oaztTEAIO1ZFlxmh6F9A3OsHNwOV24/gueqg9DXUsfQ9g1E+95MToPX5pNoVc9MohG+P967gEHvtzlz5uD3339HdHQ0NDU18emnn2LevHmwsbGp6K69c48epYoeT5z0LWJj7+LYsQgAwIMHKaLybt1b4tdfjyEz8wUAIGj9XlF5QsJ9fPKJHXr0aMmAUYE+H26OlHtZ+MUrRrHtyZ0Xiu9fpOdhZf+/Rfv85hOL8TsaQd9MHU/vZQEAjv18V1GecjcLB1fehuea+lBSkSE/V1CUPXuag/SHOeU1HHpN54ZW6NzQqsQ6d59kYFTQMeyd0h1d5on/FtVUlGGi/yp05OTmYUd4PEa6OEImkwEAgk/GIDs3Dz8P6wA1FWXUNzfE5ZsPsfjPS6KAkZefj37L9sL3q2Y4GX0PT59lSTfQ9wDXYFQy2dnZb65Ujo4dO4YRI0bg7NmzOHDgAHJyctCxY0dkZma+eecPmKqqCvr2bV8oNLzUqFEdNGxYG+vX7SmxHT09bTxJ4eXximTf3hC3r6RjwHI7+Ic3x4TdjfDJt4Wnwv5NU66M/HwBz9OKvvqgpacC5+5GuHkhTRQuAGBwoD38w5tj1K9OqN/eULJx0NvJzxfgvnwfJnRphPrmbz4fOy7E43H6Cwxsa6fYdvbGfbS2rQ41FWXFNhdHS8TcS0FKxquwOmPbORjpacGznb20g3hPVGjAyMzMhLu7O3R0dGBqaoqFCxcWqrNp0yY4OztDLpfDxMQEbm5uSE5OVpQfPXoUMpkM+/btQ8OGDaGpqYl27dohOTkZe/bsga2tLXR1deHm5oZnz54p9tu7dy9atmwJfX19GBoaokuXLoiLixMd+/Tp03BycoKGhgacnZ0RFhYGmUwmmmK4evUqOnfuDB0dHRgbG6N///549OhRqcafnp6Ovn37QltbG6ampli8eDHatm2LMWPGKOpYWVnB398f7u7u0NXVxdChQwEAkyZNQt26daGlpQVra2t4e3sjJ0f8Kmju3LkwNjaGXC6Hp6cnXrx4gdetXbsWtra20NDQQL169bBixYoS+7x3714MGDAA9evXh6OjI4KCgpCYmIgLFy6Uaswfqm7dW0BfXwcbNuwvsnzgoM6IjLyFM2cii22jeXM79O7dFmsDi79sS+XP0EITLfqZ4eHN51jlcQWnNt9HT9/aaNLLuMj6KuoyuE62xsUdycjKyBOVuU6uiXmRLTE7ogWqmGlg7ZCrirKszDyE+cchaEQk1gy6ivjwVHiuqc+QUcHm7QiHipISRnV2KlX9dUeuwcXRAjUM5YptSU+fwUhPS1TP+J/HSakF/4dORt/FuiORWDPkc2k6/h6q0IDh5eWFY8eO4Y8//sD+/ftx9OhRXLx4UVQnJycH/v7+iIiIQFhYGG7evIkBAwYUasvX1xfLli3D6dOncfv2bfTu3RtLlixBSEgIdu/ejf3792Pp0qWK+pmZmRg3bhzCw8Nx6NAhKCkpoUePHsjPzwcApKWlwdXVFQ0aNMDFixfh7++PSZMmiY759OlTtGvXDg0bNkR4eDj27t2LBw8eoHfv3qUa/7hx43Dq1Cns2LEDBw4cwIkTJwqNHwAWLFgAR0dHXLp0Cd7e3gAAuVyOoKAgREZG4qeffkJgYCAWL16s2Gfr1q3w9fXF7NmzER4eDlNT00LhITg4GD4+Ppg1axaioqIwe/ZseHt7Y8OGDaXqPwCkphZMExgYGBRZnpWVhbS0NNHXh2jQoM7Yu/cv3L//uFCZhoYa+vRpV+LVi/r1rfD79hnwn7EJBw583GGtoslkwJ2r6dg9PwF3r2XgzC/3cfaX+2jRt/AcuZKKDAOW2QEy4NdpNwqVH159Gwu+vIAV/f5Gfp6AvovqKcoyU3Jx9Oc7uHU5Hbf/TseueQm4sP0B2g01L9fxUfEuxD9AwJ7LWD+8g2K6oyR3HqdjX0QiBn1Wv0zHSX+eDffl+7FmyOeoqqv5tt1971XYGoyMjAz8/PPP2Lx5Mz7/vCDBbdiwATVq1BDVGzRokOJ7a2trBAQEoEmTJsjIyICOjo6ibObMmWjRogUAwNPTE1OmTEFcXBysra0BAF999RWOHDmiCAm9evUSHWfdunWoVq0aIiMjYW9vj5CQEMhkMgQGBkJDQwN2dna4e/cuhgwZothn2bJlaNiwIWbPni1qx9zcHNevX0fdunWLHX96ejo2bNiAkJAQxfjXr18PM7PCT2Lt2rXD+PHjRdumTZum+N7KygoTJkxAaGgoJk6cCABYsmQJPD094enpqfj5HDx4UHQVY/r06Vi4cCF69uwJAKhZsyYiIyOxevVqeHh4FNv3l/Lz8zFmzBi0aNEC9vZFX+KbM2cO/Pz83thWZWZhYYTPP2+Ir74qepy9vmoNLS11bNp0oMhyW1sL7D8wH2sDd2P27KLvPKF3Jy05G0k3nom2PYh7BofO1UTblFRkGLDcDlVqaGB5n4hCVy+AghCRmZKLhwnP8SA2E35nm8OqkS5uXiw6aN+6nI66rapINxgqkxPR95Cc9gyWI9cptuXlC5iw6QR++vMSEpYNEtVffzQShnINdG1sLdpuoq+F5NTXfof+eWyip4W4B6m4+TANXefvUJTnCwVTZ6puAYhe5I5aJvpSDq1CVFjAiIuLQ3Z2Npo1a6bYZmBgUGix4IULF+Dr64uIiAikpKQorjAkJibCzu7VnJeDg4Pie2NjY8XUwb+3/fXXX4rHN27cgI+PD86dO4dHjx6J2rW3t0dMTAwcHBygoaGh2Kdp06aivkVERODIkSOioPPv8ZUUMOLj45GTkyNqU09Pr8jFks7OhW9t2rJlCwICAhAXF4eMjAzk5uZCV1dXUR4VFYVhw4aJ9mnevDmOHDkCoOAKTlxcHDw9PUWhKTc3F3p6esX2+99GjBiBq1ev4uTJk8XWmTJlCsaNG6d4nJaWBnPzD+sV2oABnZCc/BR/7j5bZPmggZ2xc+eZQotCAcDOzhIHDi7Apo374e29vry7SqWQcCEVRtbiy9vVamoh5e6rcP4yXFSz0sSyPhF49vTNd37IlApeEauoFf/KuLqdjuhWV3q3+reqh/YNxM9PnWaHoV+rehjYVnyVQhAEBB2LRP9WtlD911oLAPikjimmbTmNnNw8RdmBvxNhY1YFVXQ0oKmmgr/n9xXt473lDNKfZ2PJgDYwryrHh+C9voskMzMTLi4ucHFxQXBwMKpVq4bExES4uLgUWuyoqqqq+F4mk4kev9z2MkQAgKurKywtLREYGAgzMzPk5+fD3t6+TIsoMzIy4Orqinnz5hUqMzU1LXU7b6KtLb5N6syZM+jbty/8/Pzg4uICPT09hIaGFrmGpTgZGRkAgMDAQFHIAwBlZeWidhEZOXIkdu3ahePHjxe66vRv6urqUFdXL3W/KhuZTAaPAS7YtPEA8vLyC5XXqmWGVq0bwLXL1EJl9etb4cDB+di/PxyLF/8GY+OCV655eflFhhF6N47+fBdjtjmh/XcWuLw7GRaOumjexxRbp1wHUBAuBq60Q436Ogj0vAolZUBereD55tnTXOTlCLB0ksPcQY6E8FQ8S81FVQtNdB5vhYc3nyPhn6sXTXoZIy8nH3euFfwtOrhUQ7PeJgidHFN0x0gSGS+yEZv06u8rITkVl28+hIGOOiyq6sJQLp6yUFVWgom+NmzMxFeWDl+9jYTkNAxuV3h6xK2lDWZsO4fBqw9iYldnXL39GAF7L2NR/9YAAA01FdibVxXto69V8Dz5+vbKrMICRq1ataCqqopz587BwsICAJCSkoLr16+jTZs2AIDo6Gg8fvwYc+fOVbzqDQ8P/8/Hfvz4MWJiYhAYGIhWrVoBQKFX4TY2Nti8eTOysrIU/yDPnz8vqtOoUSNs27YNVlZWUFEp24/S2toaqqqqOH/+vGL8qampuH79Olq3bl3ivqdPn4alpSWmTn31T+vWrVuiOra2tjh37hzc3d0V286effUK29jYGGZmZoiPj0ffvuIkXRJBEPD9999j+/btOHr0KGrWrFnqfT9E7ds3gqWlMdavL3p9xcCBnXDnziPs31/497ZXr9YwMqqCfv06oF+/DortN28moXatfuXWZyrZ7b/T8fP/rqHLxJpwGW2JJ7efY/uMWFz4o2Bxub6JGhp0KPgnMHGP+Orism8vI/ZsKrKf58OhU1V0HmsFNS1lpCVnIfpYCjYsjURe9qu7SDp+b4kq1TWQnysgOf4ZNoyMRMSe0i0Sp7cTHpcseqOs8ZtOAAA8Wtti/XcdS93OuiPX8GldU9SrXnj9mZ6WOvb90B0j1x2F8w+/oKpcE949mxV6D4wPXYUFDB0dHXh6esLLywuGhoYwMjLC1KlToaT0at2phYUF1NTUsHTpUgwbNgxXr16Fv7//fz52lSpVYGhoiDVr1sDU1BSJiYmYPHmyqI6bmxumTp2KoUOHYvLkyUhMTMSCBQsAQLH4Z8SIEQgMDESfPn0wceJEGBgYIDY2FqGhoVi7dm2JVwLkcjk8PDzg5eUFAwMDGBkZYfr06VBSUnrj4qI6deogMTERoaGhaNKkCXbv3o3t28Xv/jh69GgMGDAAzs7OaNGiBYKDg3Ht2jXRtJGfnx9GjRoFPT09dOrUCVlZWQgPD0dKSopoWuPfRowYgZCQEPzxxx+Qy+VISkoCUDC9o6n54S5WKs6BAxegoty+2PJp09Zh2rR1RZbNmLERM2ZsLK+u0X8QefgJIg8/KbLsyZ0sjLE6VuL+92MyscLt7xLrnN/2AOe3PXjrPtLbaVu/BvJDR5e6/uvrLl4KHtW5xP0cLKvhuN/XJdb5t7KEm8qiQu8imT9/Plq1agVXV1e0b98eLVu2ROPGjRXl1apVQ1BQEH799VfY2dlh7ty5in/y/4WSkhJCQ0Nx4cIF2NvbY+zYsZg/f76ojq6uLnbu3InLly/DyckJU6dOhY+PDwAo1mWYmZnh1KlTyMvLQ8eOHdGgQQOMGTMG+vr6oqBUnEWLFqF58+bo0qUL2rdvjxYtWihuGS1J165dMXbsWIwcORJOTk44ffq04u6Sl7755ht4e3tj4sSJaNy4MW7duoXhw4eL6gwePBhr167F+vXr0aBBA7Rp0wZBQUElXpVYuXIlUlNT0bZtW5iamiq+tmzZ8sbxEhHRx0MmCILw5moEFNzWOXDgQKSmppbLq/XMzExUr14dCxcuVNz98aFJS0v7ZxGpEoA33wZGldtIc+83V6IPRsB8vkncxyDtWRb0By1Damqq6OaC173Xizwr2saNG2FtbY3q1asjIiICkyZNQu/evSULF5cuXUJ0dDSaNm2K1NRUzJgxAwDQrVs3SdonIiKqKAwYJUhKSoKPjw+SkpJgamqKr7/+GrNmzSrVvq/fRvu6yMiCd3RcsGABYmJioKamhsaNG+PEiROoWvXDWUVMREQfJ06RlJPc3FzcvHmz2PK3ufPkQ8Apko8Lp0g+Lpwi+ThwiqSCqaiooHbt2hXdDSIiogrBT1MlIiIiyTFgEBERkeQYMIiIiEhyDBhEREQkOQYMIiIikhwDBhEREUmOAYOIiIgkx4BBREREkmPAICIiIskxYBAREZHkGDCIiIhIcgwYREREJDkGDCIiIpIcAwYRERFJjgGDiIiIJMeAQURERJJjwCAiIiLJMWAQERGR5BgwiIiISHIMGERERCQ5BgwiIiKSHAMGERERSY4Bg4iIiCTHgEFERESSY8AgIiIiyTFgEBERkeQYMIiIiEhyDBhEREQkOQYMIiIikhwDBhEREUmOAYOIiIgkx4BBREREkmPAICIiIskxYBAREZHkGDCIiIhIcgwYREREJDkGDCIiIpIcAwYRERFJjgGDiIiIJMeAQURERJJjwCAiIiLJMWAQERGR5BgwiIiISHIMGERERCQ5BgwiIiKSHAMGERERSY4Bg4iIiCTHgEFERESSY8AgIiIiyTFgEBERkeRUKroD9HERBOHldxXaD3o3svNfVHQX6B1Ke5ZV0V2gdyDteTaAfz+fF00mvKkGkYTu3LkDc3Pziu4GERH9R7dv30aNGjWKLWfAoHcqPz8f9+7dg1wuh0wmq+juvDNpaWkwNzfH7du3oaurW9HdoXLEc/3x+FjPtSAISE9Ph5mZGZSUil9pwSkSeqeUlJRKTLwfOl1d3Y/qiehjxnP98fgYz7Went4b63CRJxEREUmOAYOIiIgkx4BB9A6oq6tj+vTpUFdXr+iuUDnjuf548FyXjIs8iYiISHK8gkFERESSY8AgIiIiyTFg0Hupbdu2GDNmTEV344Pk6+sLJyeniu6GAs91+eG5/ni8b+caYMAgore0fPlyWFlZQUNDA82aNcNff/1V0V2icnD8+HG4urrCzMwMMpkMYWFhFd0lKidz5sxBkyZNIJfLYWRkhO7duyMmJuat22PAIKqEsrOzK/T4W7Zswbhx4zB9+nRcvHgRjo6OcHFxQXJycoX260NU0ec6MzMTjo6OWL58eYX242NQ0ef62LFjGDFiBM6ePYsDBw4gJycHHTt2RGZm5lu1x4BBFS4zMxPu7u7Q0dGBqakpFi5cWKjOpk2b4OzsDLlcDhMTE7i5uYn+mR09ehQymQz79u1Dw4YNoampiXbt2iE5ORl79uyBra0tdHV14ebmhmfPnin227t3L1q2bAl9fX0YGhqiS5cuiIuLEx379OnTcHJygoaGBpydnREWFgaZTIbLly8r6ly9ehWdO3eGjo4OjI2N0b9/fzx69KhU409PT0ffvn2hra0NU1NTLF68uNClZCsrK/j7+8Pd3R26uroYOnQoAGDSpEmoW7cutLS0YG1tDW9vb+Tk5Ijanzt3LoyNjSGXy+Hp6YkXLwp/ANnatWtha2sLDQ0N1KtXDytWrCixz4sWLcKQIUMwcOBA2NnZYdWqVdDS0sK6detK3I/nuvKd686dO2PmzJno0aNHqcb4Es915TvXe/fuxYABA1C/fn04OjoiKCgIiYmJuHDhQqnGXIhAVMGGDx8uWFhYCAcPHhT+/vtvoUuXLoJcLhdGjx6tqPPzzz8Lf/75pxAXFyecOXNGaN68udC5c2dF+ZEjRwQAwieffCKcPHlSuHjxolC7dm2hTZs2QseOHYWLFy8Kx48fFwwNDYW5c+cq9vvtt9+Ebdu2CTdu3BAuXbokuLq6Cg0aNBDy8vIEQRCE1NRUwcDAQOjXr59w7do14c8//xTq1q0rABAuXbokCIIgpKSkCNWqVROmTJkiREVFCRcvXhQ6dOggfPbZZ6Ua/+DBgwVLS0vh4MGDwpUrV4QePXoUGr+lpaWgq6srLFiwQIiNjRViY2MFQRAEf39/4dSpU0JCQoKwY8cOwdjYWJg3b55ivy1btgjq6urC2rVrhejoaGHq1KmCXC4XHB0dFXU2b94smJqaCtu2bRPi4+OFbdu2CQYGBkJQUFCR/c3KyhKUlZWF7du3i7a7u7sLXbt2LXGsPNeV61y/DkCh814cnuvKfa4FQRBu3LghABCuXLlS6n3+jQGDKlR6erqgpqYmbN26VbHt8ePHgqampugP8XXnz58XAAjp6emCILx6Ijp48KCizpw5cwQAQlxcnGLb//73P8HFxaXYdh8+fCj6g1q5cqVgaGgoPH/+XFEnMDBQ9ETk7+8vdOzYUdTO7du3BQBCTExMieNPS0sTVFVVhV9//VWx7enTp4KWllahJ6Lu3buX2JYgCML8+fOFxo0bKx43b95c+O6770R1mjVrJnoiqlWrlhASEiKq4+/vLzRv3rzIY9y9e1cAIJw+fVq03cvLS2jatGmxfeO5rnzn+nWlDRg815X/XOfl5Qlffvml0KJFi1LVLwqnSKhCxcXFITs7G82aNVNsMzAwgI2NjajehQsX4OrqCgsLC8jlcrRp0wYAkJiYKKrn4OCg+N7Y2FhxifHf2/59CfbGjRvo06cPrK2toaurCysrK1G7MTExcHBwgIaGhmKfpk2bio4ZERGBI0eOQEdHR/FVr149xfhKEh8fj5ycHFGbenp6hcYPAM7OzoW2bdmyBS1atICJiQl0dHQwbdo00c8kKipK9LMFgObNmyu+z8zMRFxcHDw9PUX9nzlz5hv7XlY81zzXPNeV51yPGDECV69eRWhoaKnqF4WfpkrvvczMTLi4uMDFxQXBwcGoVq0aEhMT4eLiUmhRlKqqquJ7mUwmevxyW35+vuKxq6srLC0tERgYCDMzM+Tn58Pe3r5Mi60yMjLg6uqKefPmFSozNTUtdTtvoq2tLXp85swZ9O3bF35+fnBxcYGenh5CQ0OLnOsuTkZGBgAgMDCw0BOWsrJykftUrVoVysrKePDggWj7gwcPYGJiUupjF4XnusD7cq7LE891gffxXI8cORK7du3C8ePH/9OnX/MKBlWoWrVqQVVVFefOnVNsS0lJwfXr1xWPo6Oj8fjxY8ydOxetWrVCvXr1JLlb4fHjx4iJicG0adPw+eefw9bWFikpKaI6NjY2uHLlCrKyshTbzp8/L6rTqFEjXLt2DVZWVqhdu7bo6/Unj9dZW1tDVVVV1GZqaqpo/MU5ffo0LC0tMXXqVDg7O6NOnTq4deuWqI6tra3oZwsAZ8+eVXxvbGwMMzMzxMfHF+p7zZo1izyumpoaGjdujEOHDim25efn49ChQ6JXUa/jua585/pt8VxXznMtCAJGjhyJ7du34/Dhw//594IBgyqUjo4OPD094eXlhcOHD+Pq1asYMGAAlJRe/WpaWFhATU0NS5cuRXx8PHbs2AF/f///fOwqVarA0NAQa9asQWxsLA4fPoxx48aJ6ri5uSE/Px9Dhw5FVFQU9u3bhwULFgAoeNUEFFxKfPLkCfr06YPz588jLi4O+/btw8CBA5GXl1diH+RyOTw8PODl5YUjR47g2rVr8PT0hJKSkqL94tSpUweJiYkIDQ1FXFwcAgICsH37dlGd0aNHY926dVi/fj2uX7+O6dOn49q1a6I6fn5+mDNnDgICAnD9+nVcuXIF69evx6JFi4o99rhx4xAYGIgNGzYgKioKw4cPR2ZmJgYOHFjsPjzXlfNcZ2Rk4PLly4q7KxISEnD58uVC0xj/xnNdOc/1iBEjsHnzZoSEhEAulyMpKQlJSUl4/vx5iX0u1luv3iCSSHp6utCvXz9BS0tLMDY2Fn788UehTZs2osVQISEhgpWVlaCuri40b95c2LFjh2hB1svFYCkpKYp91q9fL+jp6YmONX36dNFCqAMHDgi2traCurq64ODgIBw9erTQQrZTp04JDg4OgpqamtC4cWMhJCREACBER0cr6ly/fl3o0aOHoK+vL2hqagr16tUTxowZI+Tn579x/GlpaYKbm5ugpaUlmJiYCIsWLRKaNm0qTJ48WVHH0tJSWLx4caF9vby8BENDQ0FHR0f45ptvhMWLFxca86xZs4SqVasKOjo6goeHhzBx4kTRz0AQBCE4OFhwcnIS1NTUhCpVqgitW7cWfv/99xL7vXTpUsHCwkJQU1MTmjZtKpw9e/aNY+W5rnzn+uXP+/UvDw+PEsfKc135znVR5xmAsH79+jeOtyj8NFWiMgoODsbAgQORmpoKTU1NydvPzMxE9erVsXDhQnh6ekrePpUez/XHg+daelzkSfQGGzduhLW1NapXr46IiAhMmjQJvXv3luxJ6NKlS4iOjkbTpk2RmpqKGTNmAAC6desmSftUejzXHw+e6/LHgEH0BklJSfDx8UFSUhJMTU3x9ddfY9asWaXaNzExEXZ2dsWWR0ZGAgAWLFiAmJgYxQLKEydOoGrVqpL0n0qP5/rjwXNd/jhFQlSOcnNzcfPmzWLLraysoKLCnP8h4Ln+ePBclw4DBhEREUmOt6kSERGR5BgwiIiISHIMGERERCQ5BgwiIiKSHAMGEX10BgwYgO7duyset23bFmPGjHnn/Th69ChkMhmePn1abB2ZTIawsLBSt+nr6wsnJ6f/1K+bN29CJpMp3h6c6G0wYBDRe2HAgAGQyWSQyWRQU1ND7dq1MWPGDOTm5pb7sX///fdSfw5GaUIBEfGNtojoPdKpUyesX78eWVlZ+PPPPzFixAioqqpiypQphepmZ2dDTU1NkuMaGBhI0g4RvcIrGET03lBXV4eJiQksLS0xfPhwtG/fHjt27ADwalpj1qxZMDMzg42NDQDg9u3b6N27N/T19WFgYIBu3bqJ3gQpLy8P48aNg76+PgwNDTFx4kS8/vY/r0+RZGVlYdKkSTA3N4e6ujpq166Nn3/+GTdv3sRnn30GoOBTO2UyGQYMGACg4CPr58yZg5o1a0JTUxOOjo747bffRMf5888/UbduXWhqauKzzz4r8c2aijNp0iTUrVsXWlpasLa2hre3N3JycgrVW716NczNzaGlpYXevXsjNTVVVL527VrY2tpCQ0MD9erVw4oVK8rcF6KSMGAQ0XtLU1MT2dnZiseHDh1CTEwMDhw4gF27diEnJwcuLi6Qy+U4ceIETp06BR0dHXTq1Emx38KFCxEUFIR169bh5MmTePLkSaGPv36du7s7fvnlFwQEBCAqKgqrV6+Gjo4OzM3NsW3bNgBATEwM7t+/j59++gkAMGfOHGzcuBGrVq3CtWvXMHbsWPTr1w/Hjh0DUBCEevbsCVdXV1y+fBmDBw/G5MmTy/wzkcvlCAoKQmRkJH766ScEBgZi8eLFojqxsbHYunUrdu7cib179+LSpUv47rvvFOXBwcHw8fHBrFmzEBUVhdmzZ8Pb2xsbNmwoc3+IivVWn8FKRCQxDw8PoVu3boIgCEJ+fr5w4MABQV1dXZgwYYKi3NjYWMjKylLss2nTJsHGxkb08dlZWVmCpqamsG/fPkEQBMHU1FT48ccfFeU5OTlCjRo1FMcSBEH0MeIxMTECAOHAgQNF9rOojxB/8eKFoKWlJZw+fVpU19PTU+jTp48gCIIwZcoUwc7OTlQ+adKkQm29Dq99zPjr5s+fLzRu3FjxePr06YKysrJw584dxbY9e/YISkpKwv379wVBEIRatWoJISEhonb8/f2F5s2bC4IgCAkJCaKPTSd6G1yDQUTvjV27dkFHRwc5OTnIz8+Hm5sbfH19FeUNGjQQrbuIiIhAbGws5HK5qJ0XL14gLi4OqampuH//Ppo1a6YoU1FRgbOzc6FpkpcuX74MZWVltGnTptT9jo2NxbNnz9ChQwfR9uzsbDRs2BAAEBUVJeoHADRv3rzUx3hpy5YtCAgIQFxcHDIyMpCbmwtdXV1RHQsLC1SvXl10nPz8fMTExEAulyMuLg6enp4YMmSIok5ubi709PTK3B+i4jBgENF747PPPsPKlSuhpqYGMzOzQh8Ypa2tLXqckZGBxo0bIzg4uFBb1apVe6s+vM3HdWdkZAAAdu/eLfrHDhSsK5HKmTNn0LdvX/j5+cHFxQV6enoIDQ3FwoULy9zXwMDAQoFHWVlZsr4SMWAQ0XtDW1sbtWvXLnX9Ro0aYcuWLTAyMir0Kv4lU1NTnDt3Dq1btwZQ8Er9woULaNSoUZH1GzRogPz8fBw7dgzt27cvVP7yCkpeXp5im52dHdTV1ZGYmFjslQ9bW1vFgtWXzp49++ZB/svp06dhaWmJqVOnKrbdunWrUL3ExETcu3cPZmZmiuMoKSnBxsYGxsbGMDMzQ3x8PPr27Vum4xOVBRd5ElGl1bdvX1StWhXdunXDiRMnkJCQgKNHj2LUqFG4c+cOAGD06NGYO3cuwsLCEB0dje+++67E97CwsrKCh4cHBg0ahLCwMEWbW7duBQBYWlpCJpNh165dePjwITIyMiCXyzFhwgSMHTsWGzZsQFxcHC5evIilS5cqFk4OGzYMN27cgJeXF2JiYhASEoKgoKAyjbdOnTpITExEaGgo4uLiEBAQUOSCVQ0NDXh4eCAiIgInTpzAqFGj0Lt3b5iYmAAA/Pz8MGfOHAQEBOD69eu4cuUK1q9fj0WLFpWpP0QlYcAgokpLS0sLx48fh4WFBXr27AlbW1t4enrixYsXiisa48ePR//+/eHh4YHmzZtDLpejR48eJba7cuVKfPXVV/juu+9Qr149DBkyBJmZmQCA6tWrw8/PD5MnT4axsTFGjhwJAPD394e3tzfmzJkDW1tbdOrUCbt370bNmjUBFKyL2LZtG8LCwuDo6IhVq1Zh9uzZZRpv165dMXbsWIwcORJOTk44ffo0vL29C9WrXbs2evbsiS+++AIdO3aEg4OD6DbUwYMHY+3atVi/fj0aNGiANm3aICgoSNFXIinIhOJWOhERERG9JV7BICIiIskxYBAREZHkGDCIiIhIcgwYREREJDkGDCIiIpIcAwYRERFJjgGDiIiIJMeAQURERJJjwCAiIiLJMWAQERGR5BgwiIiISHIMGERERCS5/wOZuXLxrbAyewAAAABJRU5ErkJggg==",
=======
      "image/png": "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",
>>>>>>> a49bd5a1fa9e08371ab8e3f91faa347295561458
      "text/plain": [
       "<Figure size 640x480 with 1 Axes>"
      ]
     },
     "metadata": {},
     "output_type": "display_data"
    }
   ],
   "source": [
    "cm = metrics.confusion_matrix(Y_test, preds)\n",
    "metrics.ConfusionMatrixDisplay(cm, display_labels=[\"damage_grade 0\", \"damage_grade 1\", \"damage_grade 2\"]).plot(cmap=\"magma\", colorbar=False)\n",
    "print(cm)"
   ]
  },
  {
   "cell_type": "markdown",
   "metadata": {},
   "source": [
    "---"
   ]
  },
  {
   "cell_type": "markdown",
   "metadata": {},
   "source": [
    "## Dùng kết hợp 2 thư viện GaussianNB và BernoulliNB để tạo thành mô hình mới"
   ]
  },
  {
   "cell_type": "code",
<<<<<<< HEAD
   "execution_count": 20,
=======
   "execution_count": 13,
>>>>>>> a49bd5a1fa9e08371ab8e3f91faa347295561458
   "metadata": {},
   "outputs": [],
   "source": [
    "class MixedNB2():\n",
    "    def __init__(self, continuous_idx, binary_idx):\n",
    "        self.continuous_idx = continuous_idx\n",
    "        self.binary_idx = binary_idx\n",
    "\n",
    "        self.gaussNB = GaussianNB()\n",
    "        self.berNB = BernoulliNB()\n",
    "\n",
    "    def fit(self, X, Y): # fit cả 2 model theo index truyền vào\n",
    "        self.gaussNB.fit(X.iloc[:,self.continuous_idx], Y)\n",
    "        self.berNB.fit(X.iloc[:, self.binary_idx], Y)\n",
    "\n",
    "    def predict(self, X):\n",
    "        y_pred = np.empty(X.shape[0])\n",
    "        pred_probs_gauss = self.gaussNB.predict_joint_log_proba(X.iloc[:,self.continuous_idx]) # Lấy ra log(P(X|c)) ứng với mỗi xi trong X_test truyền vào (trong khoảng continuous_idx)\n",
    "        pred_probs_bern = self.berNB.predict_joint_log_proba(X.iloc[:, self.binary_idx]) # Lấy ra log(P(X|c)) ứng với mỗi xi trong X_test truyền vào (trong khoảng binary_idx)\n",
    "        log_posts = pred_probs_gauss + pred_probs_bern # Tính log(P(y|c)) \n",
    "\n",
    "        for i in range(len(log_posts)):\n",
    "            y_pred[i] = np.argmax(log_posts[i])\n",
    "\n",
    "        return np.array(y_pred, dtype=int)\n",
    "        "
   ]
  },
  {
   "cell_type": "code",
<<<<<<< HEAD
   "execution_count": 21,
=======
   "execution_count": 14,
>>>>>>> a49bd5a1fa9e08371ab8e3f91faa347295561458
   "metadata": {},
   "outputs": [
    {
     "name": "stderr",
     "output_type": "stream",
     "text": [
      "d:\\Python\\Lib\\site-packages\\sklearn\\utils\\validation.py:1300: DataConversionWarning: A column-vector y was passed when a 1d array was expected. Please change the shape of y to (n_samples, ), for example using ravel().\n",
      "  y = column_or_1d(y, warn=True)\n",
      "d:\\Python\\Lib\\site-packages\\sklearn\\utils\\validation.py:1300: DataConversionWarning: A column-vector y was passed when a 1d array was expected. Please change the shape of y to (n_samples, ), for example using ravel().\n",
      "  y = column_or_1d(y, warn=True)\n"
     ]
    }
   ],
   "source": [
    "start = dt.now()\n",
    "mNB2 = MixedNB2(continuous_idxs, binary_idxs)\n",
    "mNB2.fit(X_train, Y_train)\n",
    "Y_preds = mNB2.predict(X_test)\n",
    "running_secs = (dt.now() - start).microseconds"
   ]
  },
  {
   "cell_type": "code",
<<<<<<< HEAD
   "execution_count": 22,
=======
   "execution_count": 15,
>>>>>>> a49bd5a1fa9e08371ab8e3f91faa347295561458
   "metadata": {},
   "outputs": [
    {
     "data": {
      "text/plain": [
       "array([0, 1, 1, ..., 1, 0, 1])"
      ]
     },
<<<<<<< HEAD
     "execution_count": 22,
=======
     "execution_count": 15,
>>>>>>> a49bd5a1fa9e08371ab8e3f91faa347295561458
     "metadata": {},
     "output_type": "execute_result"
    }
   ],
   "source": [
    "Y_preds"
   ]
  },
  {
   "cell_type": "code",
<<<<<<< HEAD
   "execution_count": 23,
=======
   "execution_count": 16,
>>>>>>> a49bd5a1fa9e08371ab8e3f91faa347295561458
   "metadata": {},
   "outputs": [
    {
     "name": "stdout",
     "output_type": "stream",
     "text": [
<<<<<<< HEAD
      "time: 526476 microsecs\n"
=======
      "time: 462142 microsecs\n"
>>>>>>> a49bd5a1fa9e08371ab8e3f91faa347295561458
     ]
    }
   ],
   "source": [
    "print(f\"time: {running_secs} microsecs\")"
   ]
  },
  {
   "cell_type": "code",
<<<<<<< HEAD
   "execution_count": 24,
=======
   "execution_count": 17,
>>>>>>> a49bd5a1fa9e08371ab8e3f91faa347295561458
   "metadata": {},
   "outputs": [
    {
     "name": "stdout",
     "output_type": "stream",
     "text": [
      "              precision    recall  f1-score   support\n",
      "\n",
      "           0     0.4411    0.5277    0.4805      5056\n",
      "           1     0.6185    0.7026    0.6579     29611\n",
      "           2     0.5074    0.3615    0.4222     17454\n",
      "\n",
      "    accuracy                         0.5714     52121\n",
      "   macro avg     0.5223    0.5306    0.5202     52121\n",
      "weighted avg     0.5641    0.5714    0.5617     52121\n",
      "\n"
     ]
    }
   ],
   "source": [
    "print(metrics.classification_report(Y_test, Y_preds, digits=4))"
   ]
  },
  {
   "cell_type": "code",
<<<<<<< HEAD
   "execution_count": 25,
=======
   "execution_count": 18,
>>>>>>> a49bd5a1fa9e08371ab8e3f91faa347295561458
   "metadata": {},
   "outputs": [
    {
     "name": "stdout",
     "output_type": "stream",
     "text": [
      "[[ 2668  2137   251]\n",
      " [ 2933 20805  5873]\n",
      " [  448 10697  6309]]\n"
     ]
    },
    {
     "data": {
<<<<<<< HEAD
      "image/png": "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",
=======
      "image/png": "iVBORw0KGgoAAAANSUhEUgAAAhgAAAGxCAYAAAAgf8+rAAAAOXRFWHRTb2Z0d2FyZQBNYXRwbG90bGliIHZlcnNpb24zLjguMCwgaHR0cHM6Ly9tYXRwbG90bGliLm9yZy81sbWrAAAACXBIWXMAAA9hAAAPYQGoP6dpAABb4UlEQVR4nO3dd1QUV8MG8GfpbUFBaUoRC0JEUVFjrFEjGsWamAhGVNRPY0cRjUFRrLGXxCgWLBA0MWJLNPaGElEkFoqCiA0LILAodef7g9cxK6CQDBL0+Z3DObszd+7cuwPLs3PvzMoEQRBAREREJCG1ym4AERERvXsYMIiIiEhyDBhEREQkOQYMIiIikhwDBhEREUmOAYOIiIgkx4BBREREkmPAICIiIslpVHYD6P2iVCpx//59yOVyyGSyym4OERGVkyAIyMrKgqWlJdTUSj9PwYBBb9X9+/dhZWVV2c0gIqJ/6c6dO6hdu3ap6xkw6K2Sy+UAAFPD1lCT8dfvXZdTkFHZTaC36Gn21cpuAr0VAgBBfD8vDd/h6a16MSyiJtNgwHgPyGTqld0Eeqs47Pn+EN44zM1JnkRERCQ5BgwiIiKSHAMGERERSY4Bg4iIiCTHgEFERESSY8AgIiIiyTFgEBERkeQYMIiIiEhyDBhEREQkOQYMIiIikhwDBhEREUmOAYOIiIgkx4BBREREkmPAICIiIskxYBAREZHkGDCIiIhIcgwYREREJDkGDCIiIpIcAwYRERFJjgGDiIiIJMeAQURERJJjwCAiIiLJMWAQERGR5BgwiIiISHIMGERERCQ5BgwiIiKSHAMGERERSY4Bg4iIiCTHgEFERESSY8AgIiIiyTFgEBERkeQYMIiIiEhyDBhEREQkOQYMIiIikhwDBhEREUmOAYOIiIgkx4BBREREkmPAICIiIskxYBAREZHkGDCIiIhIcgwYREREJDkGDCIiIpIcAwYRERFJjgGDiIiIJMeAQURERJJjwCAiIiLJMWAQERGR5BgwiIiISHIMGERERCQ5BgwiIiKSHAMGERERSY4Bg4iIiCTHgEFERESS06jsBryqY8eOcHZ2xooVKyq7Ke8cf39/hIWF4fLly5XdlCpnzMQ26NazIerWr4Gc5wW4eOEOFsw+isSbqSrlmrnUhs+3H6Nps1ooVAq4fiUFgz4PRm5OgVim0yf1McGnPRwcTZGbW4Dz4bcx4qud4vrGTS0xfWZnNGpiAQgCLl+6j/n+RxBz7eFb6+/7bIJ3Z/Rwc0L9+qZ4npOPCxFJmDNrPxJuPhbLfDXkQ/T/rBkaN6kNuaEO6lp/g8yMHJV6tv00DI2caqFGTQNkPH2OkyfiMWfWfjxMyQQA+ExzxdTprsX2n52dC1vL6RXbSSqVr+9A9OnbFg0bWuH581ycO3cd06cFIj7+rljm6NGl6NCxicp269btw5ivV4rPl68Yg48++gCNGtkiJiYZLs1HvbU+/FfwDAaV2/fffw9bW1vo6OigVatW+PPPPyu7SRWu1Uc22LIxEn26boJH/+3Q0FDH9l88oKunKZZp5lIbW392x+njiej1yUa4ddmALRsuQFAKYpnubg2xYm0f/BxyGa4d1qHfp5ux55er4no9fU1s2+mOe3cz0LvrRvT/NAjZilxs+9kDGhr8c30bPmpTF5sCz6Jbl5X4vM86aGqq4+fd/wc9PS2xjJ6uFo4djcWKZUdKrefM6ZsYPmQrWrssxNCvgmBbxwSbtnqK639YfRwf1J+l8hMbk4J9YdEV2j96vfYdGmPt2j1o89E4dHP1haamBn4/uAh6ejoq5QIDD6CW5efizzTfwGJ1BW0+iJ07T76tpv/n/OfOYNDr5eXlQUtL680FK8iOHTvg7e2NH3/8Ea1atcKKFSvg6uqKuLg4mJqaVlq7KtrgASEqzyeP3YPL8VPg1MQCf55LBgDMnNcVm9f/iR9WnhXL/f0Mh7q6DP7zu2HerMPYEXxZXH4j7on4uF79GqhurIelC07gwf2iT7rLvzuFw2dGoZaVEW7fSq+I7tHffNF/vcrzcaN/QmxiAJo418a58EQAwLq1pwAAH7WtW2o96344JT6+eycdq5Yfw9aQodDQUENBgRLZ2XnIzs4Ty3zQyBINHczhM+lnKbtD5dTjU9WzR8OGfoeUh7vQvHl9nD59RVz+7FkOHj4s/e9x0sTvAQA1a1aDk1Odimnsf1ylfiTKzs7G4MGDYWBgAAsLCyxdurRYmW3btsHFxQVyuRzm5uZwd3fHo0ePxPUnTpyATCbDoUOH0LRpU+jq6qJTp0549OgRfv/9dzg4OMDQ0BDu7u549uyZuN3BgwfRtm1bVKtWDSYmJujZsycSEhJU9h0eHg5nZ2fo6OjAxcUFYWFhkMlkKkMMV69eRffu3WFgYAAzMzN89dVXePLkCcoiKysLHh4e0NfXh4WFBZYvX46OHTti4sSJYhlbW1sEBARg8ODBMDQ0xMiRIwEAvr6+aNCgAfT09GBnZwc/Pz/k5+er1L9w4UKYmZlBLpfDy8sLOTmqp3ABYMOGDXBwcICOjg4aNmyIH3744bVtXrZsGUaMGIGhQ4fC0dERP/74I/T09LBp06Yy9fldITfUBgA8TX8OADCpoYdmLrWR+iQbv/4+FBdjvLFzrydatLISt2nUxAIWloZQCgJ+Oz4CkdcmYcsOdzRoWFMsk3AzFWmpz/DloKbQ1FSDto4GvhzkjBtxj3E3+elb7SMVMTTSBQCkpz97Q8nSVauuh88GNMOFiCQUFChLLDNocCvcvPEI58/d+sf7IekZGekDANLSslSWu7t3RsrDXbgcHYh587ygq6tdGc37T6vUgOHj44OTJ09iz549+OOPP3DixAlcunRJpUx+fj4CAgIQHR2NsLAwJCUlYciQIcXq8vf3x5o1axAeHo47d+5gwIABWLFiBUJCQnDgwAH88ccfWL16tVg+Ozsb3t7eiIyMxNGjR6Gmpoa+fftCqSz648/MzISbmxucnJxw6dIlBAQEwNfXV2WfT58+RadOndC0aVNERkbi4MGDePjwIQYMGFCm/nt7e+Ps2bPYu3cvDh8+jNOnTxfrPwAsWbIETZo0QVRUFPz8/AAAcrkcQUFBuH79OlauXInAwEAsX75c3Gbnzp3w9/fH/PnzERkZCQsLi2LhITg4GDNnzsS8efMQExOD+fPnw8/PD1u2bCmxvXl5ebh48SK6dOkiLlNTU0OXLl1w7ty5MvX5XSCTAf7zXHHhfDLiY4vG5a1tqwMAJk3tgJ+2XcLgASG4+tcDhOz+CrZ2xkVlbF6WWb3sNIa6hyLj6XPs3OsJo2pFp1+zFXkY0GsL+n7uhPh73yA2eRo6dK6HwQNCUFgolNAaqkgymQxzF/RGxLlExMaklHt7v9k9kXR/AW4kzUWt2tXx1cCSg7i2tgb6D2iO4G0R/7bJJCGZTIZly7/G2TNXce1akrj8p9Bj8By8EF06T8GiRT/BY1AXbN02rfIa+h9VaUMkCoUCGzduxPbt29G5c2cAwJYtW1C7dm2VcsOGDRMf29nZYdWqVWjRogUUCgUMDAzEdXPnzkWbNm0AAF5eXpg+fToSEhJgZ2cHAPjss89w/PhxMST0799fZT+bNm1CzZo1cf36dTRq1AghISGQyWQIDAyEjo4OHB0dce/ePYwYMULcZs2aNWjatCnmz5+vUo+VlRXi4+PRoEGDUvuflZWFLVu2ICQkROz/5s2bYWlpWaxsp06dMHnyZJVl3377rfjY1tYWU6ZMQWhoKKZOnQoAWLFiBby8vODl5SW+PkeOHFE5izFr1iwsXboU/fr1AwDUqVMH169fx7p16+Dp6YlXPXnyBIWFhTAzM1NZbmZmhtjY2BL7mZubi9zcXPF5ZmZmqa9JVTF38ado4GCK/j02i8vUZDIAQPCWS/g5pGgM/dqVFLRpXwdfeDhjUcAxqKkVlVmz7Ax+31f0ek0ZtxcRVyaiZ29HBG+5BG0dDSxe1QuRf97B2JG/Ql1dhv8b0xpBoQPRs8sGlcmiVPEWLe2Hhg4W6Nlt9ZsLl+D7lccRvDUCVtbV4ePbFd+vc4f7gA3Fyn3a0wkGBtrYEXLh3zaZJLR6zXh88IEtOrSfqLJ8Q+AB8fHVq7eQ8iANh48sgZ2dBRITH7zlVv53VdoZjISEBOTl5aFVq1biMmNjY9jb26uUu3jxItzc3GBtbQ25XI4OHToAAJKTk1XKNW7cWHxsZmYmDh38fdnfh1Zu3LiBgQMHws7ODoaGhrC1tVWpNy4uDo0bN4aOzsuJPS1btlTZZ3R0NI4fPw4DAwPxp2HDhmL/XicxMRH5+fkqdRoZGRXrPwC4uLgUW7Zjxw60adMG5ubmMDAwwLfffqvymsTExKi8tgDQunVr8XF2djYSEhLg5eWl0v65c+e+se3lsWDBAhgZGYk/VlZWb97oP2zOom7o3LU+vuy9FSn3X54yffRQAQC4EfdYpfzN+CewrGVUapm8vEIk334Ky9pFZfr0b4TaVkaYPHYP/oq6j6jIexg38ldYWVdD1+7Ffzeo4ixc3A9dXR3R1+0HPLif8Y/qSEvLRmLCY5w8Ho8Rw7bhE1dHuLSwKVZukGcr/HHwOh4/VvzbZpNEVq4aix49WqFL5ym4d+/1w94REUUfGOrVq/U2mlZl/KcneWZnZ8PV1RWurq4IDg5GzZo1kZycDFdXV+Tl5amU1dR8OZtfJpOpPH+x7MXwBwC4ubnBxsYGgYGBsLS0hFKpRKNGjYrV+zoKhQJubm5YtGhRsXUWFhZlrudN9PX1VZ6fO3cOHh4emD17NlxdXWFkZITQ0NAS57CURqEoeiMLDAwsFkTU1dVL3KZGjRpQV1fHw4eql0s+fPgQ5ubmJW4zffp0eHt7i88zMzOrbMiYs6gbuvVoiAG9tuLOK/Mh7iQ/RcqDTNjVM1FZXqeuMU4cLQpsV6LvIyenAHb1THAh4g4AQENDDbWtjHDvTtE/MF09TQhKAcLfRkOU/3v+4gwIVbyFi/vh055O6NPjeyTfTpOkzhfHT0tb9W3X2sYYbdvVw6Av3695TP9lK1eNRZ8+bdG502QkJb15aMzZuWiy74MHqW8o+X6ptIBRt25daGpqIiIiAtbW1gCA9PR0xMfHi2cpYmNjkZqaioULF4r/lCIjI//1vlNTUxEXF4fAwEC0a9cOAHDmzBmVMvb29ti+fTtyc3OhrV00eefCBdXTl82aNcOuXbtga2sLDY3yvZR2dnbQ1NTEhQsXxP5nZGQgPj4e7du3f+224eHhsLGxwYwZM8Rlt2/fVinj4OCAiIgIDB48WFx2/vx58bGZmRksLS2RmJgIDw+PMrVZS0sLzZs3x9GjR9GnTx8AgFKpxNGjRzF27NgSt9HW1hZfv6ps7uLu6N3fCcMH7UC2Ihc1TYtCX2ZmrjhssW71OUya1gExVx/i2tUUfPZlE9SrXwOjh/4CAFBk5SE4KBLe0zri/r1M3Lubgf8bW3RW6cCe6wCA0ycS8Y3/J5i7uDuCAi9ATSbD1xPboKBQiXNnkt5+x99Di5b2R//PmmGw+yYoFLkwNZUDADIzc5CTUzSR2tRUDlMzOezsagAAHB0toFDk4u7dp3ia/gzNmlujaTNrRJxPxNOnz2FbxwTTZ3THrcQniPwzSWV/7oNa4mFKFo4ejnmr/aSSrV4zHgMHdkK/vjORlfUMZmZFc6cyMrKRk5MHOzsLDBzYCb///idSUzPh1NgOS5eOxqmT0bhy5eUE3bp1LWFgoAsz8+rQ1dVGkyZFIeT69dvIz38/hjorLWAYGBjAy8sLPj4+MDExgampKWbMmAE1tZejNtbW1tDS0sLq1asxatQoXL16FQEBAf9639WrV4eJiQnWr18PCwsLJCcnY9o01Qk67u7umDFjBkaOHIlp06YhOTkZS5YsAVB0NgQAxowZg8DAQAwcOBBTp06FsbExbt68idDQUGzYsKHUMwFA0SRNT09P+Pj4wNjYGKamppg1axbU1NTE+ktTv359JCcnIzQ0FC1atMCBAwewe/dulTITJkzAkCFD4OLigjZt2iA4OBjXrl1TGTaaPXs2xo8fDyMjI3Tr1g25ubmIjIxEenq6ylmHv/P29oanpydcXFzQsmVLrFixAtnZ2Rg6dOhr21zVDR7WAgDw8z7VuSneY/fgl5+K5lxsXBcBbR0NzJzXFdWq6eL6tYfw6L8dt5NeXso2b9YRFBQIWLG2D3R0NXH54j0M7LMNGf+7SVPCjVR4eYRiok977D44DIJSwLUrKRg8IFgcYqGKNWx40VyuPb+NUVk+bvRPCP3fHAnPYR+p3CRr38FxKmWeP89Hj15OmPqNK/T0tPDwYSaOHYnFsiFHkJdXKG4nk8nwpXsLhIb8CaWSk3j/C0aP7gUAOHZ8mcryYcO+w9YtfyAvrwCdOzfD+An9oa+vgzt3HmH3r6cxb16wSvn16yer3Izr4qV1AIC6dh64ffv9uGlepQ6RLF68WBxmkMvlmDx5MjIyXo511qxZE0FBQfjmm2+watUqNGvWDEuWLEGvXr3+1X7V1NQQGhqK8ePHo1GjRrC3t8eqVavQsWNHsYyhoSH27duH0aNHw9nZGU5OTpg5cybc3d3FeRmWlpY4e/YsfH190bVrV+Tm5sLGxgbdunVTCUqlWbZsGUaNGoWePXvC0NAQU6dOxZ07d1TmfZSkV69emDRpEsaOHYvc3Fz06NEDfn5+8Pf3F8t88cUXSEhIwNSpU5GTk4P+/ftj9OjROHTokFhm+PDh0NPTw+LFi+Hj4wN9fX04OTmpXCb7qi+++AKPHz/GzJkzkZKSAmdnZxw8eLDYxM93jbXJnDKV+2HlWZX7YLyqoECJebMOY96sw6WWOX0iEadPJJa7jSSNmkYlh+u/W7zwEBYvPFTq+pjrD9DPbe0b6xEEAc4f/PsPTSQdDfUur11/9+5jdOo0+bVlAKBz5zeXedfJBEFgbC6j4OBgDB06FBkZGdDV1ZW8/uzsbNSqVQtLly4Vr/5412RmZsLIyAjmRu2gJvtPTwEiCTwveFrZTaC3KF3xV2U3gd4KAYASGRkZMDQ0LLUU3+FfY+vWrbCzs0OtWrUQHR0NX19fDBgwQLJwERUVhdjYWLRs2RIZGRmYM6foU3Lv3r0lqZ+IiKiyMGC8RkpKijgUYGFhgc8//xzz5s0r07bJyclwdHQsdf3160WT+pYsWYK4uDhxAuXp06dRo0YNSdpPRERUWThEUkEKCgqQlJRU6vp/cuXJu4BDJO8XDpG8XzhE8r7gEEml0tDQQL169Sq7GURERJWC3/9MREREkmPAICIiIskxYBAREZHkGDCIiIhIcgwYREREJDkGDCIiIpIcAwYRERFJjgGDiIiIJMeAQURERJJjwCAiIiLJMWAQERGR5BgwiIiISHIMGERERCQ5BgwiIiKSHAMGERERSY4Bg4iIiCTHgEFERESSY8AgIiIiyTFgEBERkeQYMIiIiEhyDBhEREQkOQYMIiIikhwDBhEREUmOAYOIiIgkx4BBREREkmPAICIiIskxYBAREZHkGDCIiIhIcgwYREREJDkGDCIiIpIcAwYRERFJjgGDiIiIJMeAQURERJJjwCAiIiLJMWAQERGR5BgwiIiISHIMGERERCQ5BgwiIiKSHAMGERERSY4Bg4iIiCTHgEFERESSY8AgIiIiyTFgEBERkeQYMIiIiEhyDBhEREQkOQYMIiIikhwDBhEREUmOAYOIiIgkx4BBREREkmPAICIiIskxYBAREZHkNCq7AfR+0oA21KBZ2c2gCvbo6bLKbgK9RZ4Wxyu7CfQW5Ctz8XPqojeW4xkMIiIikhwDBhEREUmOAYOIiIgkx4BBREREkmPAICIiIskxYBAREZHkGDCIiIhIcgwYREREJDkGDCIiIpIcAwYRERFJjgGDiIiIJMeAQURERJJjwCAiIiLJMWAQERGR5BgwiIiISHIMGERERCQ5BgwiIiKSHAMGERERSY4Bg4iIiCTHgEFERESSY8AgIiIiyTFgEBERkeQYMIiIiEhyDBhEREQkOQYMIiIikhwDBhEREUmOAYOIiIgkx4BBREREkmPAICIiIslplKXQ3r17y1xhr169/nFjiIiI6N1QpoDRp0+fMlUmk8lQWFj4b9pDRERE74AyBQylUlnR7SAiIqJ3yL+ag5GTkyNVO4iIiOgdUu6AUVhYiICAANSqVQsGBgZITEwEAPj5+WHjxo2SN5CIiIiqnnIHjHnz5iEoKAjfffcdtLS0xOWNGjXChg0bJG0cERERVU3lDhhbt27F+vXr4eHhAXV1dXF5kyZNEBsbK2njiIiIqGoqd8C4d+8e6tWrV2y5UqlEfn6+JI0iIiKiqq3cAcPR0RGnT58utvyXX35B06ZNJWkUERERVW1lukz172bOnAlPT0/cu3cPSqUSv/76K+Li4rB161bs37+/ItpIREREVUy5z2D07t0b+/btw5EjR6Cvr4+ZM2ciJiYG+/btwyeffFIRbSQiIqIqptxnMACgXbt2OHz4sNRtISIionfEPwoYABAZGYmYmBgARfMymjdvLlmjiIiIqGord8C4e/cuBg4ciLNnz6JatWoAgKdPn+Kjjz5CaGgoateuLXUbiYiIqIop9xyM4cOHIz8/HzExMUhLS0NaWhpiYmKgVCoxfPjwimgjERERVTHlPoNx8uRJhIeHw97eXlxmb2+P1atXo127dpI2joiIiKqmcp/BsLKyKvGGWoWFhbC0tJSkUURERFS1lTtgLF68GOPGjUNkZKS4LDIyEhMmTMCSJUskbRwRERFVTWUaIqlevTpkMpn4PDs7G61atYKGRtHmBQUF0NDQwLBhw9CnT58KaSgRERFVHWUKGCtWrKjgZhAREdG7pEwBw9PTs6LbQURERO+Qf3yjLQDIyclBXl6eyjJDQ8N/1SAiIiKq+so9yTM7Oxtjx46Fqakp9PX1Ub16dZUfIiIionIHjKlTp+LYsWNYu3YttLW1sWHDBsyePRuWlpbYunVrRbSRiIiIqphyD5Hs27cPW7duRceOHTF06FC0a9cO9erVg42NDYKDg+Hh4VER7SQiIqIqpNxnMNLS0mBnZwegaL5FWloaAKBt27Y4deqUtK0jIiKiKqncZzDs7Oxw69YtWFtbo2HDhti5cydatmyJffv2iV9+9m907NgRzs7OvDS2Avj7+yMsLAyXL1+u7KZUOaMntoJrzwawq2+CnOf5uHThPhbNPolbN9PEMta21TB9Tke4tKoNLW11nDp6C7OnHcGTx8/EMuu394OjkylMaugh42kOzp66jUWzT+JRigIAUKeeMeYu6Yr69iaQG2rjYYoCe3ddx6rvwlFQoHzr/X4fLFr4E3aHnUFc7B3o6mqjdWtHzF8wHPb2VmKZnJw8+Pj8iJ07TiA3Nx9du7pg9ZrxMDN7Oe/swoU4zPhmAy5dugGZTIYWLeyxYOEINGlSVyzz11+JGD9uNSIj41CzZjWMGdMbU3y+ENdv2XIIw71Ub1iora0JRfZvFfgKvN/6TrFF3yl1VJbdv5GNae3+BAAY1dTClzPr4oMO1aFroIEHN59h78rbiDzwGADQ8KNq+ObXpiXWPatbJG5dzoJ5XV0M+c4etRroQ1eujqcP83Du14cIW5qEwgKhYjtYicodMIYOHYro6Gh06NAB06ZNg5ubG9asWYP8/HwsW7asItpI/yGnTp3C4sWLcfHiRTx48AC7d+9+L26u1vIjK2zbGIW/Lj2AuoYafL5tj62/fI6uH23C82f50NXTxJZfPkfstccY1CcUADDpm3YIDOmPfl23Qfjfe8j5M8n4YcU5PErJhrmFAabP+Rjfb+6Nz7sHAwAK8guxe+dVXI1+iMyMXDg0MsWC5a5QU5NhydzTldX9d9qpU39h9OhecHGxR0FBIfy+3YRPu0/DX1c2QF9fFwAwefJa/P5bBEJD/WBopI8J49fg88/8cer0SgCAQvEcPXtMR0+31li9ZjwKCgoxZ/ZW9Ph0Om4lhUBTUwOZmdn4tPs0dOrcDN//MAFXr97CiOFLYVTNACNG9BDbY2ioh2vXN4vP/36TQ6oYd2MVWPR5tPi8sPDlP/2Rqx2gZ6SBFZ5XkJWaj9b9zDB2/QeY5RqJ21cVuHEhA+OczqrU19+3DhzbVcety1lF9eULOPtzCpL+ysKzzAJYOxpg2NKGkKnJ8MuCxLfTyUpQ7oAxadIk8XGXLl0QGxuLixcvol69emjcuLGkjaPi8vLyoKWlVWn7z87ORpMmTTBs2DD069ev0trxtg0d8IvKc5+xvyEyfhwaNTHDhXN30bxlLdS2NoLbx1ugyCq6dNvn6wOISpyAj9rb4OzJ2wCATT++vMX+/buZ+HFlBNZt6wsNDTUUFChx53YG7tzOUCmzp40VWnxY+y308v104LcFKs83bvKBpcXnuHTxBtq1b4yMjGxs3nQQ27ZPx8edij6pbtg4BU6NvHD+/HV8+KEjYmOTkZaWBX9/T1hZmQIAvvX7Cs2ajsTt2w9Rr14thIQcQ15eATZsmAwtLU188IEtoi8nYOWKXSoBQyaTwdzc+O29AITCAgEZj/NKXFe/hSGCfOORGFUUFvauuI1uI61g21iO21cVKMxX3VZdQ4Zm3Wrg8Ma74rLHyTl4nJwiPk+9m4tzux7CvpVRBfXov6HcczBeZWNjg379+v2jcJGdnY3BgwfDwMAAFhYWWLp0abEy27Ztg4uLC+RyOczNzeHu7o5Hjx6J60+cOAGZTIZDhw6hadOm0NXVRadOnfDo0SP8/vvvcHBwgKGhIdzd3fHs2ctT1QcPHkTbtm1RrVo1mJiYoGfPnkhISFDZd3h4OJydnaGjowMXFxeEhYVBJpOpDDFcvXoV3bt3h4GBAczMzPDVV1/hyZMnZep/VlYWPDw8oK+vDwsLCyxfvhwdO3bExIkTxTK2trYICAjA4MGDYWhoiJEjRwIAfH190aBBA+jp6cHOzg5+fn7FvoRu4cKFMDMzg1wuh5eXF3Jycoq1YcOGDXBwcICOjg4aNmyIH3744bVt7t69O+bOnYu+ffuWqY/vKrmhNgAgI73oNdXSVocgAHm5hWKZ3NxCKJUCXFqVHA6Mqumg92eOuPTnvVKHP2zqVEP7znUQEX5H4h5QaTIysgEA1Y3lAIBLF+ORn1+Azp2biWUaNrSGtbUpzp+PAQDY21vBxMQQmzcdRF5ePp4/z8Xmzb/DwcEatrbmAIDz56+jXTsnaGlpivV07eqCuLg7SE/PEpcpFM9R184DdWzd0a/vTFy7llTRXX7vmdvpYeXlj7Ak4kOM+t4BJrW0xXU3LmTiw96m0K+mAZkMaNXbFJo6aogJf1piXU1da8CguiZOhaaUuB4ATG114dTJGLHnSq7jXVGmMxirVq0qc4Xjx48vc1kfHx+cPHkSe/bsgampKb755htcunQJzs7OYpn8/HwEBATA3t4ejx49gre3N4YMGYLfflMdk/T398eaNWugp6eHAQMGYMCAAdDW1kZISAgUCgX69u2L1atXw9fXF0BRuPH29kbjxo2hUCgwc+ZM9O3bF5cvX4aamhoyMzPh5uaGTz/9FCEhIbh9+7bKP34AePr0KTp16oThw4dj+fLleP78OXx9fTFgwAAcO3bsjf339vbG2bNnsXfvXpiZmWHmzJnF+g8AS5YswcyZMzFr1ixxmVwuR1BQECwtLXHlyhWMGDECcrkcU6dOBQDs3LkT/v7++P7779G2bVts27YNq1atEifoAkBwcDBmzpyJNWvWoGnTpoiKisKIESOgr6/Pu7e+hkwG+M3rjMjzdxEfWxQmL0fex/Nn+fCd1QGL556CTCbD1JntoaGhhppm+irb+87qgK+8mkJPXwuXLtzD8IG7iu3j59890KixGbR1NBASdBnLF5x5K3173ymVSkz2XouPPvoAjRoVjcunPEyHlpYmqlUzUClralodD1OK5uDI5Xo4cnQJPuvvj3nzioa76tevhQO/LYCGhjoA4GFKGmzrWKjW8b85HCkpaaheXY4GDawQuGEKnJzqIDMjG8uW/YL27SYg+q8NqF27ZoX2/X2VcCkT6yfEIOXmM1Qz00afybaYsacZvunwJ3KyC/H9yGsYs+4DrI1th4J8JfKeK7Fy6BU8SnpeYn0d3C1w5UQa0h/kFlvnt68ZbJwMoKWjjmNb7+HX725VdPcqVZkCxvLly8tUmUwmK3PAUCgU2LhxI7Zv347OnTsDALZs2YLatVU/7Q0bNkx8bGdnh1WrVqFFixZQKBQwMHj5Bz937ly0adMGAODl5YXp06cjISFB/If62Wef4fjx42LA6N+/v8p+Nm3ahJo1a+L69eto1KgRQkJCIJPJEBgYCB0dHTg6OuLevXsYMWKEuM2Lf8zz589XqcfKygrx8fFo0KBBqf3PysrCli1bEBISIvZ/8+bNJX7lfadOnTB58mSVZd9++6342NbWFlOmTEFoaKgYMFasWAEvLy94eXmJr8+RI0dUzmLMmjULS5cuFYc66tSpg+vXr2PdunWSBYzc3Fzk5r78Q8vMzJSk3so0Z/EnaOBQAwN6BIvL0lKfY8zQPQhY8gk8RzaHUilg368xuHI5BYKgOolr/eo/sXP7X6hlZYjxPm2w9Ice8HolZIz32gt9uRYcPjDFtNkdMWJsS6xf/efb6N57bdy41bh2LQknTpbtPe+F589zMXLEMrT+6ANs2/4NCgsLsXzZL+jd61ucO78Gurrab64EQOvWjmjd2vHl848+gFMjLwSuP4DZc4aUq01UNn8dezlR+05MNhIuZWJZZGu07GWKUz89QH/fOtAz0sDCzy4jKy0PzbvXxJj1H2Be7yjcjc1Wqau6hTacOhpjzchrJe7r+/+7Bh0DdVg7GuDLmXXx6Gtr/PZ9coX2rzKVKWDcuiV9ykpISEBeXh5atWolLjM2Noa9vb1KuYsXL8Lf3x/R0dFIT0+HUll0Kjk5ORmOji//EP8+RGNmZiYOHfx92Z9/vnyDvnHjBmbOnImIiAg8efJEpd5GjRohLi4OjRs3ho6OjrhNy5YtVdoWHR2N48ePqwSdv/fvdQEjMTER+fn5KnUaGRkV6z8AuLi4FFu2Y8cOrFq1CgkJCVAoFCgoKFC5TXtMTAxGjRqlsk3r1q1x/PhxAEVncBISEuDl5aUSmgoKCmBkJN244IIFCzB79mzJ6qts/ou64OOudfFlz5+Qcl+hsu7MiSR87BKI6sa6KChQIiszFxHXv8b+3Rkq5dLTniM97TluJaTjZnwqwq98jaYuloiKvC+WeXC/6JT5zbhUqKnLMH+ZKzZ8fwFK5bs747yyjR+/Gr8diMCx40tVzhaYm1VHXl4+nj5VqJzFePQoHWb/myvx00/HcPt2Cs6cXQk1taKR523bp6NmjX7YuzccX3zxMczMjfHoYbrKPl88L23OhaamBpyd6yIh4Z6kfaXSPcssQEriM5jV0YWpjQ4+8aqN6R0icC+uaIj9zvVs2LcyQpehtRDkG6+ybfsvzaFIz0fUoZKHydPuF33Yuh//DGrqMgxdbI/f1yZDeEcvEPvXczAqUnZ2NlxdXWFoaIjg4GBcuHABu3fvBoBi34GiqflyXFMmk6k8f7HsRYgAADc3N6SlpSEwMBARERGIiIgosd7XUSgUcHNzw+XLl1V+bty4gfbt25e7v6XR11c9xX7u3Dl4eHjg008/xf79+xEVFYUZM2aUu+0AEBgYqNL2q1ev4vz585K1ffr06cjIyBB/7typunMJ/Bd1Qdce9TGozw7cTc4otVx62nNkZeaidTtrmNTUx5GDN0stq/a/KwS0tNVLL6Mmg4amGtTUeDVBRRAEAePHr8aesLP44/B3qPPKMEaz5g2gqamBY8eixGVxcXeQnPwIH37oAAB49iwXampqKld8FD2HGAo//NARp09fQX5+gVjmyJGLsLe3QvXq8hLbVlhYiKtXk2BubiJZf+n1tPXUYWqji6cPc6GlW/R3+WoAUBYCshL+Htt9aYEzP6eU6dJTmRqgril7p/+u/9WXnf0bdevWhaamJiIiImBtbQ0ASE9PR3x8PDp06AAAiI2NRWpqKhYuXAgrq6Jr0iMjI0uts6xSU1MRFxeHwMBAtGvXDgBw5ozqGLe9vT22b9+O3NxcaGsXnd68cOGCSplmzZph165dsLW1hYZG+V5KOzs7aGpq4sKFC2L/MzIyEB8f/8ZwEh4eDhsbG8yYMUNcdvv2bZUyDg4OiIiIwODBg8Vlfw8OZmZmsLS0RGJiYoXefVVbW1t8/aqyOYs/Qa/+Dhg5aDcUijzUMC0KfVmZucjNKfqH8Zl7I9yMT0Xak+do2sISM+d3xqa1keK9Mpo0t0DjpuaIPH8PGU9zYFOnGiZNb4ukxHREXSg6e9H7M0fk5xciLuYx8nIL4eRsDh+/9jgQFsv7YFSQceNWI/SnY/j119mQy/WQ8r95FUZG+tDV1YaRkT6GDusGnyk/wri6HHJDPUyc8D0+/NARH35YdBa1S5dmmOa7HuPGrcaYMb2hVAr47rtQaGioo2PHJgCAgQM7YW7ANowYsRQ+Pl/g2rUkrF4dhiVLX55pnBuwDa1aOaBuvVp4+lSBZUt34vbthxjm1f3tvzDviS9n1UXUH6lIvZuDamZa6OdTB0qlgPNhj/Aso+hsxpDv7BE65yYUaflo1r0mPuhQHcu++kulHse21WFqo4uTwQ+K7aN1PzMUFihxNyYb+blK1HGW4/Nv6iJizyPeB6MiGBgYwMvLCz4+PjAxMYGpqSlmzJghnl4EAGtra2hpaWH16tUYNWoUrl69ioCAgH+97+rVq8PExATr16+HhYUFkpOTMW3aNJUy7u7umDFjBkaOHIlp06YhOTkZS5YU3QDnxaeUMWPGIDAwEAMHDsTUqVNhbGyMmzdvIjQ0FBs2bIC6eumfSuVyOTw9PeHj4wNjY2OYmppi1qxZxT4FlaR+/fpITk5GaGgoWrRogQMHDohndl6YMGEChgwZAhcXF7Rp0wbBwcG4du2ayrDR7NmzMX78eBgZGaFbt27Izc1FZGQk0tPT4e3tXeK+FQoFbt58+Yn81q1buHz5MoyNjcWg9C4aNKzo8sTQfQNVlvuM/Q27froKALCrZwyfb9vDqLou7iVn4Idl57Bx7ctAnPMsH649G2Cib1vo6Wni0UMFTh27hXFL9yIvr+jqk4ICJf5vfCvUqWcMGYB7dzOxbcMllXpIWut+3AcA6Nx5isryDRunwNPTFQCwdOloqKnJMGDAnP/daKs5Vq95Od+sYUNrhIUFICBgG9q1nQA1NTU4O9fF/gPzYWFRdPbByEgfv/2+EOPHrUarll+jRg0jfPuth8olqunpCowatRwpKemoXt0AzZrVx6nTK+HoaFPRL8N7y9hCG1+vdYRBdU1kpeYh/s8MzPn0IrJSi67KW+rxFwbMsMOkrY2ho6+Oh7eeY/34GPx1NE2lng7uFoj/MwMPbj4rtg9loYAeY2xgXlcXMhnw5G4ujmy6i0Pr7xYr+y6RCa/OQHuLFAoFRo8ejV9//RVyuRyTJ0/GgQMHVO7k+dNPP+Gbb77BgwcP0KxZM0yfPh29evVCVFQUnJ2dceLECXz88cdIT08X7yQaFBSEiRMn4unTp+K+Xr2L5ZEjRzB+/HgkJibC3t4eq1atQseOHVVuHBUeHo7Ro0cjNjYWTk5OmDx5Mtzd3REbGyvOlbhx4wZ8fX1x/Phx5ObmwsbGBt26dcOyZcveGBSysrIwatQohIWFwdDQEFOnTkVoaCg6deqEBQuKrs23tbXFxIkTi13BMnXqVGzatAm5ubno0aMHPvzwQ/j7+6v0ef78+Vi+fDlycnLQv39/mJmZ4dChQyqX2YaEhGDx4sW4fv069PX14eTkhIkTJ5Z6GeqL1/tVnp6eCAoKem1/gaJJnkZGRqht1AVqMs03lqeqLeHJ1MpuAr1FnhbHK7sJ9BbkK3Pxc+oiZGRkqMz9e1WlBoyqJjg4GEOHDkVGRgZ0dXUlrz87Oxu1atXC0qVLxas/3jUMGO8XBoz3CwPG+6GsAeMfTfI8ffo0Bg0ahNatW+PevaLZzdu2bSs2j6Gq27p1K86cOYNbt24hLCxMvMeFVOEiKioKP/30ExISEnDp0iVxLkTv3r0lqZ+IiKiylDtg7Nq1C66urtDV1UVUVJR4j4OMjAyV+0G8C1JSUjBo0CA4ODhg0qRJ+Pzzz7F+/foybZucnAwDA4NSf5KTi659XrJkCZo0aYIuXbogOzsbp0+fRo0aNSqyW0RERBWu3EMkTZs2xaRJkzB48GDI5XJER0fDzs4OUVFR6N69O1JSSr896vukoKAASUlJpa7/J1eevAs4RPJ+4RDJ+4VDJO+Hsg6RlPs/XFxcXImXURoZGalMMHzfaWhooF69epXdDCIiokpR7iESc3NzlcsUXzhz5ozKJZBERET0/ip3wBgxYgQmTJiAiIgIyGQy3L9/H8HBwZgyZQpGjx5dEW0kIiKiKqbcQyTTpk2DUqlE586d8ezZM7Rv3x7a2tqYMmUKxo0bVxFtJCIioiqm3AFDJpNhxowZ8PHxwc2bN6FQKODo6FjiF34RERHR++kfX8agpaWl8m2mRERERC+UO2B8/PHHr70F9rFjx/5Vg4iIiKjqK3fAcHZ2Vnmen58vfs23p6enVO0iIiKiKqzcAWP58uUlLvf394dCofjXDSIiIqKq7x99F0lJBg0ahE2bNklVHREREVVhkgWMc+fOQUdHR6rqiIiIqAor9xBJv379VJ4LgoAHDx4gMjISfn5+kjWMiIiIqq5yBwwjIyOV52pqarC3t8ecOXPQtWtXyRpGREREVVe5AkZhYSGGDh0KJycnVK9evaLaRERERFVcueZgqKuro2vXrvzWVCIiInqtck/ybNSoERITEyuiLURERPSOKHfAmDt3LqZMmYL9+/fjwYMHyMzMVPkhIiIiKvMcjDlz5mDy5Mn49NNPAQC9evVSuWW4IAiQyWQoLCyUvpVERERUpZQ5YMyePRujRo3C8ePHK7I9RERE9A4oc8AQBAEA0KFDhwprDBEREb0byjUH43XfokpERET0Qrnug9GgQYM3hoy0tLR/1SAiIiKq+soVMGbPnl3sTp5ERERErypXwPjyyy9hampaUW0hIiKid0SZ52Bw/gURERGVVZkDxourSIiIiIjepMxDJEqlsiLbQURERO+Qct8qnIiIiOhNGDCIiIhIcgwYREREJDkGDCIiIpIcAwYRERFJjgGDiIiIJMeAQURERJJjwCAiIiLJMWAQERGR5BgwiIiISHIMGERERCQ5BgwiIiKSHAMGERERSY4Bg4iIiCTHgEFERESSY8AgIiIiyTFgEBERkeQYMIiIiEhyDBhEREQkOQYMIiIikhwDBhEREUmOAYOIiIgkx4BBREREkmPAICIiIskxYBAREZHkNCq7AfR+uptxEoCssptBFexYmyaV3QR6i7TVtSu7CfQWyGRle+/mGQwiIiKSHAMGERERSY4Bg4iIiCTHgEFERESSY8AgIiIiyTFgEBERkeQYMIiIiEhyDBhEREQkOQYMIiIikhwDBhEREUmOAYOIiIgkx4BBREREkmPAICIiIskxYBAREZHkGDCIiIhIcgwYREREJDkGDCIiIpIcAwYRERFJjgGDiIiIJMeAQURERJJjwCAiIiLJMWAQERGR5BgwiIiISHIMGERERCQ5BgwiIiKSHAMGERERSY4Bg4iIiCTHgEFERESSY8AgIiIiyTFgEBERkeQYMIiIiEhyDBhEREQkOQYMIiIikhwDBhEREUmOAYOIiIgkx4BBREREkmPAICIiIskxYBAREZHkGDCIiIhIcgwYREREJDkGDCIiIpIcAwYRERFJjgGDiIiIJMeAQURERJJjwCAiIiLJMWAQERGR5BgwiIiISHIMGERERCQ5BgwiIiKSHAMGERERSY4Bg4iIiCTHgEFERESSY8AgIiIiyTFgEBERkeQYMIiIiEhyGpXdAKJ3wdSpAzB/gRdWrtyNyd4/Flu//8BcdOvWAv36+WPvnnPicheXBpg/fxiaNa8PQRBw4UIcpvluxF9/Jb7F1r/frmTewc8PLuBG9kOk5WdjVv3e+Mi4vrheEARsvXcWBx9dgaIgF45yS4yv8wlq6VRXqSciPQHB987h1rMn0FJTh5OhFfwb9BHXR2Xcxpa7Z5H07DF01DXRpcYHGGrVDuqyos952+6exfZ75/AqbTUN7G0xsUL6TkWqmWuh/zd10aiTMbR01PAo6TmCvONw+68sAICbty1a9DaFsaU2CvKUuH1FgbBFibgVlSXWoVdNA+4B9dH4ExMISuDSb48ROvMmcp8VimVc3Gri03E2MLXThSI1H8c238MfP9556/19W/5zAaNjx45wdnbGihUrKrsp7xx/f3+EhYXh8uXLld2Ud4qLSwOMGNkD0dElh4IJE/pCEIRiy/X1dXDgt3nYt+88xo5dAw0Ndczy/wq//T4PtjaDUFBQWEJtJLUcZT7s9EzhWtMJc27sKbZ+54M/sSclClPsusNcxwhb7pzBN7G/ILDxUGipFb2Fnk6Lx4rEPzDUqi2cDa1RKCiR9PyJWEdC9iP4xf2KLy1bwadud6TmKbDq1mEoBQEjbToCAD6zaIEeps4q+/aN3Ql7ffMK6zsBekYa8A1rhrjwdKwc9BcUqfkwraOLZxn5YpmHic/w07c38Pj2c2jpqKHLCCtMDGmCGW0ioEgrKjd8tQOqmWlj+cBoqGuoYchye3z1XQNsGBsDAGj0sTG8Vjsg1O8mrp1Mg0V9PQz+zh75OUocD7pXKX2vaBwioXJZsGABWrRoAblcDlNTU/Tp0wdxcXGV3axKo6+vg63bfDHq/1bgaXpWsfVNmthhknd/DPdaVmxdw4ZWMDExhP+srYiPv4vr128jYM52mJsbw8bG7G00nwC0qGaHIVZt0eZvZy1eEAQBYSmXMLDWh/jIuB7s9Gpiat1PkZqnQHj6TQBAoaDEj0nHMMK6A3qaOaO2rjFs9Gqgg0lDsZ6TaXGoo1cDg2p/hFo61dHY0ArDrTtg38PLeFaYBwDQVdeCsZa++JOen43k56lwren0dl6I91S3r62Rfj8HQd5xSLqchSd3cnD9VDoe384Ry/wZ9ggxp9PxJDkH9+OfYefsm9Az1EBtR30AgHk9PTh1MsGWKXG4FZWFmxcy8NO3N9GitymMzLQAAB/2N8PlQ09wctt9PEnOwZWjafh9TTK6jbGqlH6/DQwYVUxeXl6l7v/kyZMYM2YMzp8/j8OHDyM/Px9du3ZFdnZ2pbarsqxeMxa///Ynjh6NKrZOV1cb27ZPw7hx3+Phw/Ri6+Pi7uLJkwwMG+YKTU0N6OhoYeiwbrh+/TaSklLeRvPpDVJyM5CWn41mhjbiMn0NbTQ0sEBM1n0AwI3sh3iSr4BMBnx9ZSsGXlqLGbG/IOnZY3GbfGUBNNVUTxhrqWkgTyjAjeySj/XBx1dQW6c6nAxrV0DP6IUmXU2Q9FcW/m+dI5ZGfwS/Q83Rzt2i1PLqmjK097DEs4wC3L1W9L5Xt7khsp/mi0MqABBzOh2CErBraggA0NBSQ36uUqWuvBwljC11YFJbpwJ6VvkqNWBkZ2dj8ODBMDAwgIWFBZYuXVqszLZt2+Di4gK5XA5zc3O4u7vj0aNH4voTJ05AJpPh0KFDaNq0KXR1ddGpUyc8evQIv//+OxwcHGBoaAh3d3c8e/ZM3O7gwYNo27YtqlWrBhMTE/Ts2RMJCQkq+w4PD4ezszN0dHTg4uKCsLAwyGQylSGGq1evonv37jAwMICZmRm++uorPHnyBGWRlZUFDw8P6Ovrw8LCAsuXL0fHjh0xceJEsYytrS0CAgIwePBgGBoaYuTIkQAAX19fNGjQAHp6erCzs4Ofnx/y8/NV6l+4cCHMzMwgl8vh5eWFnJwcvGrDhg1wcHCAjo4OGjZsiB9++OG1bT548CCGDBmCDz74AE2aNEFQUBCSk5Nx8eLFMvX5XTLgiw5o2rQevvlmU4nrly77P5w7dx379hYfVwcAheI5OnfygbtHZyiy9yIjMwyuri7o2eNbFBYqS9yG3q60/KJ/INU09VSWV9PUE9el5GYAALbfDcfAWh9ijn1fGGjowCdmJzILngMAXIzqICbrPo4/iUGhoMSTvCwE/2++RVpe8XCepyzAsScxPHvxFtS01kXHr2rh0a3nWOH+F05svY8v59RD689VzyI27mKC1fHt8ENie3QZURvLB0ZDkV70nmtkqoWsVNX3X2WhgOyn+TA0LTqDce1kGpp1r4mGbatBJgPM7HTR9f+KwuOLsxzvmkoNGD4+Pjh58iT27NmDP/74AydOnMClS5dUyuTn5yMgIADR0dEICwtDUlIShgwZUqwuf39/rFmzBuHh4bhz5w4GDBiAFStWICQkBAcOHMAff/yB1atXi+Wzs7Ph7e2NyMhIHD16FGpqaujbty+UyqI39szMTLi5ucHJyQmXLl1CQEAAfH19Vfb59OlTdOrUCU2bNkVkZCQOHjyIhw8fYsCAAWXqv7e3N86ePYu9e/fi8OHDOH36dLH+A8CSJUvQpEkTREVFwc/PDwAgl8sRFBSE69evY+XKlQgMDMTy5cvFbXbu3Al/f3/Mnz8fkZGRsLCwKBYegoODMXPmTMybNw8xMTGYP38+/Pz8sGXLljK1HwAyMoreXI2NjUtcn5ubi8zMTJWfd0Ht2jWxfPloDP5qEXJz84ut7+n2IT7+2Bnek4pP+HxBR0cLgYHeCA+/hjYfTUT7dt64di0Je/cFQEfn3XzDeRcp/ze/ZmCtD9HOuAHq65tjsl03yACcTo0HADSvZovh1h2wKukwev65HMOiN6JltToAAJlMVqzOs2k38FyZh09qfvDW+vG+kqkBt69mYffCW7hzTYHTwQ9wOuQBOnxlqVIu9mw65nSNxKLeUbh2Ig3/96Mj5CaaZd7P6eAHOL75HsYFOWFtUgdM39sMF/YUfVgWlMXnaL0LKm2Sp0KhwMaNG7F9+3Z07twZALBlyxbUrq16OnDYsGHiYzs7O6xatQotWrSAQqGAgYGBuG7u3Llo06YNAMDLywvTp09HQkIC7OzsAACfffYZjh8/LoaE/v37q+xn06ZNqFmzJq5fv45GjRohJCQEMpkMgYGB0NHRgaOjI+7du4cRI0aI26xZswZNmzbF/PnzVeqxsrJCfHw8GjRoUGr/s7KysGXLFoSEhIj937x5MywtLYuV7dSpEyZPnqyy7NtvvxUf29raYsqUKQgNDcXUqVMBACtWrICXlxe8vLzE1+fIkSMqZzFmzZqFpUuXol+/fgCAOnXq4Pr161i3bh08PT1LbfsLSqUSEydORJs2bdCoUaMSyyxYsACzZ89+Y11VTbPm9WBmVh0XIr8Xl2loqKNdeyeMGdMLP/64H3XrWiA17VeV7X7+2Q9nTl9F585TMdD9Y9jYmqFNm4niJNBBHgvxJHUXevVujZ07Tr7VPlFxxppFY+xP85/BROvl+83T/Geoq2eqUsZa10Rcr6WmAXNtIzzKexmo+1u4oJ95c6TlZ8NAQxsPczOx6c5pWGgbFdvvwcdX0KqaHar/r26qOBmP8vAg/pnKsgc3n6HZpzVVluU9V+Jx0nM8TnqOxEuZmHumJdoOtMDva5KR8SivWNhQU5dBv5omMh+9HNbeNT8Rvy5MFM94OLQtuhLp7/M93iWVFjASEhKQl5eHVq1aicuMjY1hb2+vUu7ixYvw9/dHdHQ00tPTxTMMycnJcHR0FMs1btxYfGxmZiYOHfx92Z9//ik+v3HjBmbOnImIiAg8efJEpd5GjRohLi4OjRs3ho7Oy7Gxli1bqrQtOjoax48fVwk6f+/f6wJGYmIi8vPzVeo0MjIq1n8AcHFxKbZsx44dWLVqFRISEqBQKFBQUABDQ0NxfUxMDEaNGqWyTevWrXH8+HEARWdwEhIS4OXlpRKaCgoKYGRU/A2vJGPGjMHVq1dx5syZUstMnz4d3t7e4vPMzExYWVX9SU3Hjl5Gk8YjVZZt2DgZcXF3sPi7nXjyJBOB6w+orI/+az0me6/D/v3nAQB6utpQKpUqV5i8eK6mxulR/wXm2kYw1tRHVOZt1NUvChTZBbmIVTxATzNnAEB9fTNoytRx93k6GsmLPiAVKAvxMDcTZtqGKvXJZDIxqBxPjUFNLTnq6aueik/JeYrozGT4N+hbwb0jALh5IQPmdXVVlpnZ6SL13uv/6ctkMmhoFf2dJlzMhH41TVg7GSD5igIA0LBNNcjUgMQo1bO2ghJ4mlIUOlr2McXNyAzxSpR3zX/uMtW/y87OhqurK1xdXREcHIyaNWsiOTkZrq6uxSY7amq+TI8ymUzl+YtlL0IEALi5ucHGxgaBgYGwtLSEUqlEo0aNyjWJUqFQwM3NDYsWLSq2zsKi9ElC5aWvr/op5ty5c/Dw8MDs2bPh6uoKIyMjhIaGljiHpTQKRdEfQWBgoErIAwB1dfU3bj927Fjs378fp06dKnbW6e+0tbWhra1d5nZVFQrFc1y7dltl2bPsHKSmZonLS5rYmXznEZKSHgIAjhyJwqLvRmD1mrH4fs0eqKmpYarvABQUFOLE8eiK7wQBAJ4X5uF+zlPxeUpuBhKyH0GuoQNTbUP0MW+Gn+6dRy2d6jDXNsKWu2dhomWAj6rXA1A06bOHWRNsu3sWNbXkMNU2xC8PLgAA2hm//MDw8/0/4VKtDmSQ4Wz6Dey8/ydm1HMT74PxwqHHV2GsaYAW/xtCoYp1JPAufPc0xafjrHFh32PUcZajvYcltk0tujpOS1cNPSbYIPqPVDx9mAsDY018PKQWqptr4+L+oiGOlJvPcOVYKgYvtsf2afFQ15DBfV59XNjzCBkPi/6nGFTXRPOeNREX/hSaOmr4aIA5mveoicWfXa6srle4SgsYdevWhaamJiIiImBtbQ0ASE9PR3x8PDp06AAAiI2NRWpqKhYuXCh+6o2MjPzX+05NTUVcXBwCAwPRrl07ACj2Kdze3h7bt29Hbm6u+A/ywoULKmWaNWuGXbt2wdbWFhoa5Xsp7ezsoKmpiQsXLoj9z8jIQHx8PNq3b//abcPDw2FjY4MZM2aIy27fVv1n5+DggIiICAwePFhcdv78efGxmZkZLC0tkZiYCA8PjzK3WxAEjBs3Drt378aJEydQpw7fBP+puLg76NN7Fvz8PHDm7AoolQIuR91Ej09nICUlrbKb996Iz07B1Jid4vN1yScAAJ/U+ABT6nbHAIuWyFHmY+WtP6AoyMUH8lqYZ99fvAcGAIyw6gB1qOG7hN+QpyyAvYEFFjkMgFzj5RnQCxm38NP9COQrC2GnVxP+DfqgRbWXZ1mBovkcfzy5hk9qflAseFDFSIrOwtrh19B3Wh30nGiLJ3eeY8esm4jYXRQelErAvK4eWq83h4GxJrLT85EUnYXv+kXh/t+GVjaMi4H73PqYvKMJlC9utOV3U2VfrT83w2d+dSGTFZ31WPL5ZSRdLn55+7ui0gKGgYEBvLy84OPjAxMTE5iammLGjBkqp4atra2hpaWF1atXY9SoUbh69SoCAgL+9b6rV68OExMTrF+/HhYWFkhOTsa0adNUyri7u2PGjBkYOXIkpk2bhuTkZCxZsgTAy0lZY8aMQWBgIAYOHIipU6fC2NgYN2/eRGhoKDZs2PDaMwFyuRyenp7w8fGBsbExTE1NMWvWLKipqZU46evv6tevj+TkZISGhqJFixY4cOAAdu/erVJmwoQJGDJkCFxcXNCmTRsEBwfj2rVrKsNGs2fPxvjx42FkZIRu3bohNzcXkZGRSE9PVxnW+LsxY8YgJCQEe/bsgVwuR0pK0SV2RkZG0NXVLXGb90XnzlNfu15D3bXYsiNHLuHIkeITe+ntaWJojUOtppS6XiaTwbN2W3jWbltqGQ01dYy06SjeNKsk3zl88ca2qMlkCG76f28sR9L660gq/jqSWuK6glwl1o649sY6nj0tEG+qVRJFej4W9ip+Ofu7rFIj8uLFi9GuXTu4ubmhS5cuaNu2LZo3by6ur1mzJoKCgvDzzz/D0dERCxcuFP/J/xtqamoIDQ3FxYsX0ahRI0yaNAmLFy9WKWNoaIh9+/bh8uXLcHZ2xowZMzBz5kwAEOdlWFpa4uzZsygsLETXrl3h5OSEiRMnolq1amUaQ1+2bBlat26Nnj17okuXLmjTpo14yejr9OrVC5MmTcLYsWPh7OyM8PBw8eqSF7744gv4+flh6tSpaN68OW7fvo3Ro0erlBk+fDg2bNiAzZs3w8nJCR06dEBQUNBrz0qsXbsWGRkZ6NixIywsLMSfHTt2vLG/RET0/pAJJd3DmEoUHByMoUOHIiMjo0I+rWdnZ6NWrVpYunSpePXHuyYzM/N/k0g1Abz+TA1VfYdalXwmjN5NobffvflWVFyeMhfBjxYiIyND5eKCV/2nJ3lWtq1bt8LOzg61atVCdHQ0fH19MWDAAMnCRVRUFGJjY9GyZUtkZGRgzpw5AIDevXtLUj8REVFlYcB4jZSUFMycORMpKSmwsLDA559/jnnz5pVp21cvo33V9evXARTdRCsuLg5aWlpo3rw5Tp8+jRo1akjSfiIiosrCIZIKUlBQgKSkpFLX/5MrT94FHCJ5v3CI5P3CIZL3A4dIKpmGhgbq1atX2c0gIiKqFLzQmoiIiCTHgEFERESSY8AgIiIiyTFgEBERkeQYMIiIiEhyDBhEREQkOQYMIiIikhwDBhEREUmOAYOIiIgkx4BBREREkmPAICIiIskxYBAREZHkGDCIiIhIcgwYREREJDkGDCIiIpIcAwYRERFJjgGDiIiIJMeAQURERJJjwCAiIiLJMWAQERGR5BgwiIiISHIMGERERCQ5BgwiIiKSHAMGERERSY4Bg4iIiCTHgEFERESSY8AgIiIiyTFgEBERkeQYMIiIiEhyDBhEREQkOQYMIiIikhwDBhEREUmOAYOIiIgkx4BBREREkmPAICIiIskxYBAREZHkGDCIiIhIcgwYREREJDkGDCIiIpIcAwYRERFJjgGDiIiIJMeAQURERJJjwCAiIiLJMWAQERGR5BgwiIiISHIMGERERCQ5BgwiIiKSHAMGERERSY4Bg4iIiCTHgEFERESS06jsBtD7RRCEF48qtR30dmQX5FZ2E+gtylNWdgvobchXFv1dv3w/L5lMeFMJIgndvXsXVlZWld0MIiL6l+7cuYPatWuXup4Bg94qpVKJ+/fvQy6XQyaTVXZz3prMzExYWVnhzp07MDQ0rOzmUAXisX5/vK/HWhAEZGVlwdLSEmpqpc+04BAJvVVqamqvTbzvOkNDw/fqjeh9xmP9/ngfj7WRkdEby3CSJxEREUmOAYOIiIgkx4BB9BZoa2tj1qxZ0NbWruymUAXjsX5/8Fi/Hid5EhERkeR4BoOIiIgkx4BBREREkmPAoP+kjh07YuLEiZXdjHeSv78/nJ2dK7sZIh7risNj/f74rx1rgAGDiP6h77//Hra2ttDR0UGrVq3w559/VnaTqAKcOnUKbm5usLS0hEwmQ1hYWGU3iSrIggUL0KJFC8jlcpiamqJPnz6Ii4v7x/UxYBBVQXl5eZW6/x07dsDb2xuzZs3CpUuX0KRJE7i6uuLRo0eV2q53UWUf6+zsbDRp0gTff/99pbbjfVDZx/rkyZMYM2YMzp8/j8OHDyM/Px9du3ZFdnb2P6qPAYMqXXZ2NgYPHgwDAwNYWFhg6dKlxcps27YNLi4ukMvlMDc3h7u7u8o/sxMnTkAmk+HQoUNo2rQpdHV10alTJzx69Ai///47HBwcYGhoCHd3dzx79kzc7uDBg2jbti2qVasGExMT9OzZEwkJCSr7Dg8Ph7OzM3R0dODi4oKwsDDIZDJcvnxZLHP16lV0794dBgYGMDMzw1dffYUnT56Uqf9ZWVnw8PCAvr4+LCwssHz58mKnkm1tbREQEIDBgwfD0NAQI0eOBAD4+vqiQYMG0NPTg52dHfz8/JCfn69S/8KFC2FmZga5XA4vLy/k5OQUa8OGDRvg4OAAHR0dNGzYED/88MNr27xs2TKMGDECQ4cOhaOjI3788Ufo6elh06ZNr92Ox7rqHevu3btj7ty56Nu3b5n6+AKPddU71gcPHsSQIUPwwQcfoEmTJggKCkJycjIuXrxYpj4XIxBVstGjRwvW1tbCkSNHhL/++kvo2bOnIJfLhQkTJohlNm7cKPz2229CQkKCcO7cOaF169ZC9+7dxfXHjx8XAAgffvihcObMGeHSpUtCvXr1hA4dOghdu3YVLl26JJw6dUowMTERFi5cKG73yy+/CLt27RJu3LghREVFCW5uboKTk5NQWFgoCIIgZGRkCMbGxsKgQYOEa9euCb/99pvQoEEDAYAQFRUlCIIgpKenCzVr1hSmT58uxMTECJcuXRI++eQT4eOPPy5T/4cPHy7Y2NgIR44cEa5cuSL07du3WP9tbGwEQ0NDYcmSJcLNmzeFmzdvCoIgCAEBAcLZs2eFW7duCXv37hXMzMyERYsWidvt2LFD0NbWFjZs2CDExsYKM2bMEORyudCkSROxzPbt2wULCwth165dQmJiorBr1y7B2NhYCAoKKrG9ubm5grq6urB7926V5YMHDxZ69er12r7yWFetY/0qAMWOe2l4rKv2sRYEQbhx44YAQLhy5UqZt/k7BgyqVFlZWYKWlpawc+dOcVlqaqqgq6ur8of4qgsXLggAhKysLEEQXr4RHTlyRCyzYMECAYCQkJAgLvu///s/wdXVtdR6Hz9+rPIHtXbtWsHExER4/vy5WCYwMFDljSggIEDo2rWrSj137twRAAhxcXGv7X9mZqagqakp/Pzzz+Kyp0+fCnp6esXeiPr06fPaugRBEBYvXiw0b95cfN66dWvh66+/VinTqlUrlTeiunXrCiEhISplAgIChNatW5e4j3v37gkAhPDwcJXlPj4+QsuWLUttG4911TvWryprwOCxrvrHurCwUOjRo4fQpk2bMpUvCYdIqFIlJCQgLy8PrVq1EpcZGxvD3t5epdzFixfh5uYGa2tryOVydOjQAQCQnJysUq5x48biYzMzM/EU49+X/f0U7I0bNzBw4EDY2dnB0NAQtra2KvXGxcWhcePG0NHREbdp2bKlyj6jo6Nx/PhxGBgYiD8NGzYU+/c6iYmJyM/PV6nTyMioWP8BwMXFpdiyHTt2oE2bNjA3N4eBgQG+/fZbldckJiZG5bUFgNatW4uPs7OzkZCQAC8vL5X2z507941tLy8eax5rHuuqc6zHjBmDq1evIjQ0tEzlS8JvU6X/vOzsbLi6usLV1RXBwcGoWbMmkpOT4erqWmxSlKampvhYJpOpPH+xTKlUis/d3NxgY2ODwMBAWFpaQqlUolGjRuWabKVQKODm5oZFixYVW2dhYVHmet5EX19f5fm5c+fg4eGB2bNnw9XVFUZGRggNDS1xrLs0CoUCABAYGFjsDUtdXb3EbWrUqAF1dXU8fPhQZfnDhw9hbm5e5n2XhMe6yH/lWFckHusi/8VjPXbsWOzfvx+nTp36V99+zTMYVKnq1q0LTU1NREREiMvS09MRHx8vPo+NjUVqaioWLlyIdu3aoWHDhpJcrZCamoq4uDh8++236Ny5MxwcHJCenq5Sxt7eHleuXEFubq647MKFCyplmjVrhmvXrsHW1hb16tVT+Xn1zeNVdnZ20NTUVKkzIyNDpf+lCQ8Ph42NDWbMmAEXFxfUr18ft2/fVinj4OCg8toCwPnz58XHZmZmsLS0RGJiYrG216lTp8T9amlpoXnz5jh69Ki4TKlU4ujRoyqfol7FY131jvU/xWNdNY+1IAgYO3Ysdu/ejWPHjv3r3wsGDKpUBgYG8PLygo+PD44dO4arV69iyJAhUFN7+atpbW0NLS0trF69GomJidi7dy8CAgL+9b6rV68OExMTrF+/Hjdv3sSxY8fg7e2tUsbd3R1KpRIjR45ETEwMDh06hCVLlgAo+tQEFJ1KTEtLw8CBA3HhwgUkJCTg0KFDGDp0KAoLC1/bBrlcDk9PT/j4+OD48eO4du0avLy8oKamJtZfmvr16yM5ORmhoaFISEjAqlWrsHv3bpUyEyZMwKZNm7B582bEx8dj1qxZuHbtmkqZ2bNnY8GCBVi1ahXi4+Nx5coVbN68GcuWLSt1397e3ggMDMSWLVsQExOD0aNHIzs7G0OHDi11Gx7rqnmsFQoFLl++LF5dcevWLVy+fLnYMMbf8VhXzWM9ZswYbN++HSEhIZDL5UhJSUFKSgqeP3/+2jaX6h/P3iCSSFZWljBo0CBBT09PMDMzE7777juhQ4cOKpOhQkJCBFtbW0FbW1to3bq1sHfvXpUJWS8mg6Wnp4vbbN68WTAyMlLZ16xZs1QmQh0+fFhwcHAQtLW1hcaNGwsnTpwoNpHt7NmzQuPGjQUtLS2hefPmQkhIiABAiI2NFcvEx8cLffv2FapVqybo6uoKDRs2FCZOnCgolco39j8zM1Nwd3cX9PT0BHNzc2HZsmVCy5YthWnTpollbGxshOXLlxfb1sfHRzAxMREMDAyEL774Qli+fHmxPs+bN0+oUaOGYGBgIHh6egpTp05VeQ0EQRCCg4MFZ2dnQUtLS6hevbrQvn174ddff31tu1evXi1YW1sLWlpaQsuWLYXz58+/sa881lXvWL94vV/98fT0fG1feayr3rEu6TgDEDZv3vzG/paE36ZKVE7BwcEYOnQoMjIyoKurK3n92dnZqFWrFpYuXQovLy/J66ey47F+f/BYS4+TPIneYOvWrbCzs0OtWrUQHR0NX19fDBgwQLI3oaioKMTGxqJly5bIyMjAnDlzAAC9e/eWpH4qOx7r9wePdcVjwCB6g5SUFMycORMpKSmwsLDA559/jnnz5pVp2+TkZDg6Opa6/vr16wCAJUuWIC4uTpxAefr0adSoUUOS9lPZ8Vi/P3isKx6HSIgqUEFBAZKSkkpdb2trCw0N5vx3AY/1+4PHumwYMIiIiEhyvEyViIiIJMeAQURERJJjwCAiIiLJMWAQERGR5BgwiOi9M2TIEPTp00d83rFjR0ycOPGtt+PEiROQyWR4+vRpqWVkMhnCwsLKXKe/vz+cnZ3/VbuSkpIgk8nE24MT/RMMGET0nzBkyBDIZDLIZDJoaWmhXr16mDNnDgoKCip837/++muZvwejLKGAiHijLSL6D+nWrRs2b96M3Nxc/PbbbxgzZgw0NTUxffr0YmXz8vKgpaUlyX6NjY0lqYeIXuIZDCL6z9DW1oa5uTlsbGwwevRodOnSBXv37gXwclhj3rx5sLS0hL29PQDgzp07GDBgAKpVqwZjY2P07t1b5SZIhYWF8Pb2RrVq1WBiYoKpU6fi1dv/vDpEkpubC19fX1hZWUFbWxv16tXDxo0bkZSUhI8//hhA0bd2ymQyDBkyBEDRV9YvWLAAderUga6uLpo0aYJffvlFZT+//fYbGjRoAF1dXXz88cevvVlTaXx9fdGgQQPo6enBzs4Ofn5+yM/PL1Zu3bp1sLKygp6eHgYMGICMjAyV9Rs2bICDgwN0dHTQsGFD/PDDD+VuC9HrMGAQ0X+Wrq4u8vLyxOdHjx5FXFwcDh8+jP379yM/Px+urq6Qy+U4ffo0zp49CwMDA3Tr1k3cbunSpQgKCsKmTZtw5swZpKWlFfv661cNHjwYP/30E1atWoWYmBisW7cOBgYGsLKywq5duwAAcXFxePDgAVauXAkAWLBgAbZu3Yoff/wR165dw6RJkzBo0CCcPHkSQFEQ6tevH9zc3HD58mUMHz4c06ZNK/drIpfLERQUhOvXr2PlypUIDAzE8uXLVcrcvHkTO3fuxL59+3Dw4EFERUXh66+/FtcHBwdj5syZmDdvHmJiYjB//nz4+flhy5Yt5W4PUan+0XewEhFJzNPTU+jdu7cgCIKgVCqFw4cPC9ra2sKUKVPE9WZmZkJubq64zbZt2wR7e3uVr8/Ozc0VdHV1hUOHDgmCIAgWFhbCd999J67Pz88XateuLe5LEASVrxGPi4sTAAiHDx8usZ0lfYV4Tk6OoKenJ4SHh6uU9fLyEgYOHCgIgiBMnz5dcHR0VFnv6+tbrK5X4ZWvGX/V4sWLhebNm4vPZ82aJairqwt3794Vl/3++++Cmpqa8ODBA0EQBKFu3bpCSEiISj0BAQFC69atBUEQhFu3bql8bTrRP8E5GET0n7F//34YGBggPz8fSqUS7u7u8Pf3F9c7OTmpzLuIjo7GzZs3IZfLVerJyclBQkICMjIy8ODBA7Rq1Upcp6GhARcXl2LDJC9cvnwZ6urq6NChQ5nbffPmTTx79gyffPKJyvK8vDw0bdoUABATE6PSDgBo3bp1mffxwo4dO7Bq1SokJCRAoVCgoKAAhoaGKmWsra1Rq1Ytlf0olUrExcVBLpcjISEBXl5eGDFihFimoKAARkZG5W4PUWkYMIjoP+Pjjz/G2rVroaWlBUtLy2JfGKWvr6/yXKFQoHnz5ggODi5WV82aNf9RG/7J13UrFAoAwIEDB1T+sQNF80qkcu7cOXh4eGD27NlwdXWFkZERQkNDsXTp0nK3NTAwsFjgUVdXl6ytRAwYRPSfoa+vj3r16pW5fLNmzbBjxw6YmpoW+xT/goWFBSIiItC+fXsARZ/UL168iGbNmpVY3snJCUqlEidPnkSXLl2KrX9xBqWwsFBc5ujoCG1tbSQnJ5d65sPBwUGcsPrC+fPn39zJvwkPD4eNjQ1mzJghLrt9+3axcsnJybh//z4sLS3F/aipqcHe3h5mZmawtLREYmIiPDw8yrV/ovLgJE8iqrI8PDxQo0YN9O7dG6dPn8atW7dw4sQJjB8/Hnfv3gUATJgwAQsXLkRYWBhiY2Px9ddfv/YeFra2tvD09MSwYcMQFhYm1rlz504AgI2NDWQyGfbv34/Hjx9DoVBALpdjypQpmDRpErZs2YKEhARcunQJq1evFidOjho1Cjdu3ICPjw/i4uIQEhKCoKCgcvW3fv36SE5ORmhoKBISErBq1aoSJ6zq6OjA09MT0dHROH36NMaPH48BAwbA3NwcADB79mwsWLAAq1atQnx8PK5cuYLNmzdj2bJl5WoP0eswYBBRlaWnp4dTp07B2toa/fr1g4ODA7y8vJCTkyOe0Zg8eTK++uoreHp6onXr1pDL5ejbt+9r6127di0+++wzfP3112jYsCFGjBiB7OxsAECtWrUwe/ZsTJs2DWZmZhg7diwAICAgAH5+fliwYAEcHBzQrVs3HDhwAHXq1AFQNC9i165dCAsLQ5MmTfDjjz9i/vz55epvr169MGnSJIwdOxbOzs4IDw+Hn59fsXL16tVDv3798Omnn6Jr165o3LixymWow4cPx4YNG7B582Y4OTmhQ4cOCAoKEttKJAWZUNpMJyIiIqJ/iGcwiIiISHIMGERERCQ5BgwiIiKSHAMGERERSY4Bg4iIiCTHgEFERESSY8AgIiIiyTFgEBERkeQYMIiIiEhyDBhEREQkOQYMIiIikhwDBhEREUnu/wHvErZVzmA0igAAAABJRU5ErkJggg==",
>>>>>>> a49bd5a1fa9e08371ab8e3f91faa347295561458
      "text/plain": [
       "<Figure size 640x480 with 1 Axes>"
      ]
     },
     "metadata": {},
     "output_type": "display_data"
    }
   ],
   "source": [
    "cm = metrics.confusion_matrix(Y_test, Y_preds)\n",
    "metrics.ConfusionMatrixDisplay(cm, display_labels=[\"damage_grade 0\", \"damage_grade 1\", \"damage_grade 2\"]).plot(cmap=\"magma\", colorbar=False)\n",
    "print(cm)"
   ]
  },
  {
   "cell_type": "code",
<<<<<<< HEAD
   "execution_count": 26,
=======
   "execution_count": 19,
>>>>>>> a49bd5a1fa9e08371ab8e3f91faa347295561458
   "metadata": {},
   "outputs": [
    {
     "data": {
      "text/plain": [
       "0.5201867133140704"
      ]
     },
<<<<<<< HEAD
     "execution_count": 26,
=======
     "execution_count": 19,
>>>>>>> a49bd5a1fa9e08371ab8e3f91faa347295561458
     "metadata": {},
     "output_type": "execute_result"
    }
   ],
   "source": [
    "metrics.f1_score(Y_test, Y_preds, average=\"macro\")"
   ]
  },
  {
   "cell_type": "markdown",
   "metadata": {},
   "source": [
    "---"
   ]
  },
  {
   "cell_type": "markdown",
   "metadata": {},
   "source": [
    "## PCA "
   ]
  },
  {
   "cell_type": "markdown",
   "metadata": {},
   "source": [
    "- Scale"
   ]
  },
  {
   "cell_type": "code",
<<<<<<< HEAD
   "execution_count": 35,
=======
   "execution_count": 20,
>>>>>>> a49bd5a1fa9e08371ab8e3f91faa347295561458
   "metadata": {},
   "outputs": [],
   "source": [
    "X0 = X_encoded.copy(deep=True)\n",
    "scaler = StandardScaler()\n",
    "scaled_X0 = scaler.fit_transform(X0)\n",
    "# X0.iloc[:,continuous_idxs] = scaled_X0"
   ]
  },
  {
   "cell_type": "code",
<<<<<<< HEAD
   "execution_count": 36,
=======
   "execution_count": 21,
>>>>>>> a49bd5a1fa9e08371ab8e3f91faa347295561458
   "metadata": {},
   "outputs": [
    {
     "data": {
      "text/plain": [
       "(260601, 10)"
      ]
     },
<<<<<<< HEAD
     "execution_count": 36,
=======
     "execution_count": 21,
>>>>>>> a49bd5a1fa9e08371ab8e3f91faa347295561458
     "metadata": {},
     "output_type": "execute_result"
    }
   ],
   "source": [
    "pca = PCA(n_components=10)\n",
    "pca_X0 = pca.fit_transform(scaled_X0)\n",
    "pca_X0.shape"
   ]
  },
  {
   "cell_type": "code",
<<<<<<< HEAD
   "execution_count": 37,
=======
   "execution_count": 22,
>>>>>>> a49bd5a1fa9e08371ab8e3f91faa347295561458
   "metadata": {},
   "outputs": [],
   "source": [
    "X0_train, X0_test, Y0_train, Y0_test = train_test_split(pca_X0, Y,test_size=0.2, random_state=192)"
   ]
  },
  {
   "cell_type": "markdown",
   "metadata": {},
   "source": [
    "- Vì dữ liệu toàn liên tục nên sử dụng luôn GaussianNB"
   ]
  },
  {
   "cell_type": "code",
<<<<<<< HEAD
   "execution_count": 38,
=======
   "execution_count": 23,
>>>>>>> a49bd5a1fa9e08371ab8e3f91faa347295561458
   "metadata": {},
   "outputs": [
    {
     "name": "stderr",
     "output_type": "stream",
     "text": [
      "d:\\Python\\Lib\\site-packages\\sklearn\\utils\\validation.py:1300: DataConversionWarning: A column-vector y was passed when a 1d array was expected. Please change the shape of y to (n_samples, ), for example using ravel().\n",
      "  y = column_or_1d(y, warn=True)\n"
     ]
    }
   ],
   "source": [
    "start = dt.now()\n",
    "gauss = GaussianNB()\n",
    "gauss.fit(X0_train, Y0_train)\n",
    "Y0_preds = gauss.predict(X0_test)\n",
    "running_secs = (dt.now() - start).microseconds\n"
   ]
  },
  {
   "cell_type": "code",
<<<<<<< HEAD
   "execution_count": 39,
=======
   "execution_count": 24,
>>>>>>> a49bd5a1fa9e08371ab8e3f91faa347295561458
   "metadata": {},
   "outputs": [
    {
     "name": "stdout",
     "output_type": "stream",
     "text": [
<<<<<<< HEAD
      "time: 111126 microsecs\n"
=======
      "time: 92035 microsecs\n"
>>>>>>> a49bd5a1fa9e08371ab8e3f91faa347295561458
     ]
    }
   ],
   "source": [
    "print(f\"time: {running_secs} microsecs\")"
   ]
  },
  {
   "cell_type": "code",
<<<<<<< HEAD
   "execution_count": 40,
=======
   "execution_count": 25,
>>>>>>> a49bd5a1fa9e08371ab8e3f91faa347295561458
   "metadata": {},
   "outputs": [
    {
     "name": "stdout",
     "output_type": "stream",
     "text": [
      "              precision    recall  f1-score   support\n",
      "\n",
<<<<<<< HEAD
      "           0     0.3988    0.4767    0.4343      5056\n",
      "           1     0.5998    0.2652    0.3677     29611\n",
      "           2     0.3936    0.7439    0.5148     17454\n",
      "\n",
      "    accuracy                         0.4460     52121\n",
      "   macro avg     0.4641    0.4952    0.4390     52121\n",
      "weighted avg     0.5112    0.4460    0.4235     52121\n",
=======
      "           0     0.4358    0.3799    0.4060      5056\n",
      "           1     0.6016    0.7767    0.6781     29611\n",
      "           2     0.5088    0.2764    0.3582     17454\n",
      "\n",
      "    accuracy                         0.5707     52121\n",
      "   macro avg     0.5154    0.4777    0.4808     52121\n",
      "weighted avg     0.5545    0.5707    0.5446     52121\n",
>>>>>>> a49bd5a1fa9e08371ab8e3f91faa347295561458
      "\n"
     ]
    }
   ],
   "source": [
    "print(metrics.classification_report(Y0_test, Y0_preds, digits=4))"
   ]
  },
  {
   "cell_type": "code",
<<<<<<< HEAD
   "execution_count": 41,
=======
   "execution_count": 26,
>>>>>>> a49bd5a1fa9e08371ab8e3f91faa347295561458
   "metadata": {},
   "outputs": [
    {
     "data": {
      "text/plain": [
<<<<<<< HEAD
       "<sklearn.metrics._plot.confusion_matrix.ConfusionMatrixDisplay at 0x1c3f2a30c50>"
      ]
     },
     "execution_count": 41,
=======
       "<sklearn.metrics._plot.confusion_matrix.ConfusionMatrixDisplay at 0x27c9257ca50>"
      ]
     },
     "execution_count": 26,
>>>>>>> a49bd5a1fa9e08371ab8e3f91faa347295561458
     "metadata": {},
     "output_type": "execute_result"
    },
    {
     "data": {
<<<<<<< HEAD
      "image/png": "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",
=======
      "image/png": "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",
>>>>>>> a49bd5a1fa9e08371ab8e3f91faa347295561458
      "text/plain": [
       "<Figure size 640x480 with 1 Axes>"
      ]
     },
     "metadata": {},
     "output_type": "display_data"
    }
   ],
   "source": [
    "cm = metrics.confusion_matrix(Y0_preds, Y0_test)\n",
    "metrics.ConfusionMatrixDisplay(cm).plot(cmap=\"magma\", colorbar=False)"
   ]
  },
  {
   "cell_type": "code",
   "execution_count": 28,
   "metadata": {},
   "outputs": [
    {
     "name": "stdout",
     "output_type": "stream",
     "text": [
      "[[ 1921  2120   367]\n",
      " [ 2968 23000 12262]\n",
      " [  167  4491  4825]]\n"
     ]
    }
   ],
   "source": [
    "print(cm)"
   ]
  },
  {
   "cell_type": "markdown",
   "metadata": {},
   "source": [
    "---"
   ]
  },
  {
   "cell_type": "markdown",
   "metadata": {},
   "source": [
    "## So sánh"
   ]
  },
  {
   "cell_type": "markdown",
   "metadata": {},
   "source": [
    "Ko PCA:\n",
    "- accuracy: 0.5717\n",
    "- F1: 0.5193\n",
    "- Recall: 0.5302\n",
    "\n",
    "PCA:\n",
    "- accuracy: 0.5718\n",
    "- F1: 0.4812\n",
    "- Recall: 0.5464"
   ]
  },
  {
   "cell_type": "markdown",
   "metadata": {},
   "source": [
    "- Độ chính xác không thay đổi nhiều: PCA không ảnh hưởng đáng kể đến độ chính xác của mô hình.\n",
    "- F1 Score giảm: Sự giảm sút của F1 Score (từ 0.5193 xuống 0.4812) cho thấy sự giảm cân bằng giữa precision và recall, có nghĩa là mô hình trở nên kém hiệu quả hơn trong việc cân bằng giữa các trường hợp TP và số lượng các trường hợp được nhận diện.\n",
    "- Recall tăng: Việc tăng recall (từ 0.5302 lên 0.5464) cho thấy mô hình trở nên tốt hơn trong việc phát hiện các trường hợp Positives.\n"
   ]
  }
 ],
 "metadata": {
  "kernelspec": {
   "display_name": "Python 3",
   "language": "python",
   "name": "python3"
  },
  "language_info": {
   "codemirror_mode": {
    "name": "ipython",
    "version": 3
   },
   "file_extension": ".py",
   "mimetype": "text/x-python",
   "name": "python",
   "nbconvert_exporter": "python",
   "pygments_lexer": "ipython3",
   "version": "3.12.1"
  }
 },
 "nbformat": 4,
 "nbformat_minor": 2
}
