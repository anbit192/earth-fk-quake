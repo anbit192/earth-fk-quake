{
 "cells": [
  {
   "cell_type": "code",
   "execution_count": 1,
   "metadata": {},
   "outputs": [],
   "source": [
    "import pandas as pd\n",
    "import numpy as np\n",
    "from sklearn.model_selection import train_test_split\n",
    "from sklearn.naive_bayes import GaussianNB, MultinomialNB, BernoulliNB\n",
    "from mapping import map_str_values\n",
    "from sklearn import metrics\n"
   ]
  },
  {
   "cell_type": "markdown",
   "metadata": {},
   "source": [
    "## Data"
   ]
  },
  {
   "cell_type": "code",
   "execution_count": 2,
   "metadata": {},
   "outputs": [],
   "source": [
    "X = pd.read_csv(\"data/train_values.csv\", index_col=\"building_id\")\n",
    "Y = pd.read_csv(\"data/train_labels.csv\", index_col=\"building_id\") - 1\n",
    "# X = map_str_values(X)"
   ]
  },
  {
   "cell_type": "markdown",
   "metadata": {},
   "source": [
    "## Áp dụng one hot encode cho các biến phân loại "
   ]
  },
  {
   "cell_type": "code",
   "execution_count": 4,
   "metadata": {},
   "outputs": [
    {
     "data": {
      "text/plain": [
       "geo_level_1_id              int64\n",
       "geo_level_2_id              int64\n",
       "geo_level_3_id              int64\n",
       "count_floors_pre_eq         int64\n",
       "age                         int64\n",
       "                            ...  \n",
       "plan_configuration_u        int32\n",
       "legal_ownership_status_a    int32\n",
       "legal_ownership_status_r    int32\n",
       "legal_ownership_status_v    int32\n",
       "legal_ownership_status_w    int32\n",
       "Length: 68, dtype: object"
      ]
     },
     "execution_count": 4,
     "metadata": {},
     "output_type": "execute_result"
    }
   ],
   "source": [
    "X = pd.get_dummies(X, dtype=int)\n",
    "X.dtypes"
   ]
  },
  {
   "cell_type": "markdown",
   "metadata": {},
   "source": [
    "## Chia train, test"
   ]
  },
  {
   "cell_type": "code",
   "execution_count": 5,
   "metadata": {},
   "outputs": [
    {
     "data": {
      "text/plain": [
       "(195450, 68)"
      ]
     },
     "execution_count": 5,
     "metadata": {},
     "output_type": "execute_result"
    }
   ],
   "source": [
    "X_train, X_test, Y_train, Y_test = train_test_split(X, Y, test_size=0.25, random_state=192)\n",
    "X_train.shape"
   ]
  },
  {
   "cell_type": "markdown",
   "metadata": {},
   "source": [
    "## Model MixedNB kết hợp giữa GaussianNB và BernouliNB (Tự code)"
   ]
  },
  {
   "cell_type": "code",
   "execution_count": 24,
   "metadata": {},
   "outputs": [],
   "source": [
    "class MixedNB():\n",
    "    def __init__(self, gauss_index=None, bernouli_index=None):\n",
    "        self.gauss_index = gauss_index # Index để tính xs của gauss\n",
    "        self.bernouli_index = bernouli_index # Index để tính xs của bernouli\n",
    "\n",
    "\n",
    "    def fit(self, X, Y): # Lưu trữ, tính toán những tham số cần thiết cho 2 mô hình gaussianNB và bernouliNB\n",
    "        self.classes = np.unique(np.array(Y))\n",
    "        self.n_features = X.shape[1]\n",
    "        n_class = len(self.classes)\n",
    "        self.class_priors = np.empty(shape=(n_class))\n",
    "\n",
    "        self._calculate_stuffs(X, Y)\n",
    "\n",
    "    def _calculate_stuffs(self, X, Y): # Tính toán means, vars, các P(i|c)  \n",
    "        P_ic = []\n",
    "        means = []\n",
    "        vars_ = []\n",
    "\n",
    "        for k, c in enumerate(self.classes): # Lặp qua tất cả các class\n",
    "            Xc = X.iloc[np.where(Y == c)] # Lấy ra các X có cùng class\n",
    "            temp = [] # Mảng lưu trữ các xs P(i|C) của class c\n",
    "            temp_mean = [] # Mảng lưu trữ các mean của class c \n",
    "            temp_var = [] # Mảng lưu trữ các var của class c\n",
    "            self.class_priors[k] = (len(Xc)) / (len(X)) # Tính toán xs prior của class c\n",
    "            \n",
    "            for i in range(X.shape[1]): # Lặp qua tất cả các feature của các record có cùng class c\n",
    "                feat_probs_c = np.sum(Xc.iloc[:, i]) / len(Xc)\n",
    "\n",
    "                temp.append(feat_probs_c)\n",
    "                temp_mean.append(np.mean(Xc.iloc[:, i]))\n",
    "                temp_var.append(np.var(Xc.iloc[:, i]))\n",
    "\n",
    "            P_ic.append(temp)\n",
    "            means.append(temp_mean)\n",
    "            vars_.append(temp_var)\n",
    "\n",
    "        # Lưu trữ các ma trận xs, means, vars của tất cả các class\n",
    "        self.P_ic = np.array(P_ic)\n",
    "        self.means = np.array(means)\n",
    "        self.vars = np.array(vars_)\n",
    "\n",
    "\n",
    "    def _pdf_binomial(self, x, feat_probs_class): # Hàm pdf của pp nhị thức\n",
    "        return (feat_probs_class ** x) * ((1 - feat_probs_class) ** (1 - x))\n",
    "    \n",
    "\n",
    "    def _pdf_gauss(self, x, mean, variance): # Hàm pdf của pp gauss\n",
    "        exponent = np.exp(-((x - mean) ** 2) / (2 * variance))\n",
    "        return (1 / np.sqrt(2 * np.pi * variance)) * exponent\n",
    "    \n",
    "    \n",
    "    def _get_joint_probs(self, X): # Tính toán các xs posteriors\n",
    "\n",
    "        class_probs = [] \n",
    "        for x in X:\n",
    "            # print(x)\n",
    "            posts = []\n",
    "\n",
    "            for i in range(len(self.class_priors)):\n",
    "                post = np.log(self.class_priors[i]) # Lấy ra xs priors ứng với class thứ i\n",
    "\n",
    "                for j in range(X.shape[1]): # Xét theo index truyền vào để quyết định xem tính toán với pdf nào\n",
    "                    # print(\"buoi\")\n",
    "                    if j in self.gauss_index:\n",
    "                        post += np.log(self._pdf_gauss(x=x[j], mean=self.means[i,j], variance=self.vars[i, j]))\n",
    "                    elif j in self.bernouli_index:\n",
    "                        # print(\"loz\")\n",
    "                        post += np.log(self._pdf_binomial(x=x[j], feat_probs_class=self.P_ic[i, j]))\n",
    "\n",
    "                posts.append(post)\n",
    "            class_probs.append(posts)\n",
    "\n",
    "        return np.array(class_probs)\n",
    "    \n",
    "    \n",
    "    def predict(self, X):\n",
    "        probs = self._get_joint_probs(X)\n",
    "        # print(probs)\n",
    "        Y_preds = []\n",
    "        for prob in probs: # Lặp qua tất cả các xs posteriors\n",
    "            Y_preds.append(self.classes[np.argmax(prob)]) # Lấy index của xs max => Phân loại\n",
    "\n",
    "        return np.array(Y_preds)\n",
    "\n"
   ]
  },
  {
   "cell_type": "markdown",
   "metadata": {},
   "source": [
    "- Do bộ data có nhiều loại dữ liệu, cụ thể là feature từ (0-6) là liên tục, feature (7-n) là binary (Do đã áp dụng one hot encode) nên chúng ta có thể truyền dữ liệu index dưới dạng range"
   ]
  },
  {
   "cell_type": "code",
   "execution_count": 25,
   "metadata": {},
   "outputs": [],
   "source": [
    "mixNB = MixedNB(range(0, 6), range(7,X_train.shape[1]))\n",
    "mixNB.fit(X_train, Y_train[\"damage_grade\"])\n"
   ]
  },
  {
   "cell_type": "code",
   "execution_count": 26,
   "metadata": {},
   "outputs": [
    {
     "name": "stderr",
     "output_type": "stream",
     "text": [
      "C:\\Users\\Admin\\AppData\\Local\\Temp\\ipykernel_14276\\3629321643.py:68: RuntimeWarning: invalid value encountered in log\n",
      "  post += np.log(self._pdf_binomial(x=x[j], feat_probs_class=self.P_ic[i, j]))\n",
      "C:\\Users\\Admin\\AppData\\Local\\Temp\\ipykernel_14276\\3629321643.py:68: RuntimeWarning: divide by zero encountered in log\n",
      "  post += np.log(self._pdf_binomial(x=x[j], feat_probs_class=self.P_ic[i, j]))\n"
     ]
    },
    {
     "data": {
      "text/plain": [
       "(65151,)"
      ]
     },
     "execution_count": 26,
     "metadata": {},
     "output_type": "execute_result"
    }
   ],
   "source": [
    "preds = mixNB.predict(X_test.to_numpy())\n",
    "preds.shape"
   ]
  },
  {
   "cell_type": "markdown",
   "metadata": {},
   "source": [
    "- Do code chưa tối ưu về thuật toán nên thời gian chạy khá lâu (20 - 30s) nhưng độ chính xác cũng không quá kém với những mô hình NB khác "
   ]
  },
  {
   "cell_type": "code",
   "execution_count": 23,
   "metadata": {},
   "outputs": [
    {
     "name": "stdout",
     "output_type": "stream",
     "text": [
      "              precision    recall  f1-score   support\n",
      "\n",
      "           0       0.39      0.43      0.41      6275\n",
      "           1       0.65      0.32      0.43     37165\n",
      "           2       0.40      0.74      0.52     21711\n",
      "\n",
      "    accuracy                           0.47     65151\n",
      "   macro avg       0.48      0.50      0.45     65151\n",
      "weighted avg       0.54      0.47      0.46     65151\n",
      "\n"
     ]
    }
   ],
   "source": [
    "print(metrics.classification_report(Y_test, preds))"
   ]
  },
  {
   "cell_type": "code",
   "execution_count": 45,
   "metadata": {},
   "outputs": [
    {
     "name": "stdout",
     "output_type": "stream",
     "text": [
      "[[ 2683  1301  2291]\n",
      " [ 3652 11847 21666]\n",
      " [  533  5098 16080]]\n"
     ]
    },
    {
     "data": {
      "image/png": "[encoded data removed]",
      "text/plain": [
       "<Figure size 640x480 with 1 Axes>"
      ]
     },
     "metadata": {},
     "output_type": "display_data"
    }
   ],
   "source": [
    "cm = metrics.confusion_matrix(Y_test, preds)\n",
    "metrics.ConfusionMatrixDisplay(cm, display_labels=[\"damage_grade 0\", \"damage_grade 1\", \"damage_grade 2\"]).plot(cmap=\"magma\", colorbar=False)\n",
    "print(cm)"
   ]
  }
 ],
 "metadata": {
  "kernelspec": {
   "display_name": "Python 3",
   "language": "python",
   "name": "python3"
  },
  "language_info": {
   "codemirror_mode": {
    "name": "ipython",
    "version": 3
   },
   "file_extension": ".py",
   "mimetype": "text/x-python",
   "name": "python",
   "nbconvert_exporter": "python",
   "pygments_lexer": "ipython3",
   "version": "3.11.3"
  }
 },
 "nbformat": 4,
 "nbformat_minor": 2
}
